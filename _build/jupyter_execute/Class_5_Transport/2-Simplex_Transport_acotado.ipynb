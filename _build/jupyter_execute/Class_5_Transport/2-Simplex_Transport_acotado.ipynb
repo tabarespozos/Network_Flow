{
 "cells": [
  {
   "cell_type": "markdown",
   "metadata": {},
   "source": [
    "## **Lectura 3: Simplex de transporte con variables acotodas** "
   ]
  },
  {
   "cell_type": "markdown",
   "metadata": {},
   "source": [
    "Un problema de transporte con variables acotadas es un problema de programación lineal en el que se busca minimizar el costo de transporte de un conjunto de fuentes a un conjunto de destinos, donde cada fuente tiene una cantidad limitada de producto que puede enviar y cada destino tiene una cantidad limitada de producto que puede recibir.\n",
    "\n",
    "La forrmulación matemática de este problema es la siguiente:\n",
    "\n",
    "$$\\min_{x_{ij}} \\sum_{i=1}^{m} \\sum_{j=1}^{n} c_{ij} x_{ij}$$\n",
    "\n",
    "Sujeto a:\n",
    "\n",
    "$$\\sum_{j=1}^{n} x_{ij} = a_{i} \\quad \\forall i \\in \\{1,2,...,m\\}$$\n",
    "\n",
    "$$\\sum_{i=1}^{m} x_{ij} = b_{j} \\quad \\forall j \\in \\{1,2,...,n\\}$$\n",
    "\n",
    "$$x_{ij} \\geq l_{ij} \\quad \\forall i \\in \\{1,2,...,m\\}, \\forall j \\in \\{1,2,...,n\\}$$\n",
    "\n",
    "$$x_{ij} \\leq u_{ij} \\quad \\forall i \\in \\{1,2,...,m\\}, \\forall j \\in \\{1,2,...,n\\}$$"
   ]
  },
  {
   "cell_type": "markdown",
   "metadata": {},
   "source": [
    "### Recordando el método simplex para el problema de transporte\n",
    "\n",
    "1. Se construye una solución básica factible inicial (SBFI) con $m+n-1$ variables básicas.\n",
    "2. Se calculan los costos reducidos de las variables no básicas.\n",
    "3. Si todos los costos reducidos son no negativos, la SBFI es óptima y el algoritmo termina.\n",
    "4. Si existe al menos un costo reducido negativo, se selecciona una variable no básica con costo reducido negativo y se calculan los incrementos de las variables básicas.\n",
    "5. Si todos los incrementos son no positivos, el problema no tiene solución óptima y el algoritmo termina.\n",
    "6. Si existe al menos un incremento positivo, se selecciona la variable básica que sale de la base y se calcula la SBFI para la siguiente iteración."
   ]
  },
  {
   "cell_type": "markdown",
   "metadata": {},
   "source": [
    "Como siempre, podemos transformar el problema de transporta a su versión canónica y resolverlo, pero como evaluamos en anteriores clases:\n",
    "\n",
    "- El preenvío de $l_{ij}$ es bastante fácil y solo implica un cambio de variable. \n",
    "\n",
    "- Ahora, el cambio de variable para eliminar la cota superior $u_{ij}$ es más complicado y requiere la introducción de variables artificiales, una por cada cota superior. Esto aumenta el tamaño del problema. \n",
    "\n",
    "Podemos sin embargo, modificar el método simplex para que funcione con variables acotadas. Para esto, debemos modificar los pasos 2, 3 y 4 del método simplex para el problema de transporte."
   ]
  },
  {
   "cell_type": "markdown",
   "metadata": {},
   "source": [
    "### Paso 2: Cálculo de los costos reducidos\n",
    "\n",
    "Para calcular los costos reducidos, debemos tener en cuenta que las variables del problema pueden encontrarse en tres estados diferentes:\n",
    "\n",
    "- **Variables básicas**: Estas variables básicas tienen un valor positivo y no toman el valor de sus cotas, esto es, $l_{ij} < x_{ij} < u_{ij}$. Caso alguna variable básica tome un valor igual a su cota, dicho arco es un arco básico degenerado.\n",
    "\n",
    "- **Variables no básicas acotadas inferiormente (l)**: Estas variables básicas tienen un valor positivo igual a su cota inferior  $l_{ij}$. \n",
    "\n",
    "- **Variables no básicas acotadas superiormente (u)**: Estas variables básicas tienen un valor positivo igual a su cota superior $u_{ij}$. \n",
    "\n",
    "\n",
    "Al igual que en el simplex de transporte sin cotas, los costos reducidos serán \n",
    "\n",
    "$$\\bar{c}_{ij} = c_{ij} - u_{i} - v_{j} \\forall (i,j)$$\n",
    "\n",
    "donde $u_{i}$ y $v_{j}$ son las variables duales de las restricciones de oferta y demanda respectivamente.\n",
    "\n",
    "En el caso de las variables básicas el costo reducido es igual a cero, esto es, $c_{ij}= u_{i} + v_{j}$."
   ]
  },
  {
   "cell_type": "markdown",
   "metadata": {},
   "source": [
    "### Paso 3: Condiciones de óptimalidad \n",
    "\n",
    "1. Si $(i,j)$ es un arco básico, entonces $\\bar{c}_{ij} = 0$.\n",
    "\n",
    "2. Si $(i,j)$ es un arco no básico acotado inferiormente, $x_{ij} = l_{ij}$, entonces $\\bar{c}_{ij} \\leq 0$.\n",
    "\n",
    "3. Si $(i,j)$ es un arco no básico acotado superiormente, $x_{ij} = u_{ij}$, entonces $\\bar{c}_{ij} \\leq 0$.\n"
   ]
  },
  {
   "cell_type": "markdown",
   "metadata": {},
   "source": [
    "### Paso 4: Variable entrante\n",
    "\n",
    "Para seleccionar la variable entrante, debemos tener en cuenta que las variables del problema pueden encontrarse en dos estados diferentes:\n",
    "\n",
    "\n",
    "- **Variables no básicas acotadas inferiormente (l)**: Estas variables básicas tienen un valor positivo igual a su cota inferior  $l_{ij}$. Se requiere que el costo reducido sea negativo, esto es, $\\bar{c}_{ij} < 0$.\n",
    "\n",
    "\n",
    "- **Variables no básicas acotadas superiormente (u)**: Estas variables básicas tienen un valor positivo igual a su cota superior $u_{ij}$. Se requiere que el costo reducido sea negativo, esto es, $\\bar{c}_{ij} > 0$.\n",
    "\n",
    "Podemos continuar con nuestra regla de entrar a la base la variable que primero represente una oportunidad de mejora, sin embargo, recuerde que existen muchas estrategias, como vimos en el ejemplo de clase, algunas veces se puede pedir que elija aquella con el máximo valor absoluto $\\bar{c}_{ij}$.\n"
   ]
  },
  {
   "cell_type": "markdown",
   "metadata": {},
   "source": [
    "\n",
    "### Cálculo de los incrementos\n",
    "\n",
    "la regla para calcular los incrementos es un poco mas complicada que el simplex de transporte sin cotas:\n",
    "\n",
    "- Recuerde que con base en la dirección del flujo, los arcos que son recorridos en dirección contraria tendran un decremento de su flujo y aquellos que tengan el mismo sentido del flujo tendrán un incremento de su flujo.\n",
    "\n",
    "    - Si la variable entrante es no básica acotada inferiormente, $x_{ij} = l_{ij}$, entonces:\n",
    "\n",
    "        - para las variables que tienen el mismo sentido del flujo, el incremento $\\Delta_{ij}^+$ es igual a $\\min_{(ij \\in Forward)}\\{u_{ij} - x_{ij}\\}$.\n",
    "        - para las variables que tienen el sentido contrario del flujo, el decremento $\\Delta_{ij}^-$ es igual a $\\min_{(ij \\in Backward)}\\{x_{ij} - l_{ij}\\}$.\n",
    "        - para el arco entrante en cuestion $\\Delta_{ij}^0$ es igual a $u_{ij} - l_{ij}$.\n",
    "        -Posteriormente se elige el incremento como el mínimo de los incrementos calculados, esto es, $\\Delta_{ij}^* = \\min\\{\\Delta_{ij}^+, \\Delta_{ij}^-, \\Delta_{ij}^0\\}$.\n",
    "    - Si $\\Delta_{ij}^*=\\Delta_{ij}^+$,entonces cualquier arco que da lugar a $\\Delta_{ij}^+$ pasa a su cota superior y sale de la base.\n",
    "    - Si $\\Delta_{ij}^*=\\Delta_{ij}^-$,entonces cualquier arco que da lugar a $\\Delta_{ij}^-$ pasa a su cota inferior y sale de la base.\n",
    "    - Si $\\Delta_{ij}^*=\\Delta_{ij}^0$,entonces el arco entrante en cuestion pasa de su cota inferior a su cota superior (solo cambio de cota, recuerda que esto nos pasó en el ejemplo acotado para el problema de flujo a costo mínimo), no hay cambio de base, pero si de flujos, si no hay cambio de base, no hay cambio en los costos reducidos.\n",
    "\n",
    "    - Si la variable entrante es no básica acotada superiormente, $x_{ij} = u_{ij}$, entonces:\n",
    "\n",
    "        - para las variables que tienen el sentido contrario del flujo, el incremento $\\Delta_{ij}^+$ es igual a $\\min_{(ij \\in Backward)}\\{u_{ij} - x_{ij}\\}$.\n",
    "        - para las variables que tienen el mismo sentido del flujo, el decremento $\\Delta_{ij}^-$ es igual a $\\min_{(ij \\in Forward)}\\{x_{ij} - l_{ij}\\}$.\n",
    "        - para el arco entrante en cuestion $\\Delta_{ij}^0$ es igual a $u_{ij} - l_{ij}$.\n",
    "        -Posteriormente se elige el incremento como el mínimo de los incrementos calculados, esto es, $\\Delta_{ij}^* = \\min\\{\\Delta_{ij}^+, \\Delta_{ij}^-, \\Delta_{ij}^0\\}$.\n",
    "    - Si $\\Delta_{ij}^*=\\Delta_{ij}^+$,entonces cualquier arco que da lugar a $\\Delta_{ij}^+$ pasa a su cota superior y sale de la base.\n",
    "    - Si $\\Delta_{ij}^*=\\Delta_{ij}^-$,entonces cualquier arco que da lugar a $\\Delta_{ij}^-$ pasa a su cota inferior y sale de la base.\n",
    "    - Si $\\Delta_{ij}^*=\\Delta_{ij}^0$,entonces el arco entrante en cuestion pasa de su cota inferior a su cota superior (solo cambio de cota, recuerda que esto nos pasó en el ejemplo acotado para el problema de flujo a costo mínimo), no hay cambio de base, pero si de flujos, si no hay cambio de base, no hay cambio en los costos reducidos."
   ]
  },
  {
   "cell_type": "markdown",
   "metadata": {},
   "source": [
    "![](../Images/TACO1.png)"
   ]
  },
  {
   "cell_type": "markdown",
   "metadata": {},
   "source": [
    "![](../Images/TACO2.png)"
   ]
  },
  {
   "cell_type": "markdown",
   "metadata": {},
   "source": [
    "![](../Images/TACO3.png)"
   ]
  },
  {
   "cell_type": "markdown",
   "metadata": {},
   "source": [
    "![](../Images/TACO4.png)"
   ]
  },
  {
   "cell_type": "markdown",
   "metadata": {},
   "source": [
    "![](../Images/TACO5.png)"
   ]
  },
  {
   "cell_type": "markdown",
   "metadata": {},
   "source": [
    "### Como calcular una solución básica factible inicial\n",
    "\n",
    "- Fijar las cotas inferiores: $x_{ij} = l_{ij}$.\n",
    "\n",
    "![](../Images/TACO6.png)\n",
    "\n"
   ]
  },
  {
   "cell_type": "code",
   "execution_count": null,
   "metadata": {
    "vscode": {
     "languageId": "plaintext"
    }
   },
   "outputs": [],
   "source": [
    "- Ajustar ofertas y demandas \n",
    "\n",
    "![](../Images/TACO7.png)"
   ]
  },
  {
   "cell_type": "markdown",
   "metadata": {},
   "source": [
    "- Realizar dicha asignación basado en el costo mínimo.\n",
    "\n",
    "![](../Images/TACO8.png)"
   ]
  },
  {
   "cell_type": "markdown",
   "metadata": {},
   "source": [
    "![](../Images/TACO9.png)"
   ]
  }
 ],
 "metadata": {
  "kernelspec": {
   "display_name": "Python 3",
   "language": "python",
   "name": "python3"
  },
  "language_info": {
   "codemirror_mode": {
    "name": "ipython",
    "version": 3
   },
   "file_extension": ".py",
   "mimetype": "text/x-python",
   "name": "python",
   "nbconvert_exporter": "python",
   "pygments_lexer": "ipython3",
   "version": "3.11.5"
  },
  "widgets": {
   "application/vnd.jupyter.widget-state+json": {
    "state": {},
    "version_major": 2,
    "version_minor": 0
   }
  }
 },
 "nbformat": 4,
 "nbformat_minor": 4
}