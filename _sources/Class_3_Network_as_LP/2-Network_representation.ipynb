{
 "cells": [
  {
   "cell_type": "markdown",
   "metadata": {},
   "source": [
    "## **Lectura 2: Representaciones de los problemas de flujo** "
   ]
  },
  {
   "cell_type": "markdown",
   "metadata": {},
   "source": [
    "### Formas de representar un gráfo\n",
    "\n",
    "1. Representación matemática analítica $G= (N,A)$\n",
    "    * Demostraciones formales\n",
    "    * Análisis de complejidad\n",
    "2. Representaciòn gráfica\n",
    "    * Visualización\n",
    "    * Intuición\n",
    "    * Comunicación\n",
    "3. Representación computacional\n",
    "    * Algoritmos\n",
    "    * Estructuras de datos\n",
    "    * La representación escogida afectará el desempeño de los algoritmos\n",
    "    \n",
    "Dos tipos de información:\n",
    "1. Topología\n",
    "    * Nodos\n",
    "    * Arcos\n",
    "2. Datos asociados a nodos y arcos\n",
    "    * Costos\n",
    "    * Capacidad\n",
    "    * Demanda\n",
    "    * etc.\n",
    "\n",
    "Dos tipos de representación numérica:\n",
    "1. Matrices\n",
    "    * Matriz de adyacencia\n",
    "    * Matriz de incidencia\n",
    "2. Listas\n",
    "    * Lista de adyacencia\n",
    "    * Lista de incidencia"
   ]
  },
  {
   "cell_type": "markdown",
   "metadata": {},
   "source": [
    "## Representaciones de Redes en Optimización para Flujo en Redes\n",
    "\n",
    "En el estudio de optimización de flujo en redes, es crucial poder representar y manipular redes de manera eficiente. Hay varias formas de representar una red, y la elección de una representación puede depender de las necesidades específicas del problema a resolver. Basándonos en el libro de Ahuja, abordaremos las siguientes representaciones:\n",
    "\n",
    "1. Matriz de Incidencia Nodo-Arco\n",
    "2. Matriz de Incidencia Nodo-Nodo\n",
    "3. Lista de Adjacencia\n",
    "4. Forward and Reverse Star Representation\n",
    "\n",
    "Ahora, examinaremos cada una de ellas.\n"
   ]
  },
  {
   "cell_type": "markdown",
   "metadata": {},
   "source": [
    "\n",
    "### 1. Matriz de Incidencia Nodo-Arco\n",
    "\n",
    "Para una red con $ n $ nodos y $ m $ arcos, la matriz de incidencia nodo-arco es una matriz $ n \\times m $. Cada columna representa un arco y cada fila un nodo. \n",
    "\n",
    "**Cuándo usarla:** Es especialmente útil para problemas en los que necesitamos saber cómo los arcos están conectados a los nodos, por ejemplo, en problemas de corte mínimo.\n",
    "\n",
    "\n",
    "**Ejemplo:** Considere una red simple con tres nodos y tres arcos: (1,2), (2,3) y (1,3).\n"
   ]
  },
  {
   "cell_type": "code",
   "execution_count": 1,
   "metadata": {},
   "outputs": [
    {
     "data": {
      "image/png": "[encoded data removed]",
      "text/plain": [
       "<Figure size 640x480 with 1 Axes>"
      ]
     },
     "metadata": {},
     "output_type": "display_data"
    }
   ],
   "source": [
    "import numpy as np\n",
    "import networkx as nx\n",
    "import matplotlib.pyplot as plt\n",
    "\n",
    "G = nx.DiGraph()\n",
    "G.add_edges_from([(1,2), (2,3), (1,3)])\n",
    "\n",
    "# Mostrar el grafo\n",
    "pos = nx.spring_layout(G)\n",
    "nx.draw(G, pos, with_labels=True)\n",
    "plt.show()"
   ]
  },
  {
   "cell_type": "markdown",
   "metadata": {},
   "source": [
    "La matriz de incidencia nodo-arco es:\n",
    "\n",
    "```\n",
    "   (1,2) (2,3) (1,3)\n",
    "1    -1      0      -1\n",
    "2     1     -1       0\n",
    "3     0      1       1\n",
    "```\n",
    "\n",
    "**Note que**\n",
    "1. es una matriz de $nxm$ donde $n$ es el número de nodos y $m$ es el número de arcos.\n",
    "2. Cada columna representa un arco y cada fila un nodo.\n",
    "3. Los elementos de la matriz son 0, 1 o -1. Un 1 en la fila $i$ y la columna $j$ indica que el arco $j$ sale del nodo $i$. Un -1 en la fila $i$ y la columna $j$ indica que el arco $j$ entra al nodo $i$. Un 0 en la fila $i$ y la columna $j$ indica que el arco $j$ no está conectado al nodo $i$."
   ]
  },
  {
   "cell_type": "markdown",
   "metadata": {},
   "source": [
    "**Ejemplo**\n",
    "Los datos se envían desde los servidores de los nodos 1 y 2 a los terminales de los nodos 3, 4, 5. El coste del tráfico en el enlace entre los nodos i y j es $c_{ij}$ SEK/Kbyte. Queremos minimizar el coste total del tráfico de datos.\n",
    "\n",
    "![image.png](../Images/arc-node-matrix1.png)\n",
    "\n",
    "![image.png](../Images/arc-node-matrix2.png)\n",
    "\n",
    "![image.png](../Images/arc-node-matrix3.png)"
   ]
  },
  {
   "cell_type": "markdown",
   "metadata": {},
   "source": [
    "**Ejemplo 2**\n",
    "\n",
    "![image.png](../Images/arc-node-matrix.png)"
   ]
  },
  {
   "cell_type": "markdown",
   "metadata": {},
   "source": [
    "\n",
    "### 2. Matriz de Incidencia Nodo-Nodo\n",
    "\n",
    "Esta es una matriz $n \\times n$  donde el elemento en la fila $ i $ y la columna $ j $ indica si hay un arco entre el nodo $ i $ y el nodo $ j $.\n",
    "\n",
    "**Cuándo usarla:** Es útil cuando necesitamos acceder rápidamente a la información sobre la conectividad entre pares de nodos. Es eficiente para redes densas.\n",
    "\n",
    "\n",
    "**Ejemplo:**\n",
    "```\n",
    "   1  2  3\n",
    "1  0  1  1\n",
    "2  0  0  1\n",
    "3  0  0  0\n",
    "```\n"
   ]
  },
  {
   "cell_type": "markdown",
   "metadata": {},
   "source": [
    "**Note que**\n",
    "1. es una matriz de $nxn$ donde $n$ es el número de nodos.\n",
    "2. Cada columna representa un nodo y cada fila un nodo.\n",
    "3. Los elementos de la matriz son 0 o 1. Un 1 en la fila $i$ y la columna $j$ indica que hay un arco del nodo $i$ al nodo $j$. Un 0 en la fila $i$ y la columna $j$ indica que no hay un arco del nodo $i$ al nodo $j$.\n",
    "4. la suma de los elementos de la fila $i$ es igual al grado de salida del nodo $i$.\n",
    "5. la suma de los elementos de la columna $j$ es igual al grado de entrada del nodo $j$.\n",
    "6. La matriz posse $n^2$ elementos, de los cuales $m$ son distintos de cero. Por lo tanto, la matriz es ineficiente en redes dispersas: la mayoría de los elementos son cero.\n",
    "7. Cada atributo exige cerar una matriz. Por ejemplo, si se desea almacenar la capacidad de cada arco, se debe crear una matriz de capacidad de $nxn$.\n",
    "8. Revisar los arcos que salen de un nodo en particular exigen recorrer toda la fila, esto puede ser ineficiente en redes dispersas.\n",
    "\n",
    "\n"
   ]
  },
  {
   "cell_type": "markdown",
   "metadata": {},
   "source": [
    "**Preguntas de interes:**\n",
    "1. ¿Que representa $A^2$?\n",
    "\n",
    "El elemento $ij$ de $A^2$ es el número de caminos de longitud 2 entre el nodo $i$ y el nodo $j$. Es decir, el número de caminos que comienzan en el nodo $i$, pasan por un nodo intermedio y terminan en el nodo $j$.\n",
    "\n",
    "$$a'_{ij} = \\sum_{k=1}^n a_{ik}a_{kj}$$\n",
    " \n",
    "1. ¿Que representa $A^k$?"
   ]
  },
  {
   "cell_type": "markdown",
   "metadata": {},
   "source": [
    "\n",
    "### 3. Lista de Adjacencia\n",
    "\n",
    "En esta representación, para cada nodo, mantenemos una lista de los nodos a los que está directamente conectado. La red $G(N,A)$ se puede representar como un vector $V$ de dimensión $n$ que almacena la cabeza al comienzo de la lista del nodo $i$ . El orden de los elementos en la lista no es importante.\n",
    "\n",
    "**Cuándo usarla:** Es útil para recorridos en grafos y cuando el grafo es esparcido (tiene pocos arcos en comparación con el total posible).\n",
    "\n",
    "**Ejemplo:**\n",
    "\n",
    "![image.png](../Images/Lista_adyacencia.png)"
   ]
  },
  {
   "cell_type": "markdown",
   "metadata": {},
   "source": [
    "\n",
    "### 4. Forward Star Representation\n",
    "\n",
    "La representación de estrella hacia adelante almacena un grafo $G(N,A)$ en una serie de arreglos de dimensión $m$, que almacenan para cada arco cola, cabeza y costo. La cola del arco $j$ se almacena en el arreglo $tail$, la cabeza del arco $j$ se almacena en el arreglo $head$ y el costo del arco $j$ se almacena en el arreglo $cost$.\n",
    "\n",
    "**Cuándo usarla:** Es útil para algoritmos que necesitan considerar arcos en un solo sentido, como en los algoritmos de flujo máximo.\n",
    "\n",
    "**Ejemplo:**\n",
    "\n",
    "![image.png](../Images/forward.png)\n",
    "\n",
    "![image.png](../Images/forward2.png)\n",
    "\n",
    "**Note que**\n",
    "1. Podemos obtener el grado de salida de un nodo $i$ contando el número de veces que aparece el nodo $i$ en el arreglo $tail$.\n",
    "2. Podemos obtener el grado de salida del nodo $i$ contando el número de veces que aparece el nodo $i$ en el arreglo $head$.\n",
    "3. Usando el vector puntero, vemos que el grado de salida es $puntero(i+1)-puntero(i)$."
   ]
  },
  {
   "cell_type": "markdown",
   "metadata": {},
   "source": [
    "### 5. Barward Star Representation\n",
    "\n",
    "Estas son listas de nodos que están directamente conectados a un nodo particular, la representación de estrella hacia atrás da todos los nodos desde los que viene un arco.\n",
    "\n",
    "**Ejemplo:**\n",
    "\n",
    "![image.png](../Images/backward.png)\n",
    "\n",
    "![image.png](../Images/backward2.png)\n",
    "\n"
   ]
  },
  {
   "cell_type": "markdown",
   "metadata": {},
   "source": [
    "# Representación combinada\n",
    "\n",
    "Las últimas notaciones puede ser combinada sin necesidad de repetir información. Para esto creamos un vector de rastreo de dimensión $m$.\n",
    "\n",
    "![image.png](../Images/combinada.png)\n",
    "\n",
    "![image.png](../Images/combinada2.png)\n",
    "\n",
    "![image.png](../Images/combinada3.png)\n"
   ]
  }
 ],
 "metadata": {
  "kernelspec": {
   "display_name": "Python 3",
   "language": "python",
   "name": "python3"
  },
  "language_info": {
   "codemirror_mode": {
    "name": "ipython",
    "version": 3
   },
   "file_extension": ".py",
   "mimetype": "text/x-python",
   "name": "python",
   "nbconvert_exporter": "python",
   "pygments_lexer": "ipython3",
   "version": "3.9.13"
  },
  "widgets": {
   "application/vnd.jupyter.widget-state+json": {
    "state": {},
    "version_major": 2,
    "version_minor": 0
   }
  }
 },
 "nbformat": 4,
 "nbformat_minor": 4
}
