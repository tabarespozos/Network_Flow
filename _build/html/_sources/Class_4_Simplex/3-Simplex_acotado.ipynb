{
 "cells": [
  {
   "cell_type": "markdown",
   "metadata": {},
   "source": [
    "## **Lectura 3: Simplex con cotas** "
   ]
  },
  {
   "cell_type": "markdown",
   "metadata": {},
   "source": [
    "Conosideremos la versión con restricciones de capacidad del problema de flujo a costo mínimo. \n",
    "\n",
    "$$ min \\sum_{(i,j) \\in A} c_{ij} x_{ij} $$\n",
    "\n",
    "sujeto a\n",
    "\n",
    "$$ \\sum_{j|(i,j) \\in E} x_{ij} - \\sum_{j|(j,i) \\in E} x_{ji} = b_i \\, \\forall i \\in V $$\n",
    "\n",
    "$$ l_{ij} \\leq x_{ij} \\leq u_{ij} \\, \\forall (i,j) \\in A $$\n"
   ]
  },
  {
   "cell_type": "markdown",
   "metadata": {},
   "source": [
    "Este problema podría ser abordado de varias maneras: \n",
    "\n",
    "-  Agregando variables de holgura para las restricciones de capacidad.\n",
    "- Haciendo transformaciones a la red para eliminar los $u_{ij}$\n",
    "\n",
    "Sin embargo, existe una alternativa más eficiente. "
   ]
  },
  {
   "cell_type": "markdown",
   "metadata": {},
   "source": [
    "Se puede utilizar una versión ligeramente modificad del método simplex para resolver el problema.\n",
    "\n",
    "- Las variables no básicas pueden tomar dos valores: el de su cota inferior, o el de su cota superior.\n",
    "- Cuando se analizan los costos reducidos de $(ij)$ no basico, se deben considerar dos casos \n",
    "    - Si $x_{ij} = l_{ij}$, conviene aumentar el flijo en $(ij)$ si $ \\pi_i + c_{ij} - \\pi_j < 0$.\n",
    "    - Si $x_{ij} = u_{ij}$, conviene reducir el flijo en $(ij)$ si $ \\pi_i + c_{ij} - \\pi_j > 0$.\n",
    "- El paso $\\delta$ quedará determinado por la primera variable básica que alcance su cota inferior o superior.\n"
   ]
  },
  {
   "cell_type": "markdown",
   "metadata": {},
   "source": [
    "### Ejemplo 1"
   ]
  },
  {
   "cell_type": "markdown",
   "metadata": {},
   "source": [
    "![image.png](../Images/SIMPLEX_COT.png)"
   ]
  },
  {
   "cell_type": "markdown",
   "metadata": {},
   "source": [
    "- Observe que tenemos un árbol como solución basica factible.\n",
    "\n",
    "- Tenemos un arbol no determina totalmente la solución\n",
    "\n",
    "- Debemos definir si los arcos no básicos son $l_{ij}$ o $u_{ij}$, cuando definimos esto, definimos la solución.\n"
   ]
  },
  {
   "cell_type": "markdown",
   "metadata": {},
   "source": [
    "![image.png](../Images/SIMPLEX_COT2.png)"
   ]
  },
  {
   "cell_type": "markdown",
   "metadata": {},
   "source": [
    "Justo en este momento, se define la solución, esto es calculamos los flujos en los arcos básicos. Así la primera iteración del simplex es:\n",
    "\n",
    "![image.png](../Images/SIMPLEX_COT3.png)"
   ]
  },
  {
   "cell_type": "markdown",
   "metadata": {},
   "source": [
    "La segunda iteración del simplex es:\n",
    "\n",
    "![image.png](../Images/SIMPLEX_COT4.png)"
   ]
  },
  {
   "cell_type": "markdown",
   "metadata": {},
   "source": [
    "la tercera iteración del simplex es:\n",
    "\n",
    "![image.png](../Images/SIMPLEX_COT5.png)"
   ]
  },
  {
   "cell_type": "markdown",
   "metadata": {},
   "source": [
    "### Ejemplo 2\n",
    "![image.png](../Images/SIMPLEX_COT6.png)"
   ]
  },
  {
   "cell_type": "markdown",
   "metadata": {},
   "source": [
    "![image.png](../Images/SIMPLEX_COT7.png)"
   ]
  },
  {
   "cell_type": "markdown",
   "metadata": {},
   "source": [
    "![image.png](../Images/SIMPLEX_COT8.png)"
   ]
  },
  {
   "cell_type": "markdown",
   "metadata": {},
   "source": [
    "![image.png](../Images/SIMPLEX_COT9.png)"
   ]
  },
  {
   "cell_type": "markdown",
   "metadata": {},
   "source": [
    "### Observaciones:\n",
    "\n",
    "1. En el simplex de redes sin cotas, una solución queda definida por un conjunto de variables básicas. En el caso de simplex de redes con cotas, se necesita además conocer el estado $(l_{ij}, u_{ij})$ de cada variable no básica.\n",
    "2. Una variable puede entrar y volver a salir de la base como resultado de una misma iteración. \n",
    "3. Como obtengo una solución inicial? Que podemos hacer ???\n",
    "4. Como se ve una solución degenerada en este contexto? Se trata de soluciones con variables no básicas en sus cotas."
   ]
  },
  {
   "cell_type": "markdown",
   "metadata": {},
   "source": [
    "### Usando networkx para aplicar el método simplex\n",
    "\n",
    "La librería networkx tiene implementado el método simplex para resolver problemas de flujo de redes. Esta implementación es mucho mas sofisticada que el algoritmo original de SIPLEX para redes. Dentro de nuestra carpeta del bloque de lecturas encontrarás un archivo llamado `networkx_simplex.py` que contiene el código de la implementación de networkx, ademas del paper \"Implementacion_networksx_simplex\" donde se extraen las principales funciones de la implementación. \n",
    "\n",
    "Usarlo es bastante simple, intentemos resolver el problema de flujo de redes que vimos en el ejemplo anterior:"
   ]
  },
  {
   "cell_type": "code",
   "execution_count": 1,
   "metadata": {},
   "outputs": [
    {
     "data": {
      "image/png": "[encoded data removed]",
      "text/plain": [
       "<Figure size 640x480 with 1 Axes>"
      ]
     },
     "metadata": {},
     "output_type": "display_data"
    }
   ],
   "source": [
    "#import\n",
    "import networkx as nx\n",
    "import matplotlib.pyplot as plt\n",
    "import numpy as np\n",
    "import pandas as pd\n",
    "\n",
    "G = nx.DiGraph()\n",
    "G.add_node(\"a\", demand=-5)\n",
    "G.add_node(\"d\", demand=5)\n",
    "G.add_edge(\"a\", \"b\", weight=3, capacity=4)\n",
    "G.add_edge(\"a\", \"c\", weight=6, capacity=10)\n",
    "G.add_edge(\"b\", \"d\", weight=1, capacity=9)\n",
    "G.add_edge(\"c\", \"d\", weight=2, capacity=5)\n",
    "# graph the network\n",
    "pos = nx.spring_layout(G)\n",
    "nx.draw_networkx_nodes(G, pos)\n",
    "nx.draw_networkx_edges(G, pos)\n",
    "nx.draw_networkx_labels(G, pos)\n",
    "plt.show()\n"
   ]
  },
  {
   "cell_type": "code",
   "execution_count": 2,
   "metadata": {},
   "outputs": [
    {
     "data": {
      "text/plain": [
       "{'a': {'b': 4, 'c': 1}, 'd': {}, 'b': {'d': 4}, 'c': {'d': 1}}"
      ]
     },
     "execution_count": 2,
     "metadata": {},
     "output_type": "execute_result"
    }
   ],
   "source": [
    "flowCost, flowDict = nx.network_simplex(G)\n",
    "\n",
    "flowDict"
   ]
  },
  {
   "cell_type": "code",
   "execution_count": 3,
   "metadata": {},
   "outputs": [
    {
     "data": {
      "text/plain": [
       "24"
      ]
     },
     "execution_count": 3,
     "metadata": {},
     "output_type": "execute_result"
    }
   ],
   "source": [
    "flowCost"
   ]
  }
 ],
 "metadata": {
  "kernelspec": {
   "display_name": "Python 3",
   "language": "python",
   "name": "python3"
  },
  "language_info": {
   "codemirror_mode": {
    "name": "ipython",
    "version": 3
   },
   "file_extension": ".py",
   "mimetype": "text/x-python",
   "name": "python",
   "nbconvert_exporter": "python",
   "pygments_lexer": "ipython3",
   "version": "3.11.5"
  },
  "widgets": {
   "application/vnd.jupyter.widget-state+json": {
    "state": {},
    "version_major": 2,
    "version_minor": 0
   }
  }
 },
 "nbformat": 4,
 "nbformat_minor": 4
}
