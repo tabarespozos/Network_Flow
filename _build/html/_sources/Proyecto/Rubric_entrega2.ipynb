{
 "cells": [
  {
   "cell_type": "markdown",
   "metadata": {},
   "source": [
    "\n",
    "**Rúbrica:Estado del arte del Problema de Reconfiguración**\n",
    "\n"
   ]
  },
  {
   "cell_type": "markdown",
   "metadata": {},
   "source": [
    "\n",
    "**1. Cobertura Bibliográfica (20 Puntos)**\n",
    "\n",
    "- **(0-5 puntos)**: Menciona muy pocas o ninguna referencia relevante al problema.\n",
    "- **(6-10 puntos)**: Enumera algunas referencias, pero carece de profundidad o no cubre aspectos clave.\n",
    "- **(11-15 puntos)**: Incluye una variedad de fuentes, pero podría haber omitido algunas investigaciones o desarrollos clave.\n",
    "- **(16-20 puntos)**: Proporciona una cobertura bibliográfica exhaustiva y relevante, incluyendo los trabajos más importantes en el campo.\n",
    "\n",
    "\n",
    "\n",
    "**2. Descripción de Técnicas y Métodos Previos (20 Puntos)**\n",
    "\n",
    "- **(0-5 puntos)**: Falta describir técnicas y métodos o la descripción es demasiado vaga.\n",
    "- **(6-10 puntos)**: Describe algunas técnicas y métodos, pero carece de detalles o omite técnicas clave.\n",
    "- **(11-15 puntos)**: Proporciona una descripción clara de varias técnicas y métodos con ciertos detalles.\n",
    "- **(16-20 puntos)**: Describe detalladamente una amplia gama de técnicas y métodos, abordando sus fortalezas y debilidades.\n",
    "\n",
    "\n",
    "**3. Comparación de Enfoques Existentes (20 Puntos)**\n",
    "\n",
    "- **(0-5 puntos)**: No compara enfoques o realiza comparaciones superficiales sin análisis.\n",
    "- **(6-10 puntos)**: Realiza algunas comparaciones, pero carece de profundidad o no cubre enfoques clave.\n",
    "- **(11-15 puntos)**: Compara varios enfoques con un buen nivel de detalle, pero puede omitir algunos aspectos.\n",
    "- **(16-20 puntos)**: Realiza una comparación exhaustiva de enfoques, destacando sus ventajas, desventajas y aplicabilidad.\n",
    "\n",
    "\n",
    "\n",
    "**4. Brechas y Oportunidades en la Literatura (20 Puntos)**\n",
    "\n",
    "- **(0-5 puntos)**: No identifica brechas o oportunidades en la literatura existente.\n",
    "- **(6-10 puntos)**: Identifica algunas brechas o oportunidades pero sin mucho detalle o análisis.\n",
    "- **(11-15 puntos)**: Señala varias brechas y oportunidades con claridad y razonamiento.\n",
    "- **(16-20 puntos)**: Identifica y analiza en profundidad las brechas y oportunidades, sugiriendo posibles áreas para futura investigación.\n",
    "\n",
    "\n",
    "\n",
    "**5. Claridad y Organización (10 Puntos)**\n",
    "\n",
    "- **(0-2 puntos)**: La sección es desorganizada o difícil de seguir.\n",
    "- **(3-5 puntos)**: Tiene una estructura discernible pero puede carecer de transiciones fluidas o una secuencia lógica.\n",
    "- **(6-8 puntos)**: Está bien organizada con una secuencia lógica y buenas transiciones.\n",
    "- **(9-10 puntos)**: Está meticulosamente organizada, con una excelente cohesión y fluidez.\n",
    "\n",
    "\n",
    "\n",
    "**6. Gramática, Ortografía y Estilo de Escritura (10 Puntos)**\n",
    "\n",
    "- **(0-2 puntos)**: Múltiples errores que distraen del contenido. Estilo de escritura difícil de seguir. No realiza mejoras a pesar de las sugerencias.\n",
    "- **(3-5 puntos)**: Algunos errores en gramática y ortografía. Estilo claro pero con espacio para mejora. Realiza pocas mejoras a pesar de las sugerencias.\n",
    "- **(6-8 puntos)**: Pocos errores gramaticales y ortográficos. Estilo claro y conciso. Realiza algunas mejoras a pesar de las sugerencias.\n",
    "- **(9-10 puntos)**: Prácticamente sin errores. Estilo de escritura atractivo, claro y conciso. Realiza todas las mejoras sugeridas.\n",
    "\n"
   ]
  }
 ],
 "metadata": {
  "kernelspec": {
   "display_name": "Python 3",
   "language": "python",
   "name": "python3"
  },
  "language_info": {
   "codemirror_mode": {
    "name": "ipython",
    "version": 3
   },
   "file_extension": ".py",
   "mimetype": "text/x-python",
   "name": "python",
   "nbconvert_exporter": "python",
   "pygments_lexer": "ipython3",
   "version": "3.9.13"
  },
  "widgets": {
   "application/vnd.jupyter.widget-state+json": {
    "state": {},
    "version_major": 2,
    "version_minor": 0
   }
  }
 },
 "nbformat": 4,
 "nbformat_minor": 4
}
