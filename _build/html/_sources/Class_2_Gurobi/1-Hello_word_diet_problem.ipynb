{
 "cells": [
  {
   "cell_type": "markdown",
   "metadata": {},
   "source": [
    "## **Lectura 1: introducción a Gurobi python**"
   ]
  },
  {
   "cell_type": "markdown",
   "metadata": {},
   "source": [
    "**1. Instalación y configuración**\n",
    "\n",
    "- **Instala Gurobi:** Puedes descargarlo desde el sitio web oficial. Es importante seguir las instrucciones específicas de [instalación](https://www.gurobi.com/downloads/). \n",
    "- **Licencia:** Gurobi no es software libre, pero ofrece licencias académicas gratuitas.\n",
    "- **Instala la interfaz de Python:** Una vez instalado Gurobi, instala gurobipy:\n",
    "\n",
    "  ```bash\n",
    "  pip install gurobipy\n",
    "  ```\n",
    "\n",
    "**2. Configuración inicial en Python**\n",
    "\n",
    "Antes de usar Gurobi, necesitas importar su módulo en tu script de Python:\n",
    "\n",
    "```python\n",
    "from gurobipy import *\n",
    "```\n"
   ]
  },
  {
   "cell_type": "markdown",
   "metadata": {},
   "source": [
    "\n",
    "**3. Creando un modelo simple**\n",
    "\n",
    "Vamos a resolver el siguiente problema de programación lineal:\n",
    "\n",
    "Maximizar:\n",
    "\n",
    "$Z = 3x + 4y$\n",
    "\n",
    "\n",
    "Sujeto a:\n",
    "\n",
    "$1x + 2y ≤ 8$\n",
    "\n",
    "$3x + 2y ≤ 12$\n",
    "\n",
    "$x, y ≥ 0$\n",
    "\n",
    "\n",
    "<b>Construyendo el modelo con gurobipy</b>\n"
   ]
  },
  {
   "cell_type": "code",
   "execution_count": 1,
   "metadata": {},
   "outputs": [
    {
     "name": "stdout",
     "output_type": "stream",
     "text": [
      "Restricted license - for non-production use only - expires 2024-10-28\n",
      "Gurobi Optimizer version 10.0.2 build v10.0.2rc0 (win64)\n",
      "\n",
      "CPU model: 12th Gen Intel(R) Core(TM) i7-1265U, instruction set [SSE2|AVX|AVX2]\n",
      "Thread count: 10 physical cores, 12 logical processors, using up to 12 threads\n",
      "\n",
      "Optimize a model with 2 rows, 2 columns and 4 nonzeros\n",
      "Model fingerprint: 0x98e9963f\n",
      "Coefficient statistics:\n",
      "  Matrix range     [1e+00, 3e+00]\n",
      "  Objective range  [3e+00, 4e+00]\n",
      "  Bounds range     [0e+00, 0e+00]\n",
      "  RHS range        [8e+00, 1e+01]\n",
      "Presolve time: 0.01s\n",
      "Presolved: 2 rows, 2 columns, 4 nonzeros\n",
      "\n",
      "Iteration    Objective       Primal Inf.    Dual Inf.      Time\n",
      "       0    7.0000000e+30   2.750000e+30   7.000000e+00      0s\n",
      "       2    1.8000000e+01   0.000000e+00   0.000000e+00      0s\n",
      "\n",
      "Solved in 2 iterations and 0.02 seconds (0.00 work units)\n",
      "Optimal objective  1.800000000e+01\n",
      "x 2\n",
      "y 3\n",
      "Objetivo: 18\n"
     ]
    }
   ],
   "source": [
    "from gurobipy import *\n",
    "\n",
    "\n",
    "# Crea el modelo\n",
    "m = Model(\"modelo_simple\")\n",
    "\n",
    "# Crea las variables\n",
    "x = m.addVar(vtype=GRB.CONTINUOUS, name=\"x\")\n",
    "y = m.addVar(vtype=GRB.CONTINUOUS, name=\"y\")\n",
    "\n",
    "# Establece la función objetivo\n",
    "m.setObjective(3*x + 4*y, GRB.MAXIMIZE)\n",
    "\n",
    "# Añade restricciones\n",
    "m.addConstr(x + 2*y <= 8, \"restriccion_1\")\n",
    "m.addConstr(3*x + 2*y <= 12, \"restriccion_2\")\n",
    "\n",
    "# Resuelve el modelo\n",
    "m.optimize()\n",
    "\n",
    "# Imprime las soluciones\n",
    "for v in m.getVars():\n",
    "    print('%s %g' % (v.varName, v.x))\n",
    "\n",
    "print('Objetivo: %g' % m.objVal)"
   ]
  },
  {
   "cell_type": "markdown",
   "metadata": {},
   "source": [
    "**Problema de la dieta**\n",
    "\n",
    "Hay 5 tipos de alimentos y 2 requerimientos de nutrientes que debemos satisfacer al mínimo coste. Se nos da el contenido nutricional y el coste por onza de cada tipo de alimento."
   ]
  },
  {
   "cell_type": "markdown",
   "metadata": {},
   "source": [
    "### Unidades de nutrientes y coste por onza\n",
    "\n",
    "| Food type | Iron | Calcium | Cost |\n",
    "|-----------|------|---------|------|\n",
    "| 1         | 2    | 0       | 20   |\n",
    "| 2         | 0    | 1       | 10   |\n",
    "| 3         | 3    | 2       | 31   |\n",
    "| 4         | 1    | 2       | 11   |\n",
    "| 5         | 2    | 1       | 12   |\n"
   ]
  },
  {
   "cell_type": "markdown",
   "metadata": {},
   "source": [
    "> ¿Cuál es la combinación de costo mínimo de estos alimentos que proporciona al menos 21 unidades de hierro y 12 unidades de calcio?"
   ]
  },
  {
   "cell_type": "markdown",
   "metadata": {},
   "source": [
    "<b> Formulación del problema de la dieta </b>\n",
    "\n",
    "\n",
    "- Variables de decisión: \n",
    "\n",
    "$x_j$ = número de onzas del tipo de alimento $j=1,\\ldots,5$.\n",
    "\n",
    " Función Objetivo: \n",
    "\n",
    " min $z = 20 x_1 + 10 x_2 + 31 x_3 + 11 x_4 + 12 x_5$\n",
    "\n",
    "\n",
    " Restricciones estructurales:\n",
    "\n",
    " $2 x_1 + 0 x_2 + 3 x_3 + 1 x_4 + 2 x_5 \\ge 21$ (requisito de hierro) \n",
    " \n",
    " $0 x_1 + 1 x_2 + 2 x_3 + 2 x_4 + 1 x_5 \\ge 12$ (necesidad de calcio)\n",
    "\n",
    "\n",
    "Restricciones de no negatividad\n",
    " $x_j \\ge 0,j=1,\\ldots,5$\n"
   ]
  },
  {
   "cell_type": "markdown",
   "metadata": {},
   "source": [
    "<b>Construyendo el modelo con gurobipy</b>\n",
    "\n",
    "Primero necesitaremos importar el módulo gurobipy. Nuestro alias preferido es 'grb'. También crearemos un alias para gurobipy.GRB, que contiene algunas constantes útiles que normalmente necesitaremos."
   ]
  },
  {
   "cell_type": "code",
   "execution_count": 2,
   "metadata": {
    "collapsed": false
   },
   "outputs": [],
   "source": [
    "import gurobipy as grb\n",
    "GRB = grb.GRB"
   ]
  },
  {
   "cell_type": "markdown",
   "metadata": {},
   "source": [
    "El objeto gurobipy.Model sirve como repositorio de todos los datos relativos a su problema de optimización, y proporciona métodos para establecer variables de decisión y restricciones."
   ]
  },
  {
   "cell_type": "code",
   "execution_count": 3,
   "metadata": {
    "collapsed": false
   },
   "outputs": [],
   "source": [
    "m = grb.Model()"
   ]
  },
  {
   "cell_type": "markdown",
   "metadata": {},
   "source": [
    "Puedes llamar a tu objeto gurobipy.Model como quieras, pero aquí hemos elegido \"m\". Este objeto proporciona métodos para instanciar variables de decisión (addVar) y restricciones estructurales (addConstr)."
   ]
  },
  {
   "cell_type": "markdown",
   "metadata": {},
   "source": [
    "<b>Añadir Variables</b>\n",
    "\n",
    "Primero añadiremos las variables de decisión utilizando el método Model.addVar()."
   ]
  },
  {
   "cell_type": "code",
   "execution_count": 4,
   "metadata": {
    "collapsed": false
   },
   "outputs": [
    {
     "name": "stdout",
     "output_type": "stream",
     "text": [
      "\u001b[1;31mSignature:\u001b[0m \u001b[0mm\u001b[0m\u001b[1;33m.\u001b[0m\u001b[0maddVar\u001b[0m\u001b[1;33m(\u001b[0m\u001b[0mlb\u001b[0m\u001b[1;33m=\u001b[0m\u001b[1;36m0.0\u001b[0m\u001b[1;33m,\u001b[0m \u001b[0mub\u001b[0m\u001b[1;33m=\u001b[0m\u001b[1;36m1e+100\u001b[0m\u001b[1;33m,\u001b[0m \u001b[0mobj\u001b[0m\u001b[1;33m=\u001b[0m\u001b[1;36m0.0\u001b[0m\u001b[1;33m,\u001b[0m \u001b[0mvtype\u001b[0m\u001b[1;33m=\u001b[0m\u001b[1;34m'C'\u001b[0m\u001b[1;33m,\u001b[0m \u001b[0mname\u001b[0m\u001b[1;33m=\u001b[0m\u001b[1;34m''\u001b[0m\u001b[1;33m,\u001b[0m \u001b[0mcolumn\u001b[0m\u001b[1;33m=\u001b[0m\u001b[1;32mNone\u001b[0m\u001b[1;33m)\u001b[0m\u001b[1;33m\u001b[0m\u001b[1;33m\u001b[0m\u001b[0m\n",
      "\u001b[1;31mDocstring:\u001b[0m\n",
      "ROUTINE:\n",
      "  addVar(lb, ub, obj, vtype, name, column)\n",
      "\n",
      "PURPOSE:\n",
      "  Add a variable to the model.\n",
      "\n",
      "ARGUMENTS:\n",
      "  lb (float): Lower bound (default is zero)\n",
      "  ub (float): Upper bound (default is infinite)\n",
      "  obj (float): Objective coefficient (default is zero)\n",
      "  vtype (string): Variable type (default is GRB.CONTINUOUS)\n",
      "  name (string): Variable name (default is no name)\n",
      "  column (Column): Initial coefficients for column (default is None)\n",
      "\n",
      "RETURN VALUE:\n",
      "  The created Var object.\n",
      "\n",
      "EXAMPLE:\n",
      "  v = model.addVar(ub=2.0, name=\"NewVar\")\n",
      "\u001b[1;31mType:\u001b[0m      method"
     ]
    }
   ],
   "source": [
    "?m.addVar"
   ]
  },
  {
   "cell_type": "markdown",
   "metadata": {},
   "source": [
    "Este método toma una variedad de parámetros opcionales y devuelve una referencia a un objeto `gurobipy.Var`. Necesitará guardar estas referencias para construir restricciones estructurales más adelante. Si conoce los límites inferiores o superiores de las variables, esos límites deben pasarse a través de los argumentos `lb` y `ub`, que por defecto son 0 e infinito, respectivamente. También en este punto tiene la opción de especificar un coeficiente objetivo a través del argumento `obj`. \n",
    "\n",
    "Es opcional, pero en general es una buena práctica proporcionar nombres significativos para cada una de las variables. En última instancia vamos a querer la salida y ver el modelo que hemos construido para verificar que es lo que pretendíamos, y los nombres que ha establecido aquí aparecerá en la salida. Esos nombres no necesitan coincidir con los nombres de las variables Python usadas para establecer las variables, lo que significa que no necesitan seguir las reglas para nombrar variables Python. Una buena convención para nombrarlas es usar una palabra o frase corta que describa lo que representa la variable, seguida de una lista separada por puntos de los índices de la variable (en este caso los tipos de alimentos del 1 al 5)."
   ]
  },
  {
   "cell_type": "code",
   "execution_count": 5,
   "metadata": {
    "collapsed": false
   },
   "outputs": [],
   "source": [
    "x1 = m.addVar(lb=0, ub=GRB.INFINITY, obj=20, vtype=GRB.CONTINUOUS, name='consumed.1')"
   ]
  },
  {
   "cell_type": "code",
   "execution_count": 6,
   "metadata": {
    "collapsed": false
   },
   "outputs": [],
   "source": [
    "x2 = m.addVar(obj=10, name='consumed.2')"
   ]
  },
  {
   "cell_type": "code",
   "execution_count": 7,
   "metadata": {
    "collapsed": false
   },
   "outputs": [],
   "source": [
    "x3 = m.addVar(obj=31, name='consumed.3')"
   ]
  },
  {
   "cell_type": "code",
   "execution_count": 8,
   "metadata": {
    "collapsed": false
   },
   "outputs": [],
   "source": [
    "x4 = m.addVar(obj=11, name='consumed.4')"
   ]
  },
  {
   "cell_type": "code",
   "execution_count": 9,
   "metadata": {
    "collapsed": false
   },
   "outputs": [],
   "source": [
    "x5 = m.addVar(obj=12, name='consumed.5')"
   ]
  },
  {
   "cell_type": "code",
   "execution_count": 10,
   "metadata": {
    "collapsed": false
   },
   "outputs": [
    {
     "name": "stdout",
     "output_type": "stream",
     "text": [
      "<gurobi.Var *Awaiting Model Update*> <gurobi.Var *Awaiting Model Update*> <gurobi.Var *Awaiting Model Update*> <gurobi.Var *Awaiting Model Update*> <gurobi.Var *Awaiting Model Update*>\n"
     ]
    }
   ],
   "source": [
    "# At this point we can print what we have saved from the calls to Model.addVar().\n",
    "print( x1, x2, x3, x4, x5)"
   ]
  },
  {
   "cell_type": "code",
   "execution_count": 11,
   "metadata": {
    "collapsed": false
   },
   "outputs": [
    {
     "name": "stdout",
     "output_type": "stream",
     "text": [
      "<gurobi.Var consumed.1> <gurobi.Var consumed.2> <gurobi.Var consumed.3> <gurobi.Var consumed.4> <gurobi.Var consumed.5>\n"
     ]
    }
   ],
   "source": [
    "m.update()\n",
    "print( x1, x2, x3, x4, x5)"
   ]
  },
  {
   "cell_type": "markdown",
   "metadata": {},
   "source": [
    "<b>Construcción de expresiones lineales</b>\n",
    "\n",
    "Las restricciones estructurales implican múltiples variables de decisión. El objeto `gurobipy.LinExpr` almacena una función lineal de variables de decisión. Los operadores + y * están sobrecargados para que pueda crear expresiones lineales de forma natural."
   ]
  },
  {
   "cell_type": "code",
   "execution_count": 12,
   "metadata": {
    "collapsed": false
   },
   "outputs": [
    {
     "name": "stdout",
     "output_type": "stream",
     "text": [
      "2.0 consumed.1 + 3.0 consumed.3 + consumed.4 + 2.0 consumed.5\n"
     ]
    }
   ],
   "source": [
    "lhs = 2*x1 + 3*x3 + x4 + 2*x5\n",
    "print (lhs)"
   ]
  },
  {
   "cell_type": "markdown",
   "metadata": {},
   "source": [
    "<b>Añadir Restricciones Estructurales</b>\n",
    "\n",
    "Para añadir una restricción estructural, llame al método addConstr en un objeto Modelo."
   ]
  },
  {
   "cell_type": "code",
   "execution_count": 13,
   "metadata": {
    "collapsed": true
   },
   "outputs": [
    {
     "name": "stdout",
     "output_type": "stream",
     "text": [
      "\u001b[1;31mSignature:\u001b[0m \u001b[0mm\u001b[0m\u001b[1;33m.\u001b[0m\u001b[0maddConstr\u001b[0m\u001b[1;33m(\u001b[0m\u001b[0mlhs\u001b[0m\u001b[1;33m,\u001b[0m \u001b[0msense\u001b[0m\u001b[1;33m=\u001b[0m\u001b[1;32mNone\u001b[0m\u001b[1;33m,\u001b[0m \u001b[0mrhs\u001b[0m\u001b[1;33m=\u001b[0m\u001b[1;32mNone\u001b[0m\u001b[1;33m,\u001b[0m \u001b[0mname\u001b[0m\u001b[1;33m=\u001b[0m\u001b[1;34m''\u001b[0m\u001b[1;33m)\u001b[0m\u001b[1;33m\u001b[0m\u001b[1;33m\u001b[0m\u001b[0m\n",
      "\u001b[1;31mDocstring:\u001b[0m\n",
      "ROUTINE:\n",
      "  addConstr(tc, name)\n",
      "\n",
      "PURPOSE:\n",
      "  Add a constraint to the model.\n",
      "\n",
      "ARGUMENTS:\n",
      "  tc (TempConstr): The constraint to add\n",
      "  name (string): Constraint name (default is no name)\n",
      "\n",
      "RETURN VALUE:\n",
      "  Depending on the data of 'tc':\n",
      "    - A Constr object if tc arose from a linear expression\n",
      "    - A QConstr object if tc arose from a quadratic expression\n",
      "    - An MConstr object if tc arose from a linear matrix expression\n",
      "    - A GenConstr object if tc arose form a general constraint expression\n",
      "\n",
      "EXAMPLE:\n",
      "  c = model.addConstr(x + y <= 1)\n",
      "  c = model.addConstr(x + y + z == [1, 2])\n",
      "  c = model.addConstr(x*x + y*y <= 1)\n",
      "  c = model.addConstr(z == and_(y, x, w))\n",
      "  c = model.addConstr(z == min_(x, y))\n",
      "  c = model.addConstr((w == 1) >> (x + y <= 1))\n",
      "  c = model.addConstr(A @ x <= b)\n",
      "\u001b[1;31mType:\u001b[0m      method"
     ]
    }
   ],
   "source": [
    "?m.addConstr"
   ]
  },
  {
   "cell_type": "markdown",
   "metadata": {},
   "source": [
    "Vamos a demostrar dos maneras de llamar `Model.addConstr()` aquí. Preferimos la segunda opción, ya que tiene una conexión más explícita con la restricción en el modelo anterior."
   ]
  },
  {
   "cell_type": "code",
   "execution_count": 14,
   "metadata": {
    "collapsed": false
   },
   "outputs": [],
   "source": [
    "iron_constr = m.addConstr(lhs, '>', 21, name='nutrient.iron')"
   ]
  },
  {
   "cell_type": "code",
   "execution_count": 15,
   "metadata": {
    "collapsed": false
   },
   "outputs": [
    {
     "data": {
      "text/plain": [
       "<gurobi.TempConstr: consumed.2 + 2.0 consumed.3 + 2.0 consumed.4 + consumed.5 >= 12>"
      ]
     },
     "execution_count": 15,
     "metadata": {},
     "output_type": "execute_result"
    }
   ],
   "source": [
    "x2 + 2*x3 + 2*x4 + x5 >= 12"
   ]
  },
  {
   "cell_type": "markdown",
   "metadata": {},
   "source": [
    "También se han sobrecargado los operadores ==, >= y <= para que las restricciones puedan escribirse de forma natural."
   ]
  },
  {
   "cell_type": "code",
   "execution_count": 16,
   "metadata": {
    "collapsed": false
   },
   "outputs": [],
   "source": [
    "calcium_constr = m.addConstr(x2 + 2*x3 + 2*x4 + x5 >= 12, name='nutrient.calcium')"
   ]
  },
  {
   "cell_type": "markdown",
   "metadata": {},
   "source": [
    "Al igual que con las variables, es una buena práctica seguir una convención de nomenclatura coherente con las restricciones. Estos nombres le ayudarán a identificar las restricciones cuando visualice el modelo completo.\n",
    "\n",
    "Una vez creadas todas las restricciones, pueden añadirse al modelo por lotes llamando al método update."
   ]
  },
  {
   "cell_type": "code",
   "execution_count": 17,
   "metadata": {
    "collapsed": false
   },
   "outputs": [],
   "source": [
    "m.update()"
   ]
  },
  {
   "cell_type": "markdown",
   "metadata": {},
   "source": [
    "<b>Inspección del modelo</b>\n",
    "\n",
    "Podemos optimizar en este punto, pero es bueno tener alguna garantía de que el código que acabamos de escribir realmente construyó el modelo que esperamos que construya. El formato de archivo .lp proporciona una representación legible del modelo."
   ]
  },
  {
   "cell_type": "code",
   "execution_count": 18,
   "metadata": {
    "collapsed": false
   },
   "outputs": [],
   "source": [
    "m.write('diet.lp')"
   ]
  },
  {
   "cell_type": "code",
   "execution_count": 19,
   "metadata": {
    "collapsed": false
   },
   "outputs": [
    {
     "name": "stdout",
     "output_type": "stream",
     "text": [
      "\\ LP format - for model browsing. Use MPS format to capture full model detail.\n",
      "Minimize\n",
      "  20 consumed.1 + 10 consumed.2 + 31 consumed.3 + 11 consumed.4\n",
      "   + 12 consumed.5\n",
      "Subject To\n",
      " nutrient.iron: 2 consumed.1 + 3 consumed.3 + consumed.4 + 2 consumed.5\n",
      "   >= 21\n",
      " nutrient.calcium: consumed.2 + 2 consumed.3 + 2 consumed.4 + consumed.5\n",
      "   >= 12\n",
      "Bounds\n",
      "End\n"
     ]
    }
   ],
   "source": [
    "!more diet.lp"
   ]
  },
  {
   "cell_type": "markdown",
   "metadata": {},
   "source": [
    "<b>Resolución del modelo</b>\n",
    "\n",
    "Si se ve bien, estamos listos para resolver el modelo, lo que hacemos llamando a Model.optimize(). Después, podemos comprobar el atributo Status del modelo para ver si la solución ha tenido éxito. Si el estado es igual a GRB.OPTIMAL, entonces Gurobi fue capaz de encontrar una solución óptima demostrable (dentro de una tolerancia)."
   ]
  },
  {
   "cell_type": "code",
   "execution_count": 20,
   "metadata": {
    "collapsed": false
   },
   "outputs": [
    {
     "name": "stdout",
     "output_type": "stream",
     "text": [
      "Gurobi Optimizer version 10.0.2 build v10.0.2rc0 (win64)\n",
      "\n",
      "CPU model: 12th Gen Intel(R) Core(TM) i7-1265U, instruction set [SSE2|AVX|AVX2]\n",
      "Thread count: 10 physical cores, 12 logical processors, using up to 12 threads\n",
      "\n",
      "Optimize a model with 2 rows, 5 columns and 8 nonzeros\n",
      "Model fingerprint: 0x7d44349f\n",
      "Coefficient statistics:\n",
      "  Matrix range     [1e+00, 3e+00]\n",
      "  Objective range  [1e+01, 3e+01]\n",
      "  Bounds range     [0e+00, 0e+00]\n",
      "  RHS range        [1e+01, 2e+01]\n",
      "Presolve removed 0 rows and 3 columns\n",
      "Presolve time: 0.01s\n",
      "Presolved: 2 rows, 2 columns, 4 nonzeros\n",
      "\n",
      "Iteration    Objective       Primal Inf.    Dual Inf.      Time\n",
      "       0    0.0000000e+00   1.650000e+01   0.000000e+00      0s\n",
      "       2    1.3100000e+02   0.000000e+00   0.000000e+00      0s\n",
      "\n",
      "Solved in 2 iterations and 0.02 seconds (0.00 work units)\n",
      "Optimal objective  1.310000000e+02\n",
      "Model status = 2\n"
     ]
    }
   ],
   "source": [
    "m.optimize()\n",
    "print( \"Model status =\", m.Status)\n",
    "assert m.Status == GRB.OPTIMAL"
   ]
  },
  {
   "cell_type": "markdown",
   "metadata": {},
   "source": [
    "La llamada a `Model.optimize()` produce un registro que da varias estadísticas del modelo como el número de variables, restricciones y entradas no nulas de la matriz de restricciones, así como rangos para todas las entradas numéricas. Para soluciones más largas, el registro también incluirá una tabla en la que Gurobi escribe periódicamente para mantenerle informado del progreso. Si se encuentra una solución óptima, el registro terminará con el valor objetivo óptimo."
   ]
  },
  {
   "cell_type": "markdown",
   "metadata": {},
   "source": [
    "<b>Consulta de la solución</b>\n",
    "\n",
    "El registro proporciona un valor objetivo óptimo, pero no los valores óptimos de las variables, que suelen ser la salida más importante de la solución, ya que son los que en última instancia impulsan sus decisiones. Para obtener los datos de la solución, podemos consultar varios atributos de los objetos Var y Constr que guardamos anteriormente.\n",
    "\n",
    "Aquí veremos dos de estos atributos `Var`. El primer atributo, y normalmente el más importante, se llama simplemente 'X' y proporciona el valor de la variable en la solución óptima. Para el problema de la dieta, esto nos dice el número de onzas de cada tipo de alimento que debemos incluir en nuestra dieta. Podemos utilizar las referencias Var guardadas anteriormente para consultar este atributo."
   ]
  },
  {
   "cell_type": "code",
   "execution_count": 21,
   "metadata": {
    "collapsed": false
   },
   "outputs": [
    {
     "name": "stdout",
     "output_type": "stream",
     "text": [
      "consumed.1 0.0\n",
      "consumed.2 0.0\n",
      "consumed.3 0.0\n",
      "consumed.4 1.0\n",
      "consumed.5 10.0\n"
     ]
    }
   ],
   "source": [
    "print(x1.VarName, x1.X)\n",
    "print(x2.VarName, x2.X)\n",
    "print(x3.VarName, x3.X)\n",
    "print(x4.VarName, x4.X)\n",
    "print(x5.VarName, x5.X)"
   ]
  },
  {
   "cell_type": "markdown",
   "metadata": {},
   "source": [
    "El segundo atributo Var que veremos aquí es el coste reducido, que tiene el nombre de atributo 'RC'. Este coste reducido nos indica la cantidad que tendría que cambiar el coeficiente objetivo de una variable para que ésta tuviera un valor positivo en una solución óptima. Para las variables x.4 y x.5 que ya son positivas, el coste reducido es siempre cero."
   ]
  },
  {
   "cell_type": "code",
   "execution_count": 22,
   "metadata": {
    "collapsed": false
   },
   "outputs": [
    {
     "name": "stdout",
     "output_type": "stream",
     "text": [
      "consumed.1 11.333333333333334\n",
      "consumed.2 6.666666666666666\n",
      "consumed.3 11.333333333333332\n",
      "consumed.4 0.0\n",
      "consumed.5 0.0\n"
     ]
    }
   ],
   "source": [
    "print(x1.VarName, x1.RC)\n",
    "print(x2.VarName, x2.RC)\n",
    "print(x3.VarName, x3.RC)\n",
    "print(x4.VarName, x4.RC)\n",
    "print(x5.VarName, x5.RC)"
   ]
  },
  {
   "cell_type": "markdown",
   "metadata": {},
   "source": [
    "La interpretación aquí es que el tipo de alimento 1 tendría que ser al menos $11 \\frac{1}{3}$  más barato para que nos resultara rentable incluirlo en nuestra dieta."
   ]
  },
  {
   "cell_type": "markdown",
   "metadata": {},
   "source": [
    "Puede iterar sobre todas las variables del modelo con el método Model.getVars()."
   ]
  },
  {
   "cell_type": "code",
   "execution_count": 23,
   "metadata": {
    "collapsed": false
   },
   "outputs": [
    {
     "name": "stdout",
     "output_type": "stream",
     "text": [
      "consumed.1 0.0 11.333333333333334\n",
      "consumed.2 0.0 6.666666666666666\n",
      "consumed.3 0.0 11.333333333333332\n",
      "consumed.4 1.0 0.0\n",
      "consumed.5 10.0 0.0\n"
     ]
    }
   ],
   "source": [
    "for var in m.getVars():\n",
    "    print(var.VarName, var.X, var.RC)"
   ]
  },
  {
   "cell_type": "markdown",
   "metadata": {},
   "source": [
    "El valor objetivo aparece en el registro de soluciones, pero puede consultarse a través del atributo ObjVal del modelo."
   ]
  },
  {
   "cell_type": "code",
   "execution_count": 24,
   "metadata": {
    "collapsed": false
   },
   "outputs": [
    {
     "name": "stdout",
     "output_type": "stream",
     "text": [
      "131.0\n"
     ]
    }
   ],
   "source": [
    "print(m.ObjVal)"
   ]
  },
  {
   "cell_type": "markdown",
   "metadata": {},
   "source": [
    "También hay información de solución asociada a las restricciones que puede ser útil para algunas aplicaciones. Aquí veremos los atributos Slack y Pi del objeto Constr."
   ]
  },
  {
   "cell_type": "code",
   "execution_count": 25,
   "metadata": {
    "collapsed": false
   },
   "outputs": [
    {
     "data": {
      "text/plain": [
       "(0.0, 4.333333333333333)"
      ]
     },
     "execution_count": 25,
     "metadata": {},
     "output_type": "execute_result"
    }
   ],
   "source": [
    "iron_constr.Slack, iron_constr.Pi"
   ]
  },
  {
   "cell_type": "code",
   "execution_count": 26,
   "metadata": {
    "collapsed": false
   },
   "outputs": [
    {
     "name": "stdout",
     "output_type": "stream",
     "text": [
      "nutrient.iron 0.0 4.333333333333333\n",
      "nutrient.calcium 0.0 3.333333333333334\n"
     ]
    }
   ],
   "source": [
    "for constr in m.getConstrs():\n",
    "    print(constr.ConstrName, constr.Slack, constr.Pi)"
   ]
  },
  {
   "cell_type": "markdown",
   "metadata": {
    "collapsed": true
   },
   "source": [
    "El atributo Slack nos da la diferencia entre los lados derecho e izquierdo de la restricción en la solución óptima. El atributo Pi también se conoce como valor dual o precio sombra, y nos dice cuánto cambiaría el objetivo si el lado derecho de la restricción se incrementara en 1 unidad. Una restricción puede tener una holgura positiva o un valor dual positivo, pero nunca ambos simultáneamente positivos. \n",
    "\n",
    "En este caso, ninguna de las dos restricciones tiene holgura y ambas tienen valores duales positivos. La interpretación para el hierro sería que el aumento de la necesidad de hierro en 1 unidad (lo que aumenta el lado derecho de la restricción de hierro en 1 unidad) aumentaría el coste óptimo de nuestra dieta en $4 \\frac{1}{3}$. Esto significa que el precio máximo que estaríamos dispuestos a pagar por una unidad de hierro debería ser de $4.\n"
   ]
  },
  {
   "cell_type": "markdown",
   "metadata": {},
   "source": [
    "\n",
    "Nuestras restricciones estructurales suelen imponer algún tipo de requisito mínimo de recursos para que funcione un sistema. En este caso, las variables duales pueden interpretarse como el precio de esos recursos."
   ]
  },
  {
   "cell_type": "code",
   "execution_count": 27,
   "metadata": {
    "collapsed": false
   },
   "outputs": [],
   "source": [
    "x1.LB = 0.1"
   ]
  },
  {
   "cell_type": "code",
   "execution_count": 28,
   "metadata": {
    "collapsed": false
   },
   "outputs": [
    {
     "name": "stdout",
     "output_type": "stream",
     "text": [
      "Gurobi Optimizer version 10.0.2 build v10.0.2rc0 (win64)\n",
      "\n",
      "CPU model: 12th Gen Intel(R) Core(TM) i7-1265U, instruction set [SSE2|AVX|AVX2]\n",
      "Thread count: 10 physical cores, 12 logical processors, using up to 12 threads\n",
      "\n",
      "Optimize a model with 2 rows, 5 columns and 8 nonzeros\n",
      "Coefficient statistics:\n",
      "  Matrix range     [1e+00, 3e+00]\n",
      "  Objective range  [1e+01, 3e+01]\n",
      "  Bounds range     [1e-01, 1e-01]\n",
      "  RHS range        [1e+01, 2e+01]\n",
      "       0    1.3213333e+02   0.000000e+00   0.000000e+00      0s\n",
      "\n",
      "Solved in 0 iterations and 0.01 seconds (0.00 work units)\n",
      "Optimal objective  1.321333333e+02\n"
     ]
    }
   ],
   "source": [
    "m.optimize()"
   ]
  },
  {
   "cell_type": "code",
   "execution_count": 29,
   "metadata": {
    "collapsed": false
   },
   "outputs": [
    {
     "data": {
      "text/plain": [
       "1.1333333333333258"
      ]
     },
     "execution_count": 29,
     "metadata": {},
     "output_type": "execute_result"
    }
   ],
   "source": [
    "m.ObjVal - 131"
   ]
  },
  {
   "cell_type": "code",
   "execution_count": 30,
   "metadata": {
    "collapsed": false
   },
   "outputs": [
    {
     "data": {
      "text/plain": [
       "21.0"
      ]
     },
     "execution_count": 30,
     "metadata": {},
     "output_type": "execute_result"
    }
   ],
   "source": [
    "iron_constr.RHS"
   ]
  },
  {
   "cell_type": "code",
   "execution_count": 31,
   "metadata": {
    "collapsed": true
   },
   "outputs": [],
   "source": [
    "iron_constr.RHS = 21.1"
   ]
  },
  {
   "cell_type": "code",
   "execution_count": 32,
   "metadata": {
    "collapsed": true
   },
   "outputs": [],
   "source": [
    "old_obj = m.ObjVal"
   ]
  },
  {
   "cell_type": "code",
   "execution_count": 33,
   "metadata": {
    "collapsed": false
   },
   "outputs": [
    {
     "name": "stdout",
     "output_type": "stream",
     "text": [
      "Gurobi Optimizer version 10.0.2 build v10.0.2rc0 (win64)\n",
      "\n",
      "CPU model: 12th Gen Intel(R) Core(TM) i7-1265U, instruction set [SSE2|AVX|AVX2]\n",
      "Thread count: 10 physical cores, 12 logical processors, using up to 12 threads\n",
      "\n",
      "Optimize a model with 2 rows, 5 columns and 8 nonzeros\n",
      "Coefficient statistics:\n",
      "  Matrix range     [1e+00, 3e+00]\n",
      "  Objective range  [1e+01, 3e+01]\n",
      "  Bounds range     [1e-01, 1e-01]\n",
      "  RHS range        [1e+01, 2e+01]\n",
      "Iteration    Objective       Primal Inf.    Dual Inf.      Time\n",
      "       0    1.3256667e+02   0.000000e+00   0.000000e+00      0s\n",
      "\n",
      "Solved in 0 iterations and 0.02 seconds (0.00 work units)\n",
      "Optimal objective  1.325666667e+02\n"
     ]
    }
   ],
   "source": [
    "m.optimize()"
   ]
  },
  {
   "cell_type": "code",
   "execution_count": 34,
   "metadata": {
    "collapsed": false
   },
   "outputs": [
    {
     "data": {
      "text/plain": [
       "0.4333333333333371"
      ]
     },
     "execution_count": 34,
     "metadata": {},
     "output_type": "execute_result"
    }
   ],
   "source": [
    "m.ObjVal - old_obj"
   ]
  },
  {
   "cell_type": "code",
   "execution_count": null,
   "metadata": {
    "collapsed": true
   },
   "outputs": [],
   "source": []
  }
 ],
 "metadata": {
  "kernelspec": {
   "display_name": "base",
   "language": "python",
   "name": "python3"
  },
  "language_info": {
   "codemirror_mode": {
    "name": "ipython",
    "version": 3
   },
   "file_extension": ".py",
   "mimetype": "text/x-python",
   "name": "python",
   "nbconvert_exporter": "python",
   "pygments_lexer": "ipython3",
   "version": "3.9.13"
  }
 },
 "nbformat": 4,
 "nbformat_minor": 0
}
