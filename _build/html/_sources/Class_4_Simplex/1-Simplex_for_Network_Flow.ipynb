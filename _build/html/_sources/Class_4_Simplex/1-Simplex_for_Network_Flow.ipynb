{
 "cells": [
  {
   "cell_type": "markdown",
   "metadata": {},
   "source": [
    "## **Lectura 1: Simplex para problemas de Flujo** "
   ]
  },
  {
   "cell_type": "markdown",
   "metadata": {},
   "source": [
    "**Antes de empezar**\n",
    "\n",
    "Les recomiendo ver este video del algoritmo [SIMPLEX](https://www.youtube.com/watch?v=E72DWgKP_1Y).\n",
    "\n",
    "Otra curiosidad, a que no se imaginan que el SIMPLEX es una figura geométrica, [aquí](https://galileo-unbound.blog/2023/05/03/the-mighty-simplex/) les dejo un link que lo explica."
   ]
  },
  {
   "cell_type": "markdown",
   "metadata": {},
   "source": [
    "Supongamos por ahora que:\n",
    "\n",
    "* la demanda de la red se encuentra balanceada\n",
    "* No existe restricción de capacidad en los arcos\n",
    "* Solo se exige que el flujo sea no negativo\n",
    "\n"
   ]
  },
  {
   "cell_type": "markdown",
   "metadata": {},
   "source": [
    "\n",
    "### Solución mediante SIMPLEX\n",
    "\n",
    "Dado que el problema es lineal, podemos resolverlo mediante el método SIMPLEX. Sin embargo:\n",
    "\n",
    "* La dificultad de plantear el problema como un problema de programación lineal crece con el tamaño de la red (imaginate la rede de 417 nodos que tenemos en nuestro proyecto)\n",
    "* La matriz de restricciones es muy grande y SIMPLEX requiere manipular esta matriz en cada iteración\n",
    "* El problema de flujo a costo mínimo sueele tener una solución dispersa, es decir, muchos arcos con flujo cero. Esto hace que la matriz de restricciones sea muy grande y dispersa, lo cual dificulta la aplicación de simplex.\n",
    "\n",
    "A  pesar de esto, a parter de SIMPLEX se pude obtener un algoritmo para resolver el problema de flujo a costo mínimo de forma eficiente.\n",
    "\n",
    "   \n"
   ]
  },
  {
   "cell_type": "markdown",
   "metadata": {},
   "source": [
    "### Rango de la matriz de restricciones\n",
    "\n",
    "Observemos las restricciones de balance de flujo para cada nodo $i \\in V$: \n",
    "\n",
    "$$ \\sum_{j|(i,j) \\in E} x_{ij} - \\sum_{j|(j,i) \\in E} x_{ji} = b_i \\, \\forall i \\in V $$\n",
    "\n",
    "Que pasaria si sumaramos estas restricciones para todos los nodos ? \n",
    "\n",
    "* Cada arco aparece dos veces en la suma, una vez con signo positivo y otra con signo negativo. \n",
    "* La suma de todas las restricciones de balance de flujo es cero.\n",
    "* Por tanto, las suma de las restricciones da cero a ambos lados, lo que implica que una de las restricciones es **linealmente dependiente** de las demás.\n",
    "* Por tanto, el rango de la matriz de restricciones es menor que el número de nodos de la red.\n",
    "* Esto implica que la matriz de restricciones es singular, lo cual impide la aplicación de SIMPLEX.\n",
    "* Por tanto, debemos eliminar una de las restricciones de balance de flujo para poder aplicar SIMPLEX.\n",
    "\n",
    "![](../Images/simplex3.png)\n",
    "\n",
    "![](../Images/simplex4.png)\n"
   ]
  },
  {
   "cell_type": "markdown",
   "metadata": {},
   "source": [
    "### Repaso de SIMPLEX\n",
    "\n",
    "Considere el siguiente problema de programación lineal en su forma estándar:\n",
    "\n",
    "$$ \\min \\{ c^T x \\, | \\, Ax = b, x \\geq 0 \\} $$"
   ]
  },
  {
   "cell_type": "markdown",
   "metadata": {},
   "source": [
    "En este pproblema $A$ es una matriz de rango máximo de dimensiones $m \\times n$ con $m < n$. Por tanto, el sistema de ecuaciones $Ax = b$ tiene infinitas soluciones.\n",
    "\n",
    "Una solución básica del problema poseerá $m$ variables básicas y $n-m$ variables no básicas. Por tanto, el sistema de ecuaciones $Ax = b$ se puede escribir como:\n",
    "\n",
    "$$ Bx_B + Nx_N = b $$\n",
    "\n",
    "En nuestro problema de flujo esto implica que una solución básica poseerá a lo máximo $|V|-1$ variables básicas y $|E|-|V|+1$ variables no básicas. "
   ]
  },
  {
   "cell_type": "markdown",
   "metadata": {},
   "source": [
    "## Solución basica en una red\n",
    "\n",
    "Una solución básica en una red es aquella que posee $|V|-1$ variables básicas y $|E|-|V|+1$ variables no básicas. En este caso, habrá $|V|-1$ arcos con flujos no negativos. Que topología tendrá esta solución básica? que le recuerda esto?\n",
    "\n",
    "**Supongamos el siguiente ejemplo**\n",
    "\n",
    "![](../Images/simplex1.png)\n",
    "\n",
    "Que denota una solución básica en esta red?\n",
    "\n",
    "![](../Images/simplex2.png)"
   ]
  },
  {
   "cell_type": "markdown",
   "metadata": {},
   "source": [
    "### Bosquejo de un algoritmo simplex para redes\n",
    "\n",
    "Con esto, podemos tener una idea de como resolver este problema\n",
    "\n",
    "1. Encontrar (de alguna manera) un árbol inicial factible T. \n",
    "2. Determinar si el árbo es óptimo. Si lo es, detenerse. Si no, mejorarlo.\n",
    "3. Repetir el paso 2 hasta que el árbol sea óptimo.\n",
    "\n",
    "**Como determinar si el árbol es óptimo?**\n",
    "\n",
    "**Como mejorarlo?**\n"
   ]
  },
  {
   "cell_type": "markdown",
   "metadata": {},
   "source": [
    "### Costos reducidos\n",
    "\n",
    "Consideremos la siguiente formulación equivalente del modelo, donde las variables $x_B$ son las variables básicas y $x_N$ son las variables no básicas:\n",
    "\n",
    "$$ \\min  c^T x_B + c^T_N x_N $$\n",
    "\n",
    "$$ Bx_B + Nx_N = b$$\n",
    " \n",
    "$$x_B \\geq 0 $$ \n",
    " \n",
    "$$ x_N \\geq 0  $$"
   ]
  },
  {
   "cell_type": "markdown",
   "metadata": {},
   "source": [
    "Una base corresponderá al óptimo del problema si su solución asociadad es factible (es decir, si $x_B \\geq 0$) y si los costos reducidos de las variables no básicas son no negativos.\n",
    "\n",
    "Los costos reducidos de las variables no básicas se definen como:\n",
    "\n",
    "$$ \\bar{c}_j = c_j - c_B^T B^{-1} N_j $$\n",
    "\n",
    "Por qué ocurre esto ?\n",
    "\n",
    "Despejando $x_B$ de la ecuación $Bx_B + Nx_N = b$ obtenemos:\n",
    "\n",
    "$$ x_B = B^{-1} b - B^{-1} N x_N $$\n",
    "\n",
    "Reemplazando esto en la función objetivo obtenemos:\n",
    "\n",
    "$$ z = c_B^T B^{-1} b - c_B^T B^{-1} N x_N + c_N^T x_N $$\n",
    "\n",
    "$$ z = c_B^T B^{-1} b + (c_N^T - c_B^T B^{-1} N)x_N   $$\n",
    "\n",
    "Sabemos que en la solución actual $x_N = 0$. Para que sea óptima, debemos garantizar que no convenga que ningún $x_N$ sea positivo, lo que implica que $\\bar{c}_j \\geq 0$ para todo $j \\in N$ (variable no básica).\n"
   ]
  },
  {
   "cell_type": "markdown",
   "metadata": {},
   "source": [
    "la expresión   $c_N^T- c_B^T B^{-1} N $  puede ser reescrita usando las variables duales como:\n",
    "\n",
    "$$ c_N^T- c_B^T B^{-1} N = c_N^T - \\pi^T N $$\n",
    "\n",
    "Los valores del vector $\\pi$ son llamados potenciales y corresponden a los precios sombra del problema."
   ]
  },
  {
   "cell_type": "markdown",
   "metadata": {},
   "source": [
    "### Problema dual \n",
    "\n",
    "sea el primal es: \n",
    "\n",
    "$$ \\min \\{ c^T x \\, | \\, Ax = b, x \\geq 0 \\} $$\n",
    "\n",
    "el problema dual asociado es:\n",
    "\n",
    "$$ \\max \\{ b^T \\pi \\, | \\, A^T \\pi \\leq c \\} $$\n",
    "\n",
    "De la dualidad sabemos:\n",
    "\n",
    "* Si $x$ es factible para el primal y $\\pi$ es factible para el dual, entonces $c^T x \\geq b^T \\pi$\n",
    "* las variables duales son los multiplicadores de las restricciones del primal y viceversa\n",
    "* Si en el primal las variables poseen restricciones de igualdad, en el dual son irrestrictas.\n",
    "\n",
    "![](../Images/Duality_overview.png)"
   ]
  },
  {
   "cell_type": "markdown",
   "metadata": {},
   "source": [
    "\n",
    "\n",
    "#### Problema dual del problema de flujo a costo mínimo\n",
    "\n",
    "El problema de flujo a costo mínimo puede ser escrito como:\n",
    "\n",
    "$$ \\min Z = \\sum_{(i,j) \\in A} c_{ij} x_{ij} $$\n",
    "\n",
    "$$ \\sum_{j \\in N|(i,j) \\in A} x_{ij} - \\sum_{j \\in N|(j,i) \\in A} x_{ji} = b_i \\quad \\forall i \\in N $$\n",
    "\n",
    "$$ x_{ij} \\geq 0 \\quad \\forall (i,j) \\in A $$\n",
    "\n",
    "\n",
    "El problema dual asociado es:\n",
    "\n",
    "$$ \\max Z = \\sum_{i \\in N} b_i \\pi_i $$\n",
    "\n",
    "$$ \\pi_i - \\pi_j \\leq c_{ij} \\quad \\forall (i,j) \\in A $$\n",
    "\n",
    "$$ \\pi_i \\quad \\forall i \\in N $$\n",
    "\n",
    "* En el problema dual una de las variables $\\pi_i$  siempre quedará indeterminada, por lo que fijaremos arbitrariamente una de ellas. \n",
    "\n",
    "* las holguras complementarias se cumplen en el problema dual. Por tanto, si $x_{ij} > 0$ entonces $\\pi_i - \\pi_j = c_{ij}$. \n",
    "\n",
    "* Esto permitirá calcular $\\pi_i$ para cada nodo $i$ de la red."
   ]
  },
  {
   "cell_type": "markdown",
   "metadata": {},
   "source": [
    "![](../Images/simplex5.png)\n",
    "\n",
    "![](../Images/simplex6.png)"
   ]
  },
  {
   "cell_type": "markdown",
   "metadata": {},
   "source": [
    "### Costos reducidos en el problema de flujo a costo mínimo\n",
    "\n",
    "Vimos que los costos reducidos de las variables no básicas se definen como:\n",
    "\n",
    "$$ \\bar{c}_j = c_j - c_B^T B^{-1} N_j $$\n",
    "\n",
    "$$ \\bar{c}_j = c_N^T - \\pi^T N $$\n",
    "\n",
    "para un par de nodos $i$ y $j$ el costo reducido de la variable $x_{ij}$ se puede escribir como:\n",
    "\n",
    "$$ \\bar{c}_{ij} = c_{ij} - \\pi_i + \\pi_j $$"
   ]
  },
  {
   "cell_type": "markdown",
   "metadata": {},
   "source": [
    "**Recapitulando**\n",
    "\n",
    "1. El problema de flujo a costo mínimo es un problema de programación lineal\n",
    "2. las variables basicas de una solución básica corresponden a los arcos de un árbol\n",
    "3. Si $x_{ij} > 0$ entonces $\\pi_i - \\pi_j = c_{ij}$.\n",
    "4. Si $x_{ij}$ no pertenece a la base, los costos reducidos de $x_{ij}$ son iguales a $\\bar{c}_{ij} = c_{ij} - \\pi_i + \\pi_j$\n",
    "5. Si una solución cumple que $\\bar{c}_{ij}$ es no negativo para todo arco $(i,j)$ que no pertenece a la base, entonces la solución es óptima. Si no, el arco con costo reducido negativo debe ser agregado al árbol, pues ofrece una mejora en la función objetivo."
   ]
  },
  {
   "cell_type": "markdown",
   "metadata": {},
   "source": [
    "## Simplex de redes \n",
    "\n",
    "Con lo anterior podemos plantera el algoritmo simplex de redes como una variante de SIMPLEX que se mueve entre àboles factibles. Esto implica resolver los siguientes problemas:\n",
    "\n",
    "1. Encontrar un árbol factible inicial T\n",
    "2. Determinar si el árbol es óptimo, esto implica calcular los potenciales y los costos reducidos. Si lo es, detenerse. Si no, continuar.\n",
    "3. Escoger un arco no básico con costo reducido negativo y agregarlo al árbol.\n",
    "4. Determinar el ciclo que se forma al agregar el arco al árbol.    \n",
    "5. Determinar el arco que sale del árbol y eliminarlo.\n",
    "6. Repetir el paso 2 hasta que el árbol sea óptimo."
   ]
  },
  {
   "cell_type": "markdown",
   "metadata": {},
   "source": [
    "Especificamente:\n",
    "\n",
    "1. *Inicialización:* Encontrar un árbol factible inicial $T^{(1)}$, determinar sus flujos asociados $x_ij$ y sus potenciales $\\pi_i$ y costos reducidos $\\bar{c}_{ij}$\n",
    "2. *Itereción k:* Mientras existan arcos fuera de $T^{(k)}$ que no complan la condición de optimalidad:\n",
    "    *  Seleccionar un arco $(ij)$ fuera de $T^{(k)}$ con costo reducido negativo\n",
    "    *  Agregar $(ij)$ a $T^{(k)}$ y determinar el ciclo $C$ que se forma\n",
    "    *  Determinar el arco $(kl)$ que sale del árbol y eliminarlo. Esto se hace aumentando el flujo de $(ij)$ en la cantidad $\\Delta$ y disminuyendo el flujo de $(kl)$ en la misma cantidad. \n",
    "    *  Llamar a este nuevo árbol  $T^{(k+1)}$ . Determinar los nuevos flujos asociados $x_{ij}$ y los nuevos potenciales $\\pi_i$ y costos reducidos $\\bar{c}_{ij}$.\n"
   ]
  },
  {
   "cell_type": "markdown",
   "metadata": {},
   "source": [
    "### Convención sobre los potenciales \n",
    "\n",
    "\n",
    "Para facilicar los cálculos es conveniente trabajar con el inverso aditivo de los potenciales, esto es, con los valores $\\pi_i^{'}= - \\pi_i$.\n",
    "\n",
    "Esta convencion hace que los potenciales puedan ser interpretados directamente como los precios de poner una unidad de flujo en el nodo $i$, como se expresa mas adelante. \n",
    "\n",
    "Con esto, la relación entre los potenciales y los costos reducidos se puede escribir como:\t\n",
    "\n",
    "$$ \\bar{c}_{ij} = c_{ij} + \\pi_i - \\pi_j $$ \n",
    "\n",
    "y para los costos en los arcos basicos se tiene:\n",
    "\n",
    "$$ \\bar{c}_{ij} = c_{ij} + \\pi_i - \\pi_j = c_{ij} + \\pi_i - \\pi_j = 0 $$\n",
    "\n",
    "$$ c_{ij} + \\pi_i = \\pi_j $$\n",
    "\n"
   ]
  },
  {
   "cell_type": "markdown",
   "metadata": {},
   "source": [
    "### Ejemplo\n",
    "\n",
    "Encuentre la asignación de flujos que minimiza el costo total de transporte en la siguiente red. Considere que la solución inicial es la entregada. "
   ]
  },
  {
   "cell_type": "markdown",
   "metadata": {},
   "source": [
    "![](../Images/ej_SR_1.png)"
   ]
  },
  {
   "cell_type": "markdown",
   "metadata": {},
   "source": [
    "**Inicializacion**\n",
    "\n",
    "* Calcular los flujos sobre e árbol inicial, los potenciales y los costos \n",
    "* Determinar los costos reducidos de los arcos no básicos\n"
   ]
  },
  {
   "cell_type": "markdown",
   "metadata": {},
   "source": [
    "![](../Images/ej_SR_2.png)"
   ]
  },
  {
   "cell_type": "markdown",
   "metadata": {},
   "source": [
    "![](../Images/ej_SR_3.png)"
   ]
  },
  {
   "cell_type": "markdown",
   "metadata": {},
   "source": [
    "**Itereción 1**\n",
    "\n",
    "* Seleccionar un arco no básico con costo reducido negativo\n",
    "* Agregar $(ij)$ a $T^{(k)}$ y determinar el ciclo $C$ que se forma\n",
    "* Determinar el arco $(kl)$ que sale del árbol y eliminarlo. Esto se hace aumentando el flujo de $(ij)$ en la cantidad $\\Delta$ y disminuyendo el flujo de $(kl)$ en la misma cantidad.\n"
   ]
  },
  {
   "cell_type": "markdown",
   "metadata": {},
   "source": [
    "![](../Images/ej_SR_4.png)"
   ]
  },
  {
   "cell_type": "markdown",
   "metadata": {},
   "source": [
    "![](../Images/ej_SR_5.png)"
   ]
  },
  {
   "cell_type": "markdown",
   "metadata": {},
   "source": [
    "**Iteración 2**\n",
    "\n",
    "* Calcular los flujos sobre e árbol inicial, los potenciales y los costos reducidos\n",
    "* Determinar los costos reducidos de los arcos no básicos"
   ]
  },
  {
   "cell_type": "markdown",
   "metadata": {},
   "source": [
    "![](../Images/ej_SR_6.png)"
   ]
  },
  {
   "cell_type": "markdown",
   "metadata": {},
   "source": [
    "## Análisis de sensibilidad\n",
    "\n",
    "Los valores del vector $\\pi$ son llamados precios sombra y corresponden a los valores de las variables duales del problema de flujo a costo mínimo. Estos nos permiten hacer diversos análisis de sensibilidad. Por ejemplo: \n",
    "\n",
    "* Cuanto debería bajar $c_{12}$ para que la soluciòn actual mejore?\n",
    "\n",
    "![](../Images/ej_SR_7.png)\n",
    "\n"
   ]
  },
  {
   "cell_type": "markdown",
   "metadata": {},
   "source": [
    "* Que rango de valores de $c_{32}$ mantienen la base óptima actual?\n",
    "\n",
    "![](../Images/ej_SR_8.png)\n",
    "\n",
    "![](../Images/ej_SR_9.png)\n"
   ]
  },
  {
   "cell_type": "markdown",
   "metadata": {},
   "source": [
    "### Interpretación de los potenciales \n",
    "\n",
    "![](../Images/interpretacion_potenciales.png)"
   ]
  },
  {
   "cell_type": "markdown",
   "metadata": {},
   "source": [
    "### Construir una solución factible inicial: un árbol\n",
    "\n",
    "Para aplicar el algoritmo necesitamos conocer un árbol inicial factible. Como por lo general la solución trivial $X=0$ no es factible, es necesario resolver un problema auxiliar para encontrar un árbol factible.\n",
    "Este problema, llamado Fase I (por analogía con el método simplex), consiste en:\n",
    "1. Crear un nodo ficticio y conectarlo a todos los nodos de la red con arcos ficticios. \n",
    "2. Asignar a estos nuevos arcos costo $1$ y a los arcos del resto de la red costo $0$.\n",
    "3. Utilizar como árbol inicial el formado por los nuevos arcos, e iterar hasta alcanzar una solución factible en el problema original. \n",
    "\n",
    "**Teorema**\n",
    "Un problema lineal admite solución factible si y sólo si el valor óptimo de su Fase I es 0.\n",
    "\n"
   ]
  },
  {
   "cell_type": "markdown",
   "metadata": {},
   "source": [
    "![](../Images/fase_I_simplex.png)\n",
    "\n",
    "![](../Images/FaseISimplex.png)\n"
   ]
  },
  {
   "cell_type": "markdown",
   "metadata": {},
   "source": [
    "### Casos particulares\n",
    "\n",
    "-  Así como una instancia del problema de flujo a costo mínimo puede ser infactible, existen otras situaciones especiales que podrían darse y que son convenientes de estudiar. A continuación, estudiaremos algunos casos particulares.\n"
   ]
  },
  {
   "cell_type": "markdown",
   "metadata": {},
   "source": [
    "**Solución degenerada**"
   ]
  },
  {
   "cell_type": "markdown",
   "metadata": {},
   "source": [
    "1. Existe un empate entre las variables no básicas con costo reducido negativo. En este caso, se puede escoger cualquiera de ellas para agregar al árbol. Sin importar nuestra elección en la próxima base habrá un flujo nulo."
   ]
  },
  {
   "cell_type": "markdown",
   "metadata": {},
   "source": [
    "![](../Images/casos_especiales0.png)\n",
    "![](../Images/casos_especiales.png)"
   ]
  },
  {
   "cell_type": "markdown",
   "metadata": {},
   "source": [
    "Escogemos el arco $(21)$ para salir de la base.\n",
    "\n",
    "![](../Images/casos_especiales2.png)\n",
    "\n",
    "La solución que presentamos, con una variable básica con flujo nulo, es una solución degenerada."
   ]
  },
  {
   "cell_type": "markdown",
   "metadata": {},
   "source": [
    "Sigamos aplicando el algoritmo simplex de redes.\n",
    "\n",
    "![](../Images/casos_especiales30.png)\n",
    "![](../Images/casos_especiales3.png)\n",
    "\n",
    "![](../Images/casos_especiales4.png)\n",
    "\n"
   ]
  },
  {
   "cell_type": "markdown",
   "metadata": {},
   "source": [
    "***Comentarios:***\n",
    "1. Fue necesario probar dos bases distintas dentro del mismo vértice para poder concluir que esta solución era óptima. \n",
    "2. La solución óptima es degenerada, pues una de las variables básicas tiene flujo nulo.\n",
    "3. Una solución degenerada implica que existe más de una base asociada a este vértice del dominio.   \n",
    "4. El anterior punto puede llevar a iterar bases dentro de un mismo vértice del dominio, sin mejora de la función objetivo. En estos casos se debe iterar hasta escapar del vértice degenerado, o hasta probar su optimalidad. \n",
    "6. Existen instancias donde el algoritmo puede quedarse atrapado en un nodo (ciclaje). Para evitar iterar infinitamente dentro de un vértice existen reglas de pivoteo que permiten escapar de un vértice degenerado.\n",
    "5. A pesar de que la solución era la misma, los potenciales si cambiaban. Esto implica que, si el óptimo es degenerado, el problema dual tiene múltiples soluciones óptimas (incluso fijando arbitrariamente el valor como lo hacemos en el SIMPLEX de redes).\n",
    "\n"
   ]
  },
  {
   "cell_type": "markdown",
   "metadata": {},
   "source": [
    "**Soluciones múltiples**"
   ]
  },
  {
   "cell_type": "markdown",
   "metadata": {},
   "source": [
    "Vemos que nos encontramos en una solución óptima, pero que tenemos un arco con costo reducido igual a cero, esto implica que, si entramos este arco a la base, no vamos a mejorar la función objetivo, pero tampoco la vamos a empeorar."
   ]
  },
  {
   "cell_type": "markdown",
   "metadata": {},
   "source": [
    "![](../Images/casos_especiales5.png)"
   ]
  },
  {
   "cell_type": "markdown",
   "metadata": {},
   "source": [
    "Si hacemos entrar al arco $(31)$ a la base, obtenemos una solución factible distinta a la anterior, pero con el mismo valor de la función objetivo.\n",
    "\n",
    "![](../Images/casos_especiales6.png)"
   ]
  },
  {
   "cell_type": "markdown",
   "metadata": {},
   "source": [
    "***Comentarios:***\n",
    "1. Al terminar de ejecutar el algoritmo SIMPLEX de redes. Llamemos al árbol (base) óptimo encontrado $B_0$.\n",
    "2. Si existe un arco $(ij)$ con costo reducido igual a cero, entonces existe otro árbol (base) óptimo $B_1$ que contiene a $(ij)$.\n",
    "3. $z_1 = z_0$, esto es, $B_0$ y $B_1$ son árboles distintos, pero tienen el mismo costo.\n",
    "4. Cualquier solución entre $B_0$ y $B_1$ es óptima. Esto es, $x^*=\\lambda x_0 + (1-\\lambda)x_1$ con $\\lambda \\in [0,1]$ también es óptima.\n",
    "5. Cabe noral que podría pasar que exista un arco $(ij)$ con costo reducido igual a cero, pero que no exista otro árbol (base) óptimo que contenga a $(ij)$. En este caso, la solución óptima es única. (¿En qué caso podría pasar esto?)\n",
    "6. En general, si hay $k$ costos reducidos iguales a cero, con bases óptimas asociadas $B_k$, se tiene que también son óptimas todas combinaciones convexas de bases óptimas:\n",
    "$$x^*=sum_{i=0}^k \\lambda_i x_i \\quad \\text{con} \\quad \\sum_{i=0}^k \\lambda_i = 1 \\quad \\text{y} \\quad \\lambda_i \\geq 0 \\quad \\forall i \\in \\{0,1,...,k\\}$$ \n",
    "\n"
   ]
  },
  {
   "cell_type": "markdown",
   "metadata": {},
   "source": [
    "**Solución no acotada**\n",
    "\n",
    "![](../Images/casos_especiales7.png)\n",
    "\n",
    "Un problema factible tendrá solución no acotada si y solo si contiene un ciclo dirigido de costos negativos $C \\subset A$ con costo negativo: $\\sum_{(ij)\\in C}C_{ij}$.\n",
    "\n",
    "Esta situación genera una oportunidad de beneficio ilimitado... o estamos frente a un problema mal planteado?"
   ]
  },
  {
   "cell_type": "markdown",
   "metadata": {},
   "source": [
    "### Integralidad\n",
    "\n",
    "En ocasiones, un problema de flujo en redes puede poseer la restricción adicional de que los flujos deben ser enteros. En este caso, el problema se conoce como problema de flujo en redes con restricciones de integralidad.\n",
    "Hasta ahora, todas nuestras soluciones han satisfecho esta propiedad. ¿Casualidad?\n",
    "\n",
    "No, todo poliedro definido por restricciones lineales en las que el lado derecho posee sólo valores enteros, y donde la matriz de parámetros del lado izquierdo es totalmente unimodular, posee una solución básica factible con variables enteras.\n",
    "\n",
    "**Matrices totalmente unimodulares**\n",
    "\n",
    "Se define como matriz unimodular a toda matriz cuadrada compuesta por elementos enteros y cuyo determinante es igual a 1 o -1.\n",
    "\n",
    "Una matriz es totalmente unimodular si todas sus submatrices cuadradas no singulares son unimodulares. Esto implica que una matriz totalmente unimodular sólo puede contener elementos enteros, 1, 0 o -1.\n",
    "\n",
    "***Teorema***\n",
    "Una matriz cuyas columnas poseen sólo dos elementos distintos de cero, uno positivo y otro negativo, es totalmente unimodular.    \n",
    "    - Esto implica que, en nuestro problema, si $b_{ij}$, $u_{ij}$ y $l_{ij}$ son enteros, los flujos también lo serán.\n"
   ]
  }
 ],
 "metadata": {
  "kernelspec": {
   "display_name": "Python 3",
   "language": "python",
   "name": "python3"
  },
  "language_info": {
   "codemirror_mode": {
    "name": "ipython",
    "version": 3
   },
   "file_extension": ".py",
   "mimetype": "text/x-python",
   "name": "python",
   "nbconvert_exporter": "python",
   "pygments_lexer": "ipython3",
   "version": "3.9.13"
  },
  "widgets": {
   "application/vnd.jupyter.widget-state+json": {
    "state": {},
    "version_major": 2,
    "version_minor": 0
   }
  }
 },
 "nbformat": 4,
 "nbformat_minor": 4
}
