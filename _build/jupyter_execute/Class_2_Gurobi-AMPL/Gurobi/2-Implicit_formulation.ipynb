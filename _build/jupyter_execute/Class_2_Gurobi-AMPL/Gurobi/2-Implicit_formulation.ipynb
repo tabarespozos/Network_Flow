{
 "cells": [
  {
   "cell_type": "markdown",
   "metadata": {},
   "source": [
    "## **Lectura 2: Formulación implícita**"
   ]
  },
  {
   "cell_type": "markdown",
   "metadata": {},
   "source": [
    "### **Modelando en Gurobi: Desde lo Matemático a Python**\n",
    "\n",
    "**1. Conjuntos**\n",
    "\n",
    "*Expresión Matemática:* \n",
    "- $ I = \\{1, 2, ..., n\\} $\n",
    "\n",
    "- $ J = \\{a, b, ..., z\\} $\n",
    "\n",
    "- $ K = \\{(i, j) | i \\in I, j \\in J \\} $ (Producto cruzado)"
   ]
  },
  {
   "cell_type": "markdown",
   "metadata": {},
   "source": [
    "\n",
    "*En Python:*\n",
    "```python\n",
    "I = range(1, n+1)\n",
    "J = list(string.ascii_lowercase)\n",
    "K = [(i, j) for i in I for j in J]\n",
    "```\n"
   ]
  },
  {
   "cell_type": "markdown",
   "metadata": {},
   "source": [
    "**2. Parámetros**\n",
    "\n",
    "Pueden ser determinísticos o estocásticos, unidimensionales o multidimensionales.\n",
    "\n",
    "*Expresión Matemática:* \n",
    "\n",
    "- $ c_{ij} $ (costos asociados al conjunto $K $, matriz)\n",
    "- $ d_{ijk} $ (demanda tridimensional para conjuntos $I, J, K $)\n"
   ]
  },
  {
   "cell_type": "markdown",
   "metadata": {},
   "source": [
    "\n",
    "*En Python:*\n",
    "```python\n",
    "c = {(i, j): random.uniform(1, 10) for i, j in K}  # Un diccionario con costos aleatorios\n",
    "d = {(i, j, k): random.randint(5, 20) for i in I for j in J for k in K}\n",
    "```\n"
   ]
  },
  {
   "cell_type": "markdown",
   "metadata": {},
   "source": [
    "\n",
    "**3. Variables**\n",
    "\n",
    "Consideremos variables binarias, continuas, y enteras, todas multidimensionales.\n",
    "\n",
    "*Expresión Matemática:* \n",
    "$ x_{ijk} $ (cantidad del producto $i $ a enviar al destino $j $ en el periodo $k $)\n",
    "$ y_{ij} \\in \\{0, 1\\} $ (variable binaria que es 1 si se realiza el envío $i $ a $j $)\n",
    "$ z_{i} $ (variable entera que representa un cierto volumen asociado con $i $)\n"
   ]
  },
  {
   "cell_type": "markdown",
   "metadata": {},
   "source": [
    "*En Python:*\n",
    "```python\n",
    "x = m.addVars(I, J, K, vtype=GRB.CONTINUOUS, name=\"x\")\n",
    "y = m.addVars(I, J, vtype=GRB.BINARY, name=\"y\")\n",
    "z = m.addVars(I, vtype=GRB.INTEGER, name=\"z\")\n",
    "```\n"
   ]
  },
  {
   "cell_type": "markdown",
   "metadata": {},
   "source": [
    "\n",
    "**4. Restricciones**\n",
    "\n",
    "Supongamos que, además de la demanda, tenemos restricciones de capacidad y lógicas.\n",
    "\n",
    "*Expresión Matemática:* \n",
    "\n",
    "a) Demanda:\n",
    "$ \\sum_{i \\in I} x_{ijk} \\leq d_{ijk} \\quad \\forall j \\in J, k \\in K $\n"
   ]
  },
  {
   "cell_type": "markdown",
   "metadata": {},
   "source": [
    "\n",
    "```python\n",
    "M = 1000\n",
    "T = 50\n",
    "# a) Demanda\n",
    "for j in J:\n",
    "    for k in K:\n",
    "        m.addConstr(quicksum(x[i, j, k] for i in I) <= d[i, j, k], name=f\"demanda_{j}_{k}\")\n",
    "```"
   ]
  },
  {
   "cell_type": "markdown",
   "metadata": {},
   "source": [
    "b) Capacidad:\n",
    "$ \\sum_{j \\in J} x_{ijk} \\leq z_i \\times M \\quad \\forall i \\in I, k \\in K $ (donde $M $ es una constante grande)\n"
   ]
  },
  {
   "cell_type": "markdown",
   "metadata": {},
   "source": [
    "    \n",
    "```python\n",
    "M = 1000\n",
    "# b) Capacidad\n",
    "for i in I:\n",
    "    for k in K:\n",
    "        m.addConstr(quicksum(x[i, j, k] for j in J) <= z[i] * M, name=f\"capacidad_{i}_{k}\")\n",
    "```\n",
    "    \n"
   ]
  },
  {
   "cell_type": "markdown",
   "metadata": {},
   "source": [
    "c) Lógica (Si $y_{ij} $ es 1, entonces $\\sum_k x_{ijk} $ debe ser mayor que un umbral $T $):\n",
    "$ y_{ij} \\times T \\leq \\sum_k x_{ijk} $\n"
   ]
  },
  {
   "cell_type": "markdown",
   "metadata": {},
   "source": [
    "\n",
    "```python\n",
    "M = 1000\n",
    "T = 50\n",
    "# c) Lógica\n",
    "for i in I:\n",
    "    for j in J:\n",
    "        m.addConstr(y[i, j] * T <= quicksum(x[i, j, k] for k in K), name=f\"logica_{i}_{j}\")\n",
    "```\n"
   ]
  },
  {
   "cell_type": "markdown",
   "metadata": {},
   "source": [
    "\n",
    "**5. Función Objetivo**\n",
    "\n",
    "Supongamos que queremos minimizar el costo total y penalizar el uso de ciertas combinaciones.\n",
    "\n",
    "*Expresión Matemática:* \n",
    "$ \\min \\sum_{i \\in I} \\sum_{j \\in J} \\sum_{k \\in K} c_{ij} \\times x_{ijk} + P \\times y_{ij} $\n",
    "(donde $P $ es una penalización por usar la combinación $i, j $)\n"
   ]
  },
  {
   "cell_type": "markdown",
   "metadata": {},
   "source": [
    "\n",
    "*En Python:*\n",
    "```python\n",
    "P = 10\n",
    "m.setObjective(quicksum(c[i, j] * x[i, j, k] for i in I for j in J for k in K) + P * quicksum(y[i, j] for i in I for j in J), GRB.MINIMIZE)\n",
    "```\n",
    "\n"
   ]
  },
  {
   "cell_type": "markdown",
   "metadata": {},
   "source": [
    "## Ejemplo ilustrativo\n",
    "\n",
    "\n",
    "Considere una empresa de consultoría que tiene tres puestos vacantes: Probador, Desarrollador Java y Arquitecto. Los tres principales candidatos (recursos) para los puestos son: Carlos, Joe y Monika. La consultora ha realizado pruebas de competencia a cada uno de los candidatos para evaluar su capacidad para desempeñar cada uno de los puestos. Los resultados de estas pruebas se denominan *puntuaciones de emparejamiento*. Supongamos que sólo se puede asignar un candidato a un puesto de trabajo y que, como máximo, se puede asignar un puesto de trabajo a un candidato.\n",
    "\n",
    "El problema consiste en determinar una asignación de recursos y trabajos tal que cada trabajo se cumpla, cada recurso se asigne a un trabajo como máximo y la puntuación total de las asignaciones sea máxima.\n",
    "\n",
    "\n",
    "\n"
   ]
  },
  {
   "cell_type": "markdown",
   "metadata": {
    "id": "frg-VhnwdlFk"
   },
   "source": [
    "El siguiente código Python importa la librería Gurobi invocable e importa la clase ``GRB`` en el espacio de nombres principal."
   ]
  },
  {
   "cell_type": "code",
   "execution_count": 1,
   "metadata": {
    "id": "ljY6BevHdlFl"
   },
   "outputs": [],
   "source": [
    "import gurobipy as gp\n",
    "from gurobipy import GRB"
   ]
  },
  {
   "cell_type": "markdown",
   "metadata": {
    "id": "te3FmDsAdlFl"
   },
   "source": [
    "## Problema de asignación de recursos\n",
    "### Datos\n",
    "La lista $R$ contiene los nombres de los tres recursos: Carlos, Joe y Monika.\n",
    "\n",
    "La lista $J$ contiene los nombres de los puestos de trabajo: Probador, Desarrollador Java y Arquitecto.\n",
    "\n",
    "$r \\in R$: índice y conjunto de recursos. El recurso $r$ pertenece al conjunto de recursos $R$.\n",
    "\n",
    "$j \\in J$: índice y conjunto de puestos de trabajo. El trabajo $j$ pertenece al conjunto de trabajos $J$."
   ]
  },
  {
   "cell_type": "code",
   "execution_count": 2,
   "metadata": {
    "id": "0yzp1UijdlFl"
   },
   "outputs": [],
   "source": [
    "# Resource and job sets\n",
    "R = ['Carlos', 'Joe', 'Monika']\n",
    "J = ['Tester', 'JavaDeveloper', 'Architect']"
   ]
  },
  {
   "cell_type": "markdown",
   "metadata": {
    "id": "UqM_MUABdlFl"
   },
   "source": [
    "La capacidad de cada recurso para realizar cada uno de los trabajos se indica en la siguiente tabla de puntuaciones de concordancia:\n",
    "\n",
    "![scores](https://github.com/Gurobi/modeling-examples/blob/master/intro_to_modeling/matching_score_data.PNG?raw=1)\n",
    "\n",
    "Para cada recurso $r$ y trabajo $j$, existe una puntuación de coincidencia correspondiente $s$. La puntuación de concordancia $s$ sólo puede tomar valores entre 0 y 100. Es decir, $s_{r,j}$ es la puntuación de concordancia. Es decir,  $s_{r,j} \\in [0, 100]$  para todos los recursos $r \\in R$ y trabajos $j \\in J$.\n",
    "\n"
   ]
  },
  {
   "cell_type": "code",
   "execution_count": 3,
   "metadata": {
    "id": "QR-ovvTadlFm"
   },
   "outputs": [],
   "source": [
    "# Combinaciones posibles (producto cruzado)\n",
    "K = [(r, j) for r in R for j in J]\n",
    "\n",
    "# 2. Parámetros\n",
    "# Datos de puntuación de coincidencia para cada combinación posible de persona-trabajo\n",
    "scores = {\n",
    "    ('Carlos', 'Tester'): 53,\n",
    "    ('Carlos', 'JavaDeveloper'): 27,\n",
    "    ('Carlos', 'Architect'): 13,\n",
    "    ('Joe', 'Tester'): 80,\n",
    "    ('Joe', 'JavaDeveloper'): 47,\n",
    "    ('Joe', 'Architect'): 67,\n",
    "    ('Monika', 'Tester'): 53,\n",
    "    ('Monika', 'JavaDeveloper'): 73,\n",
    "    ('Monika', 'Architect'): 47\n",
    "}"
   ]
  },
  {
   "cell_type": "markdown",
   "metadata": {
    "id": "yhtiBJI0dlFm"
   },
   "source": [
    "El siguiente constructor crea un objeto ``Model`` vacío \"m\". Especificamos el nombre del modelo pasando la cadena \"RAP\" como argumento. El objeto ``Model`` \"m\" contiene un único problema de optimización. Consiste en un conjunto de variables, un conjunto de restricciones, y la función objetivo."
   ]
  },
  {
   "cell_type": "code",
   "execution_count": 4,
   "metadata": {
    "id": "npwhSAofdlFo"
   },
   "outputs": [
    {
     "name": "stdout",
     "output_type": "stream",
     "text": [
      "Restricted license - for non-production use only - expires 2024-10-28\n"
     ]
    }
   ],
   "source": [
    "# Declare and initialize model\n",
    "m = gp.Model('RAP')"
   ]
  },
  {
   "cell_type": "markdown",
   "metadata": {
    "id": "SHZ33mN5dlFo"
   },
   "source": [
    "## Variables de decisión\n",
    "\n",
    "Para resolver este problema de asignación, necesitamos identificar qué recurso se asigna a qué trabajo. Introducimos una variable de decisión para cada posible asignación de recursos a trabajos. Por lo tanto, tenemos 9 variables de decisión.\n",
    "\n",
    "Para simplificar la notación matemática de la formulación del modelo, definimos los siguientes índices para los recursos y los empleos:\n",
    "\n",
    "![variables](https://github.com/Gurobi/modeling-examples/blob/master/intro_to_modeling/decision_variables.PNG?raw=1)\n",
    "\n",
    "Por ejemplo, $x_{2,1}$ es la variable de decisión asociada con la asignación del recurso Joe al trabajo Tester. Por lo tanto, la variable de decisión $x_{r,j}$ es igual a 1 si el recurso $r \\in R$ se asigna al trabajo $j \\in J$, y 0 en caso contrario.\n",
    "\n",
    "El método ``Model.addVars()`` crea las variables de decisión para un objeto ``Model``.\n",
    "Este método devuelve un objeto ``tupledict`` de Gurobi que contiene las variables recién creadas. Proporcionamos el objeto ``K`` como primer argumento para especificar los índices de las variables. La palabra clave ``name`` se utiliza para especificar un nombre para las variables de decisión recién creadas. Por defecto, se supone que las variables no son negativas."
   ]
  },
  {
   "cell_type": "code",
   "execution_count": 5,
   "metadata": {
    "id": "jcQfIiIydlFp"
   },
   "outputs": [],
   "source": [
    "# 3. Variables\n",
    "# Variables de decisión: x[r, j] será 1 si el recurso 'r' es asignado al trabajo 'j', y 0 de lo contrario.\n",
    "x = m.addVars(K, vtype=GRB.BINARY, name=\"assign\")"
   ]
  },
  {
   "cell_type": "markdown",
   "metadata": {
    "id": "VzAFwPHjdlFp"
   },
   "source": [
    "## Restricciones de los trabajos\n",
    "\n",
    "Ahora hablaremos de las restricciones asociadas a los trabajos. Estas restricciones deben garantizar que cada puesto sea ocupado exactamente por un recurso.\n",
    "\n",
    "La restricción del puesto de trabajo Probador requiere que el recurso 1 (Carlos), el recurso 2 (Joe) o el recurso 3 (Monika) estén asignados a este puesto de trabajo. Esto corresponde a la siguiente restricción.\n",
    "\n",
    "Restricción (Probador=1)\n",
    "\n",
    "$$\n",
    "x_{1,1} + x_{2,1} + x_{3,1} = 1\n",
    "$$\n",
    "\n",
    "Del mismo modo, las restricciones para los puestos de Desarrollador Java y Arquitecto pueden definirse del siguiente modo.\n",
    "\n",
    "Restricción (Desarrollador Java = 2)\n",
    "\n",
    "$$\n",
    "x_{1,2} + x_{2,2} + x_{3,2} = 1\n",
    "$$\n",
    "\n",
    "Restricción (Arquitecto = 3)\n",
    "\n",
    "$$\n",
    "x_{1,3} + x_{2,3} + x_{3,3} = 1\n",
    "$$\n",
    "\n",
    "Las restricciones de los trabajos están definidas por las columnas de la siguiente tabla.\n",
    "\n",
    "![trabajos](../Images/jobs_constraints.png)\n",
    "\n",
    "En general, la restricción para el trabajo Tester se puede definir de la siguiente manera.\n",
    "\n",
    "$$\n",
    "x_{1,1} + x_{2,1} + x_{3,1} = \\sum_{r=1}^{3 } x_{r,1} = \\sum_{r \\in R} x_{r,1} = 1\n",
    "$$\n",
    "\n",
    "Todas las restricciones de trabajo pueden definirse de forma igualmente sucinta. Para cada trabajo $j \\in J$, se toma el sumatorio de las variables de decisión sobre todos los recursos. Podemos escribir la restricción de trabajo correspondiente de la siguiente manera.\n",
    "\n",
    "$$\n",
    "\\sum_{r \\in R} x_{r,j} = 1\n",
    "$$\n",
    "\n",
    "El método ``Model.addConstrs()`` de la API de Gurobi/Python define las restricciones de trabajo del objeto ``Model`` \"m\". Este método devuelve un objeto ``tupledict`` de Gurobi que contiene las restricciones de trabajo.\n",
    "El primer argumento de este método, \"gp.quicksum(x[r, j] for r in R)\", es el método de la suma y define el LHS de las restricciones de los trabajos de la siguiente manera:\n",
    "Para cada trabajo $j$ en el conjunto de trabajos $J$, tome la suma de las variables de decisión sobre todos los recursos. El $==$ define una restricción de igualdad, y el número \"1\" es el RHS de las restricciones.\n",
    "\n",
    "Estas restricciones dicen que se debe asignar exactamente un recurso a cada trabajo. El segundo argumento es el nombre de este tipo de restricciones.\n"
   ]
  },
  {
   "cell_type": "code",
   "execution_count": 6,
   "metadata": {
    "id": "zvxIRFWYdlFq"
   },
   "outputs": [],
   "source": [
    "# Restricciones de trabajo: Asegurar que cada trabajo es asignado exactamente a una persona\n",
    "for j in J:\n",
    "    m.addConstr(gp.quicksum(x[r, j] for r in R) == 1, name=f\"job_{j}\")\n"
   ]
  },
  {
   "cell_type": "markdown",
   "metadata": {
    "id": "_dwlf58TdlFq"
   },
   "source": [
    "## Restricciones de los recursos\n",
    "\n",
    "Las restricciones de los recursos deben garantizar que se asigne como máximo un trabajo a cada recurso. Es decir, es posible que no todos los recursos estén asignados.\n",
    "\n",
    "Por ejemplo, queremos una restricción que requiera que Carlos esté asignado como máximo a uno de los trabajos: o bien al trabajo 1 (Probador), o bien al trabajo 2 (Desarrollador Java ), o bien al trabajo 3 (Arquitecto). Podemos escribir esta restricción de la siguiente manera.\n",
    "\n",
    "Restricción (Carlos=1)\n",
    "\n",
    "$$\n",
    "x_{1, 1} + x_{1, 2} + x_{1, 3} \\leq 1.\n",
    "$$\n",
    "\n",
    "Esta restricción es menor o igual que 1 para permitir la posibilidad de que Carlos no esté asignado a ningún trabajo. Del mismo modo, las restricciones para los recursos Joe y Monika pueden definirse del siguiente modo:\n",
    "\n",
    "Restricción (Joe=2)\n",
    "\n",
    "$$\n",
    "x_{2, 1} + x_{2, 2} + x_{2, 3} \\leq 1.\n",
    "$$\n",
    "\n",
    "Restricción (Monika=3)\n",
    "\n",
    "$$\n",
    "x_{3, 1} + x_{3, 2} + x_{3, 3} \\leq 1.\n",
    "$$\n",
    "\n",
    "Obsérvese que las restricciones de recursos están definidas por las filas de la tabla siguiente.\n",
    "\n",
    "![recursos](https://github.com/Gurobi/modeling-examples/blob/master/intro_to_modeling/resource_constraints.PNG?raw=1)\n",
    "\n",
    "La restricción del recurso Carlos se puede definir de la siguiente manera.\n",
    "\n",
    "$$\n",
    "x_{1, 1} + x_{1, 2} + x_{1, 3} = \\sum_{j=1}^{3 } x_{1,j} = \\sum_{j \\in J} x_{1,j} \\leq 1.\n",
    "$$\n",
    "\n",
    "De nuevo, cada una de estas restricciones puede escribirse de forma sucinta. Para cada recurso $r \\in R$, tomar la suma de las variables de decisión sobre todos los puestos de trabajo. Podemos escribir la restricción de recursos correspondiente de la siguiente manera.\n",
    "\n",
    "$$\n",
    "\\sum_{j \\in J} x_{r,j} \\leq  1.\n",
    "$$\n"
   ]
  },
  {
   "cell_type": "code",
   "execution_count": 7,
   "metadata": {
    "id": "oXaU4jtidlFq"
   },
   "outputs": [],
   "source": [
    "# Restricciones de recurso: Asegurar que cada persona es asignada a lo sumo a un trabajo\n",
    "for r in R:\n",
    "    m.addConstr(gp.quicksum(x[r, j] for j in J) <= 1, name=f\"resource_{r}\")\n"
   ]
  },
  {
   "cell_type": "markdown",
   "metadata": {
    "id": "d1sV0JE5dlFq"
   },
   "source": [
    "## Función objetivo\n",
    "\n",
    "La función objetivo es maximizar la puntuación total de las asignaciones que satisfacen las restricciones del trabajo y de los recursos.\n",
    "\n",
    "Para la tarea Comprobador, la puntuación de correspondencia es $53x_{1,1}$, si se asigna el recurso Carlos, o $80x_{2,1}$, si se asigna el recurso Joe, o $53x_{3,1}$, si se asigna el recurso Monika.\n",
    "En consecuencia, la puntuación de coincidencia para el trabajo de Comprobador es la siguiente, donde sólo un término de esta suma será distinto de cero.\n",
    "\n",
    "$$\n",
    "53x_{1,1} + 80x_{2,1} + 53x_{3,1}.\n",
    "$$\n",
    "\n",
    "Del mismo modo, las puntuaciones para los puestos de Desarrollador Java y Arquitecto se definen del siguiente modo. La puntuación para el puesto de Desarrollador Java es:\n",
    "\n",
    "$$\n",
    "27x_{1, 2} + 47x_{2, 2} + 73x_{3, 2}.\n",
    "$$\n",
    "\n",
    "La puntuación para el puesto de Arquitecto es:\n",
    "\n",
    "$$\n",
    "13x_{1, 3} + 67x_{2, 3} + 47x_{3, 3}.\n",
    "$$\n",
    "\n",
    "La puntuación total de coincidencia es la suma de cada celda de la siguiente tabla.\n",
    "\n",
    "![objfcn](https://github.com/Gurobi/modeling-examples/blob/master/intro_to_modeling/objective_function.PNG?raw=1)\n",
    "\n",
    "El objetivo es maximizar la puntuación total de coincidencia de las asignaciones. Por lo tanto, la función objetivo se define de la siguiente manera.\n",
    "\n",
    "\\begin{equation}\n",
    "\\text{Maximize} \\quad (53x_{1,1} + 80x_{2,1} + 53x_{3,1}) \\; +\n",
    "\\end{equation}\n",
    "\n",
    "\\begin{equation}\n",
    "\\quad (27x_{1, 2} + 47x_{2, 2} + 73x_{3, 2}) \\; +\n",
    "\\end{equation}\n",
    "\n",
    "\\begin{equation}\n",
    "\\quad (13x_{1, 3} + 67x_{2, 3} + 47x_{3, 3}).\n",
    "\\end{equation}\n",
    "\n",
    "Cada término entre paréntesis en la función objetivo se puede expresar de la siguiente manera.\n",
    "\n",
    "\n",
    "\\begin{equation}\n",
    "(53x_{1,1} + 80x_{2,1} + 53x_{3,1}) = \\sum_{r \\in R} s_{r,1}x_{r,1}.\n",
    "\\end{equation}\n",
    "\n",
    "\\begin{equation}\n",
    "(27x_{1, 2} + 47x_{2, 2} + 73x_{3, 2}) = \\sum_{r \\in R} s_{r,2}x_{r,2}.\n",
    "\\end{equation}\n",
    "\n",
    "\\begin{equation}\n",
    "(13x_{1, 3} + 67x_{2, 3} + 47x_{3, 3}) = \\sum_{r \\in R} s_{r,3}x_{r,3}.\n",
    "\\end{equation}\n",
    "\n",
    "Por lo tanto, la función objetivo se puede escribir de forma concisa como:\n",
    "\n",
    "\\begin{equation}\n",
    "\\text{Maximize} \\quad \\sum_{j \\in J} \\sum_{r \\in R} s_{r,j}x_{r,j}.\n",
    "\\end{equation}\n",
    "\n",
    "El método ``Model.setObjective()`` de la API de Gurobi/Python define la función objetivo del objeto ``Model`` \"m\". La expresión objetivo se especifica en el primer argumento de este método.\n",
    "Nótese que tanto los parámetros de puntuación de coincidencia \"score\" como las variables de decisión de asignación \"x\" se definen sobre las claves \"k\".\n",
    "\n",
    "El segundo argumento, ``GRB.MAXIMIZE``, es el \"sentido\" de la optimización. En este caso, queremos *maximizar* el total de puntuaciones coincidentes de todas las asignaciones."
   ]
  },
  {
   "cell_type": "code",
   "execution_count": 8,
   "metadata": {
    "id": "DaKRJ4TmdlFq"
   },
   "outputs": [],
   "source": [
    "# 5. Función Objetivo\n",
    "# Maximizar la puntuación total de coincidencia de todas las asignaciones\n",
    "m.setObjective(gp.quicksum(scores[r, j] * x[r, j] for r in R for j in J), GRB.MAXIMIZE)\n"
   ]
  },
  {
   "cell_type": "markdown",
   "metadata": {
    "id": "S8Rr3LrKdlFr"
   },
   "source": [
    "Utilizamos el método \"write()\" de la API de Gurobi/Python para escribir la formulación del modelo en un archivo llamado \"RAP.lp\"."
   ]
  },
  {
   "cell_type": "code",
   "execution_count": 9,
   "metadata": {
    "id": "VbSj3FbndlFr"
   },
   "outputs": [],
   "source": [
    "# Guardar el modelo para inspección posterior\n",
    "m.write('RAP.lp')"
   ]
  },
  {
   "cell_type": "markdown",
   "metadata": {
    "id": "I6Vtq6g3dlFr"
   },
   "source": [
    "![RAP](https://github.com/Gurobi/modeling-examples/blob/master/intro_to_modeling/RAP_lp.PNG?raw=1)"
   ]
  },
  {
   "cell_type": "markdown",
   "metadata": {
    "id": "t9zoAtaFdlFr"
   },
   "source": [
    "Utilizamos el método \"optimize( )\" de la API de Gurobi/Python para resolver el problema que hemos definido para el objeto modelo \"m\"."
   ]
  },
  {
   "cell_type": "code",
   "execution_count": 10,
   "metadata": {
    "id": "iLIKLU8odlFr",
    "scrolled": true
   },
   "outputs": [
    {
     "name": "stdout",
     "output_type": "stream",
     "text": [
      "Gurobi Optimizer version 10.0.2 build v10.0.2rc0 (win64)\n",
      "\n",
      "CPU model: 12th Gen Intel(R) Core(TM) i7-1265U, instruction set [SSE2|AVX|AVX2]\n",
      "Thread count: 10 physical cores, 12 logical processors, using up to 12 threads\n",
      "\n",
      "Optimize a model with 6 rows, 9 columns and 18 nonzeros\n",
      "Model fingerprint: 0x0a338f16\n",
      "Variable types: 0 continuous, 9 integer (9 binary)\n",
      "Coefficient statistics:\n",
      "  Matrix range     [1e+00, 1e+00]\n",
      "  Objective range  [1e+01, 8e+01]\n",
      "  Bounds range     [1e+00, 1e+00]\n",
      "  RHS range        [1e+00, 1e+00]\n",
      "Presolve time: 0.01s\n",
      "Presolved: 6 rows, 9 columns, 18 nonzeros\n",
      "Variable types: 0 continuous, 9 integer (9 binary)\n",
      "Found heuristic solution: objective 193.0000000\n",
      "\n",
      "Root relaxation: cutoff, 0 iterations, 0.00 seconds (0.00 work units)\n",
      "\n",
      "Explored 1 nodes (0 simplex iterations) in 0.03 seconds (0.00 work units)\n",
      "Thread count was 12 (of 12 available processors)\n",
      "\n",
      "Solution count 1: 193 \n",
      "\n",
      "Optimal solution found (tolerance 1.00e-04)\n",
      "Best objective 1.930000000000e+02, best bound 1.930000000000e+02, gap 0.0000%\n"
     ]
    }
   ],
   "source": [
    "# Ejecutar el optimizador\n",
    "m.optimize()"
   ]
  },
  {
   "cell_type": "markdown",
   "metadata": {
    "id": "K6U0fxEudlFr"
   },
   "source": [
    "El método ``Model.getVars()`` de la API de Gurobi/Python\n",
    "recupera una lista de todas las variables del objeto Modelo \"m\". El atributo de variable ``.x`` se utiliza para consultar los valores de la solución y el atributo ``.varName`` se utiliza para consultar el nombre de las variables de decisión."
   ]
  },
  {
   "cell_type": "code",
   "execution_count": 11,
   "metadata": {
    "id": "_bw22lRudlFr"
   },
   "outputs": [
    {
     "name": "stdout",
     "output_type": "stream",
     "text": [
      "assign[Carlos,Tester] 1.0\n",
      "assign[Joe,Architect] 1.0\n",
      "assign[Monika,JavaDeveloper] 1.0\n",
      "Total matching score:  193.0\n"
     ]
    }
   ],
   "source": [
    "# Visulizar la solución del problema de asignación de tareas\n",
    "for v in m.getVars():\n",
    "    if v.x > 1e-6:\n",
    "        print(v.varName, v.x)\n",
    "\n",
    "# Visulizar el valor de la función objetivo\n",
    "print('Total matching score: ', m.objVal)"
   ]
  },
  {
   "cell_type": "markdown",
   "metadata": {
    "id": "XbtnSSA1dlFr"
   },
   "source": [
    "La asignación óptima es asignar\n",
    "\n",
    "* Carlos al puesto de Probador, con una puntuación de 53\n",
    "* Joe al puesto de Arquitecto, con una puntuación de 67\n",
    "* Monika al puesto de Desarrollador Java, con una puntuación de 73.\n",
    "\n",
    "La máxima puntuación total es 193."
   ]
  }
 ],
 "metadata": {
  "colab": {
   "provenance": []
  },
  "kernelspec": {
   "display_name": "Python 3",
   "language": "python",
   "name": "python3"
  },
  "language_info": {
   "codemirror_mode": {
    "name": "ipython",
    "version": 3
   },
   "file_extension": ".py",
   "mimetype": "text/x-python",
   "name": "python",
   "nbconvert_exporter": "python",
   "pygments_lexer": "ipython3",
   "version": "3.9.13"
  }
 },
 "nbformat": 4,
 "nbformat_minor": 0
}