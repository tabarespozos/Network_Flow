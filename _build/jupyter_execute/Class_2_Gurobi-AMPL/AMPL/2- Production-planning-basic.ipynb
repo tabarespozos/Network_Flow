{
 "cells": [
  {
   "cell_type": "markdown",
   "metadata": {},
   "source": [
    "# Un Modelo Básico de AMPL\n",
    "\n",
    "AMPL es un lenguaje de modelado algebraico para la optimización matemática que se integra con el entorno de programación Python. Permite a los usuarios definir modelos de optimización que consisten en variables de decisión, funciones objetivo y restricciones, y calcular soluciones utilizando una variedad de solvers de código abierto y comerciales.\n",
    "\n",
    "Este cuaderno introduce los conceptos básicos de AMPL necesarios para formular y resolver el [problema de planificación de producción] introducido en el cuaderno anterior:\n",
    "\n",
    "* Variables\n",
    "* Objetivos\n",
    "* Restricciones\n",
    "* Resolución\n",
    "* Reporte de la solución\n",
    "\n",
    "El modelo de AMPL mostrado en este cuaderno es una traducción directa del modelo matemático en componentes básicos de AMPL. En este enfoque, los valores de los parámetros del modelo matemático se incluyen directamente en el modelo de AMPL para mayor simplicidad. "
   ]
  },
  {
   "cell_type": "markdown",
   "metadata": {},
   "source": [
    "\n",
    "## Paso Preliminar: Instalar AMPL y herramientas de Python\n",
    "\n",
    "Comenzamos instalando amplpy, la interfaz de programación de aplicaciones (o API) que integra el lenguaje de modelado AMPL con el lenguaje de programación Python. También instalamos dos utilidades de Python, matplotlib y pandas, que se utilizarán en las partes de este cuaderno que muestran resultados.\n",
    "\n",
    "Estas instalaciones deben realizarse solo una vez para cada entorno de Python en una computadora personal. Sin embargo, se debe realizar una nueva instalación para cada nueva sesión de Colab.\n"
   ]
  },
  {
   "cell_type": "code",
   "execution_count": 1,
   "metadata": {},
   "outputs": [
    {
     "name": "stdout",
     "output_type": "stream",
     "text": [
      "Note: you may need to restart the kernel to use updated packages.\n"
     ]
    }
   ],
   "source": [
    "# instalar dependencias\n",
    "%pip install -q amplpy matplotlib pandas"
   ]
  },
  {
   "cell_type": "code",
   "execution_count": 3,
   "metadata": {},
   "outputs": [],
   "source": [
    "# Install solver modules (e.g., HiGHS, CBC, Gurobi)\n",
    "# amplpy.modules install highs cbc gurobi"
   ]
  },
  {
   "cell_type": "code",
   "execution_count": 4,
   "metadata": {},
   "outputs": [
    {
     "data": {
      "application/vnd.jupyter.widget-view+json": {
       "model_id": "81709b04aeaf4691944fe3123251c980",
       "version_major": 2,
       "version_minor": 0
      },
      "text/plain": [
       "VBox(children=(Output(), HBox(children=(Text(value='', description='License UUID:', style=TextStyle(descriptio…"
      ]
     },
     "metadata": {},
     "output_type": "display_data"
    }
   ],
   "source": [
    "# Import and instantiate AMPL object in Python:\n",
    "\n",
    "from amplpy import AMPL, ampl_notebook\n",
    "\n",
    "ampl = ampl_notebook(\n",
    "    modules=[\"cbc\", \"highs\"],  # modules to install\n",
    "    license_uuid=\"default\",  # license to use\n",
    ")  # instantiate AMPL object and register magics"
   ]
  },
  {
   "cell_type": "markdown",
   "metadata": {},
   "source": [
    "\n",
    "## Paso 1. Importar AMPL\n",
    "\n",
    "El primer paso para un nuevo modelo de AMPL es importar los componentes necesarios en el entorno de AMPL. El código de Python que se muestra a continuación se utiliza al comienzo de cada cuaderno. Hay solo dos elementos que pueden variar según sus necesidades:\n",
    "\n",
    "* La lista de `modules` importa las herramientas necesarias. En nuestro caso, necesitamos solo amplpy.\n",
    "* El nombre del solver. Amplpy admite varios solvers disponibles, pero debe configurarse para utilizar uno de ellos.\n",
    "\n"
   ]
  },
  {
   "cell_type": "markdown",
   "metadata": {},
   "source": [
    "\n",
    "## Paso 2. Definir Variables\n",
    "\n",
    "El siguiente paso es definir las variables del modelo. Esto incluye tanto las variables de decisión como las variables auxiliares utilizadas para cálculos intermedios.\n",
    "\n"
   ]
  },
  {
   "cell_type": "code",
   "execution_count": 5,
   "metadata": {},
   "outputs": [],
   "source": [
    "%%ampl_eval\n",
    "# define decision variables\n",
    "\n",
    "reset;\n",
    "\n",
    "var xM >= 0;\n",
    "var xA >= 0, <= 80;\n",
    "var xB >= 0, <= 100;\n",
    "\n",
    "var yU >= 0, <= 40;\n",
    "var yV >= 0;"
   ]
  },
  {
   "cell_type": "markdown",
   "metadata": {},
   "source": [
    "\n",
    "## Paso 3. Definir la Función Objetivo\n",
    "\n",
    "El objetivo del modelo es maximizar las ganancias. Esto se logra definiendo la función objetivo como la diferencia entre los ingresos y los costos.\n",
    "\n"
   ]
  },
  {
   "cell_type": "code",
   "execution_count": 6,
   "metadata": {},
   "outputs": [],
   "source": [
    "%%ampl_eval\n",
    "# define objective function\n",
    "\n",
    "maximize Profit:\n",
    "   270*yU + 210*yV - 10*xM - 50*xA - 40*xB;"
   ]
  },
  {
   "cell_type": "markdown",
   "metadata": {},
   "source": [
    "\n",
    "## Paso 4. Definir las Restricciones\n",
    "\n",
    "Las restricciones se derivan de los recursos disponibles y los requisitos de los productos. Las restricciones se pueden escribir como:\n"
   ]
  },
  {
   "cell_type": "code",
   "execution_count": 8,
   "metadata": {},
   "outputs": [],
   "source": [
    "%%ampl_eval\n",
    "# define constraints\n",
    "\n",
    "subj to raw_materials: 10*yU + 9*yV <= xM;\n",
    "subj to labor_A: 2*yU + 1*yV <= xA;\n",
    "subj to labor_B: 1*yU + 1*yV <= xB;"
   ]
  },
  {
   "cell_type": "markdown",
   "metadata": {},
   "source": [
    "\n",
    "### Paso 5: Resolver el problema\n",
    "\n",
    "Con el modelo completamente especificado, el siguiente paso es calcular los valores óptimos para las variables de decisión. Para esto, usaremos comandos y llamadas a funciones de `amplpy` que gestionan la integración de AMPL y Python.\n",
    "\n",
    "Para calcular una solución óptima, llamamos a un **solver**: un programa separado que aplica algoritmos numéricos para determinar valores óptimos para las variables. Los pasos son los siguientes:\n",
    "\n",
    "1. **Mostrar y expandir los componentes del modelo**:\n",
    "   - Utiliza los comandos `show` y `expand` en AMPL para verificar que todo ha sido especificado correctamente.\n",
    "   - Usa la función `eval` de `amplpy.AMPL` para ejecutar estos comandos en AMPL desde Python.\n",
    "\n",
    "2. **Configurar el solver**:\n",
    "   - La opción `solver` de `amplpy.AMPL` se establece en uno de los solvers que cargamos en el paso 2.\n",
    "\n",
    "3. **Invocar el solver**:\n",
    "   - La función `solve` de `amplpy.AMPL` invoca el solver elegido. AMPL se encarga de convertir el modelo a la forma que el solver necesita para su cálculo, y convierte los resultados a un formato que puede ser usado en Python.\n",
    "\n"
   ]
  },
  {
   "cell_type": "code",
   "execution_count": 9,
   "metadata": {},
   "outputs": [
    {
     "name": "stdout",
     "output_type": "stream",
     "text": [
      "\n",
      "variables:   xA   xB   xM   yU   yV\n",
      "\n",
      "constraints:   labor_A   labor_B   raw_materials\n",
      "\n",
      "objective:   Profit\n",
      "maximize Profit:\n",
      "\t-10*xM - 50*xA - 40*xB + 270*yU + 210*yV;\n",
      "\n",
      "subject to raw_materials:\n",
      "\t-xM + 10*yU + 9*yV <= 0;\n",
      "\n",
      "subject to labor_A:\n",
      "\t-xA + 2*yU + yV <= 0;\n",
      "\n",
      "subject to labor_B:\n",
      "\t-xB + yU + yV <= 0;\n",
      "\n",
      "cbc 2.10.10:cbc 2.10.10: optimal solution; objective 2400\n",
      "0 simplex iterations\n",
      "HiGHS 1.7.0:HiGHS 1.7.0: optimal solution; objective 2400\n",
      "0 simplex iterations\n",
      "0 barrier iterations\n"
     ]
    }
   ],
   "source": [
    "# exhibit the model that has been built\n",
    "ampl.eval(\"show;\")\n",
    "ampl.eval(\"expand;\")\n",
    "\n",
    "# solve using two different solvers\n",
    "ampl.option[\"solver\"] = \"cbc\"\n",
    "ampl.solve()\n",
    "\n",
    "ampl.option[\"solver\"] = \"highs\"\n",
    "ampl.solve()"
   ]
  },
  {
   "cell_type": "markdown",
   "metadata": {},
   "source": [
    "## Paso 6. Reportando la solución\n",
    "\n",
    "El paso final en la mayoría de las aplicaciones es reportar la solución en un formato adecuado. Para este ejemplo, demostramos informes simples en formato tabular y gráfico utilizando la biblioteca Pandas. "
   ]
  },
  {
   "cell_type": "markdown",
   "metadata": {},
   "source": [
    "### Accediendo a los valores de la solución con `display`\n",
    "\n",
    "La función `ampl.display` de `amplpy` muestra los valores de una o más expresiones de AMPL, calculados a partir de los valores actuales de las variables. También puedes aplicar esta función a expresiones especiales como `_var` para los valores de todas las variables y `_varname` para los nombres de todas las variables."
   ]
  },
  {
   "cell_type": "code",
   "execution_count": 10,
   "metadata": {},
   "outputs": [
    {
     "name": "stdout",
     "output_type": "stream",
     "text": [
      "Profit = 2400\n",
      "\n",
      "270*yU + 210*yV = 16800\n",
      "10*xM + 50*xA + 40*xB = 14400\n",
      "\n",
      ": _varname  _var    :=\n",
      "1   xM       720\n",
      "2   xA        80\n",
      "3   xB        80\n",
      "4   yU         0\n",
      "5   yV        80\n",
      ";\n",
      "\n"
     ]
    }
   ],
   "source": [
    "# display a component of the model\n",
    "ampl.display(\"Profit\")\n",
    "ampl.display(\"270*yU + 210*yV\", \"10*xM + 50*xA + 40*xB\")\n",
    "\n",
    "ampl.display(\"_varname\", \"_var\")"
   ]
  },
  {
   "cell_type": "markdown",
   "metadata": {},
   "source": [
    "### Accediendo a los valores de la solución con `get_value`\n",
    "\n",
    "Después de que una solución óptima ha sido calculada exitosamente, el valor de una expresión de AMPL puede ser recuperado en Python usando la función `ampl.get_value`. Cuando se combina con las cadenas `f` de Python, `ampl.get_value` proporciona un medio conveniente para crear informes formateados."
   ]
  },
  {
   "cell_type": "code",
   "execution_count": 11,
   "metadata": {},
   "outputs": [
    {
     "name": "stdout",
     "output_type": "stream",
     "text": [
      " Profit =   2400.00\n",
      "Revenue =  16800.00\n",
      "   Cost =  14400.00\n"
     ]
    }
   ],
   "source": [
    "print(f\" Profit = {ampl.get_value('Profit'): 9.2f}\")\n",
    "print(f\"Revenue = {ampl.get_value('270*yU + 210*yV'): 9.2f}\")\n",
    "print(f\"   Cost = {ampl.get_value('10*xM + 50*xA + 40*xB'): 9.2f}\")"
   ]
  },
  {
   "cell_type": "markdown",
   "metadata": {},
   "source": [
    "\n",
    "### Crear reportes con Pandas y Matplotlib\n",
    "\n",
    "Pandas, una biblioteca de código abierto para trabajar con datos en Python, es ampliamente utilizada en la comunidad de ciencia de datos. Aquí utilizamos un objeto `Series()` de Pandas para mantener y mostrar datos de la solución. Luego podemos visualizar los datos utilizando la biblioteca matplotlib, por ejemplo, con un gráfico de barras.\n",
    "\n"
   ]
  },
  {
   "cell_type": "code",
   "execution_count": 12,
   "metadata": {},
   "outputs": [
    {
     "data": {
      "text/plain": [
       "U     0\n",
       "V    80\n",
       "dtype: int64"
      ]
     },
     "metadata": {},
     "output_type": "display_data"
    },
    {
     "data": {
      "text/plain": [
       "A     80\n",
       "B     80\n",
       "M    720\n",
       "dtype: int64"
      ]
     },
     "metadata": {},
     "output_type": "display_data"
    }
   ],
   "source": [
    "import pandas as pd\n",
    "\n",
    "# create pandas series for production and raw materials\n",
    "production = pd.Series(\n",
    "    {\n",
    "        \"U\": ampl.get_value(\"yU\"),\n",
    "        \"V\": ampl.get_value(\"yV\"),\n",
    "    }\n",
    ")\n",
    "\n",
    "raw_materials = pd.Series(\n",
    "    {\n",
    "        \"A\": ampl.get_value(\"xA\"),\n",
    "        \"B\": ampl.get_value(\"xB\"),\n",
    "        \"M\": ampl.get_value(\"xM\"),\n",
    "    }\n",
    ")\n",
    "\n",
    "# display pandas series\n",
    "display(production)\n",
    "display(raw_materials)"
   ]
  },
  {
   "cell_type": "code",
   "execution_count": 13,
   "metadata": {},
   "outputs": [
    {
     "data": {
      "image/png": "[encoded data removed]",
      "text/plain": [
       "<Figure size 800x200 with 2 Axes>"
      ]
     },
     "metadata": {},
     "output_type": "display_data"
    }
   ],
   "source": [
    "import matplotlib.pyplot as plt\n",
    "\n",
    "# create grid of subplots\n",
    "fig, ax = plt.subplots(1, 2, figsize=(8, 2))\n",
    "\n",
    "# show pandas series as horizontal bar plots\n",
    "production.plot(ax=ax[0], kind=\"barh\", title=\"Production\")\n",
    "raw_materials.plot(ax=ax[1], kind=\"barh\", title=\"Raw Materials\")\n",
    "\n",
    "# show vertical axis in descending order\n",
    "ax[0].invert_yaxis()\n",
    "ax[1].invert_yaxis()"
   ]
  },
  {
   "cell_type": "code",
   "execution_count": 14,
   "metadata": {},
   "outputs": [
    {
     "name": "stdout",
     "output_type": "stream",
     "text": [
      "Writing production_planning_basic.mod\n"
     ]
    }
   ],
   "source": [
    "%%writefile production_planning_basic.mod\n",
    "\n",
    "# decision variables\n",
    "var x_M >= 0;\n",
    "var x_A >= 0, <= 80;\n",
    "var x_B >= 0, <= 100;\n",
    "\n",
    "var y_U >= 0, <= 40;\n",
    "var y_V >= 0;\n",
    "\n",
    "# auxiliary variables\n",
    "var revenue = 270 * y_U + 210 * y_V;\n",
    "var cost = 10 * x_M + 50 * x_A + 40 * x_B;\n",
    "\n",
    "# objective\n",
    "maximize profit: revenue - cost;\n",
    "\n",
    "# constraints\n",
    "s.t. raw_materials: 10 * y_U + 9 * y_V <= x_M;\n",
    "s.t. labor_A: 2 * y_U + 1 * y_V <= x_A;\n",
    "s.t. labor_B: 1 * y_U + 1 * y_V <= x_B;"
   ]
  },
  {
   "cell_type": "code",
   "execution_count": 16,
   "metadata": {},
   "outputs": [
    {
     "name": "stdout",
     "output_type": "stream",
     "text": [
      "cbc 2.10.10:cbc 2.10.10: optimal solution; objective 2400\n",
      "0 simplex iterations\n"
     ]
    }
   ],
   "source": [
    "# Create AMPL instance and load the model\n",
    "ampl = AMPL()\n",
    "ampl.read(\"production_planning_basic.mod\")\n",
    "\n",
    "# Select a solver and solve the problem\n",
    "ampl.option[\"solver\"] = \"cbc\"\n",
    "ampl.solve()"
   ]
  }
 ],
 "metadata": {
  "colab": {
   "include_colab_link": true,
   "provenance": []
  },
  "kernelspec": {
   "display_name": "Python 3 (ipykernel)",
   "language": "python",
   "name": "python3"
  },
  "language_info": {
   "codemirror_mode": {
    "name": "ipython",
    "version": 3
   },
   "file_extension": ".py",
   "mimetype": "text/x-python",
   "name": "python",
   "nbconvert_exporter": "python",
   "pygments_lexer": "ipython3",
   "version": "3.11.4"
  },
  "latex_envs": {
   "LaTeX_envs_menu_present": true,
   "autoclose": false,
   "autocomplete": true,
   "bibliofile": "biblio.bib",
   "cite_by": "apalike",
   "current_citInitial": 1,
   "eqLabelWithNumbers": true,
   "eqNumInitial": 1,
   "hotkeys": {
    "equation": "Ctrl-E",
    "itemize": "Ctrl-I"
   },
   "labels_anchors": false,
   "latex_user_defs": false,
   "report_style_numbering": false,
   "user_envs_cfg": false
  }
 },
 "nbformat": 4,
 "nbformat_minor": 0
}