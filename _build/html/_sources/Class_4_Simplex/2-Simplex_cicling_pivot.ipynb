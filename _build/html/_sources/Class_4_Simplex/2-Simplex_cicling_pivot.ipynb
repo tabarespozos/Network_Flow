{
 "cells": [
  {
   "cell_type": "markdown",
   "metadata": {},
   "source": [
    "## **Lectura 2: Simplex algunos detalles** "
   ]
  },
  {
   "cell_type": "markdown",
   "metadata": {},
   "source": [
    "#### Primero veamos el siguiente ejemplo\n",
    "\n",
    "\n",
    "Consideremos el siguiente problema de flujo de redes:\n",
    "\n",
    "![image.png](../Images/simplex_ej1.png)\n"
   ]
  },
  {
   "cell_type": "markdown",
   "metadata": {},
   "source": [
    "Si colocamos los flujos al árbol formado con las aristas que tienen las lineas verticales, tenemos:"
   ]
  },
  {
   "cell_type": "markdown",
   "metadata": {},
   "source": [
    "\n",
    "![image.png](../Images/simplex_ej2.png)\n"
   ]
  },
  {
   "cell_type": "markdown",
   "metadata": {},
   "source": [
    "Observa si organizamos los flujos de la siguiente manera:\n",
    "![image.png](../Images/simplex_ej3.png)\n",
    "\n",
    "Que ves de interesante?\n"
   ]
  },
  {
   "cell_type": "markdown",
   "metadata": {},
   "source": [
    "1. observa que los flujos que quedaron, si reorganizados son una matriz triangular. \n",
    "2. Las matrices triangulares son fáciles de resolver."
   ]
  },
  {
   "cell_type": "markdown",
   "metadata": {},
   "source": [
    "Ahora, si queremos cambiar de árbol, lo que es equivalente a cambiar de solución básica factible, podemos hacerlo de la siguiente manera:\n",
    "1. Sabemos que debemos formar primero un ciclo, para poder cambiar de árbol.\n",
    "2. Supongamos que tenemos el flujo original de los nodos $i,j,k$ y que cerramos el ciclo con la arista azul. \n",
    "3. Si queremos cambiar de árbol, debemos cambiar el flujo de la arista azul, este incremento o decremento de flujo, se le llama $\\theta$.\n",
    "4. Para respetar la conservación de flujo, debemos cambiar los flujos de las aristas que se encuentran en el ciclo, en este caso, las aristas negras.\n",
    "5. Observa que elegimos este incremento de forma que no tengamos flujos negativos."
   ]
  },
  {
   "cell_type": "markdown",
   "metadata": {},
   "source": [
    "\n",
    "![image.png](../Images/simplex_ej4.png)\n"
   ]
  },
  {
   "cell_type": "markdown",
   "metadata": {},
   "source": [
    "Al final obtenemos los siguientes flujos después de cambiar de árbol:"
   ]
  },
  {
   "cell_type": "markdown",
   "metadata": {},
   "source": [
    "\n",
    "![image.png](../Images/simplex_ej5.png)\n"
   ]
  },
  {
   "cell_type": "markdown",
   "metadata": {},
   "source": [
    "En el caso de nuestro ejemplo de mas arriba, qué pasa si queremos entrar a la base la arista $(1,4), (2,4), (4,5), ó (5,7)$?\n",
    "\n",
    "![image.png](../Images/simplex_ej2.png)"
   ]
  },
  {
   "cell_type": "markdown",
   "metadata": {},
   "source": [
    "### Resuelva ahora el siguiente ejercicio de forma completa\n",
    "\n",
    "![image.png](../Images/simplex_ej6.png)"
   ]
  },
  {
   "cell_type": "markdown",
   "metadata": {},
   "source": [
    "### Ejercicio en clase\n",
    "\n",
    "Encontrar las rutas mínimas desde el nodo 1 a cada uno de los nodos restantes aplicando el simplex de redes. "
   ]
  },
  {
   "cell_type": "markdown",
   "metadata": {},
   "source": [
    "![image.png](../Images/Ejercicio_simplex_clase.png)"
   ]
  }
 ],
 "metadata": {
  "kernelspec": {
   "display_name": "Python 3",
   "language": "python",
   "name": "python3"
  },
  "language_info": {
   "codemirror_mode": {
    "name": "ipython",
    "version": 3
   },
   "file_extension": ".py",
   "mimetype": "text/x-python",
   "name": "python",
   "nbconvert_exporter": "python",
   "pygments_lexer": "ipython3",
   "version": "3.9.13"
  },
  "widgets": {
   "application/vnd.jupyter.widget-state+json": {
    "state": {},
    "version_major": 2,
    "version_minor": 0
   }
  }
 },
 "nbformat": 4,
 "nbformat_minor": 4
}
