{
 "cells": [
  {
   "cell_type": "markdown",
   "metadata": {},
   "source": [
    "## **Lectura 4: Marco general para Formulación implícita**"
   ]
  },
  {
   "cell_type": "markdown",
   "metadata": {},
   "source": [
    "### Generalizar el problema de la dieta ###\n",
    "\n",
    "Recordemos que el objetivo del problema de la dieta es encontrar una combinación de alimentos que satisfaga algunos requisitos de nutrientes. Es sencillo escribir un modelo para un pequeño conjunto de entradas como el siguiente.\n",
    "\n",
    "Unidades de nutrientes y costo por onza de alimento:\n",
    "| Food type | Iron | Calcium | Cost |\n",
    "|-----------|------|---------|------|\n",
    "| 1         | 2    | 0       | 20   |\n",
    "| 2         | 0    | 1       | 10   |\n",
    "| 3         | 3    | 2       | 31   |\n",
    "| 4         | 1    | 2       | 11   |\n",
    "| 5         | 2    | 1       | 12   |\n"
   ]
  },
  {
   "cell_type": "markdown",
   "metadata": {},
   "source": [
    "Necesidades de nutrientes: 21 unidades de hierro y 12 unidades de calcio\n",
    "\n",
    "Podemos definir simplemente nuestras variables de decisión $x_1,\\ldots,x_5$ como el número de onzas a consumir de cada tipo de alimento, y el programa lineal resultante es simplemente:\n",
    "\n",
    "$$ min_x \\quad  20 x_1 + 10 x_2 + 31 x_3 + 11 x_4 + 12 x_5 $$\n",
    "\n",
    "$$text{s.t.} \\quad  2 x_1 + 0 x_2 + 3 x_3 + 1 x_4 + 2 x_5 \\ge 21 $$\n",
    "\n",
    "$$ 0 x_1 + 1 x_2 + 2 x_3 + 2 x_4 + 1 x_5 \\ge 12 $$\n",
    "\n",
    "$$ x_1,\\ldots,x_5 \\ge 0 $$\n",
    "\n",
    "Escribir este pequeño LP es un ejercicio útil, pero necesitaremos escribir una versión más general del modelo si alguna vez queremos escribir un programa que pueda resolver cualquier instancia del problema de la dieta."
   ]
  },
  {
   "cell_type": "markdown",
   "metadata": {},
   "source": [
    "<H3>Conjuntos e índices</H3>\n",
    "\n",
    "Un LP consta de variables de decisión, restricciones y un objetivo, todos los cuales tendremos que definir, pero ninguno de los cuales podemos definir hasta que creemos una notación para los distintos conjuntos del problema. Para el problema de la dieta, las entidades relevantes son los nutrientes y los tipos de alimentos. Empezaremos definiendo los siguientes conjuntos:\n",
    "\n",
    "* $i \\in I$: nutrientes\n",
    "* $j \\in J$: tipos de alimentos\n",
    "\n",
    "La convención que preferimos es utilizar una letra mayúscula para denotar el conjunto completo, y una letra minúscula para denotar un elemento de ese conjunto. El símbolo $\\in$ puede leerse como ``en'', por lo que $i \\in I$ indica que $i$ es un nutriente concreto que está en $I$, el conjunto completo de nutrientes.\n",
    "\n",
    "Definir los conjuntos relevantes suele ser el primer paso en la modelización."
   ]
  },
  {
   "cell_type": "markdown",
   "metadata": {},
   "source": [
    "<H3>Datos</H3>\n",
    "\n",
    "Una vez que hemos definido nuestros conjuntos, podemos tomar nuestros datos de entrada y escribirlos de una manera más general. Dado que las LP pueden tener cualquier combinación de restricciones $\\ge$, $\\le$ y $=$, podemos generalizar los requisitos de nutrientes para incluir un límite inferior y superior para cada nutriente.\n",
    "\n",
    "* $c_j$: coste por onza del tipo de alimento $j$\n",
    "* $a_{ij}$: cantidad de nutriente $i$ por onza de alimento del tipo $j$\n",
    "* $l_i, u_i$: necesidades diarias mínimas y máximas del nutriente $i$"
   ]
  },
  {
   "cell_type": "markdown",
   "metadata": {},
   "source": [
    "<H3>Variables de decisión</H3>\n",
    "\n",
    "* $x_j$: el número de onzas a consumir del tipo de alimento $j$.\n",
    "\n",
    "Con las variables de decisión y los datos escritos de forma genérica, podemos escribir expresiones para el coste total, y para la cantidad de cada nutriente en nuestra dieta."
   ]
  },
  {
   "cell_type": "markdown",
   "metadata": {},
   "source": [
    "<H3>Objetivo</H3>\n",
    "\n",
    "El coste total puede obtenerse multiplicando el número de onzas consumidas de un tipo de alimento, $x_j$, por el coste por onza de ese tipo de alimento, $c_j$, y sumando todos los tipos de alimentos $j \\in J$. Utilizaremos la notación $\\sum$ para denotar sumas, poniendo el conjunto sobre el que estamos sumando bajo $\\sum$. Por lo tanto, el objetivo se puede escribir como $\\sum_{j \\in J} c_j x_j$."
   ]
  },
  {
   "cell_type": "markdown",
   "metadata": {},
   "source": [
    "<H3>Restricciones</H3>\n",
    "\n",
    "Para escribir las restricciones que imponen límites al consumo de nutrientes, necesitaremos escribir una expresión para la cantidad de cada nutriente que consumimos. \n",
    "\n",
    "Fijemos el nutriente $i$. La contribución del tipo de alimento $j$ al nutriente $i$ será el producto de la cantidad por onza del nutriente $i$, $a_{ij}$, por el número de onzas consumidas, $x_j$. Vamos a sumar este producto sobre todos los tipos de alimentos $j \\in J$, de nuevo utilizando $\\sum$ notación. La expresión resultante será $\\sum_{j \\in J} a_{ij}x_j$.\n",
    "\n",
    "Esta expresión es válida para cualquier nutriente $i \\in I$. Esto nos da todo lo que necesitamos para formular el problema de la dieta como un LP."
   ]
  },
  {
   "cell_type": "markdown",
   "metadata": {},
   "source": [
    "<H3>Formulation</H3>\n",
    "\n",
    "$$ \\min_x \\quad  \\sum_{j \\in J} c_j x_j $$ \n",
    "$$ \\text{s.t.} \\quad  l_i \\le \\sum_{j \\in J} a_{ij} x_j \\le u_i, \\quad i \\in I $$ \n",
    "$$  x_j \\ge 0, \\quad j \\in J.$$ "
   ]
  },
  {
   "cell_type": "markdown",
   "metadata": {},
   "source": [
    "Ahora vamos a implementar el método solve_diet_problem. Tenemos una restricción que pone un límite inferior y superior en una expresión lineal. Encontraremos el método Model.addRange útil para esto, y preferimos usarlo en lugar de hacer dos llamadas a Model.addConstr."
   ]
  },
  {
   "cell_type": "code",
   "execution_count": 1,
   "metadata": {
    "collapsed": false
   },
   "outputs": [
    {
     "name": "stdout",
     "output_type": "stream",
     "text": [
      "\u001b[1;31mSignature:\u001b[0m      \u001b[0mgrb\u001b[0m\u001b[1;33m.\u001b[0m\u001b[0mModel\u001b[0m\u001b[1;33m.\u001b[0m\u001b[0maddRange\u001b[0m\u001b[1;33m(\u001b[0m\u001b[0mself\u001b[0m\u001b[1;33m,\u001b[0m \u001b[0mexpr\u001b[0m\u001b[1;33m,\u001b[0m \u001b[0mlower\u001b[0m\u001b[1;33m,\u001b[0m \u001b[0mupper\u001b[0m\u001b[1;33m,\u001b[0m \u001b[0mname\u001b[0m\u001b[1;33m=\u001b[0m\u001b[1;34m''\u001b[0m\u001b[1;33m)\u001b[0m\u001b[1;33m\u001b[0m\u001b[1;33m\u001b[0m\u001b[0m\n",
      "\u001b[1;31mCall signature:\u001b[0m \u001b[0mgrb\u001b[0m\u001b[1;33m.\u001b[0m\u001b[0mModel\u001b[0m\u001b[1;33m.\u001b[0m\u001b[0maddRange\u001b[0m\u001b[1;33m(\u001b[0m\u001b[1;33m*\u001b[0m\u001b[0margs\u001b[0m\u001b[1;33m,\u001b[0m \u001b[1;33m**\u001b[0m\u001b[0mkwargs\u001b[0m\u001b[1;33m)\u001b[0m\u001b[1;33m\u001b[0m\u001b[1;33m\u001b[0m\u001b[0m\n",
      "\u001b[1;31mType:\u001b[0m           cython_function_or_method\n",
      "\u001b[1;31mString form:\u001b[0m    <cyfunction Model.addRange at 0x000001C55AD44A00>\n",
      "\u001b[1;31mDocstring:\u001b[0m     \n",
      "ROUTINE:\n",
      "  addRange(expr, lhs, rhs, name)\n",
      "\n",
      "PURPOSE:\n",
      "  Add a range constraint to the model.\n",
      "\n",
      "ARGUMENTS:\n",
      "  expr (Var, or LinExpr): Linear expression being constrained\n",
      "  lower (float): Lower bound on linear expression\n",
      "  upper (float): Upper bound on linear expression\n",
      "  name (string): Constraint name (default is no name)\n",
      "\n",
      "RETURN VALUE:\n",
      "  The created Constr object.\n",
      "\n",
      "EXAMPLE:\n",
      "  c = model.addRange(x + y, 1.0, 2.0)"
     ]
    }
   ],
   "source": [
    "import gurobipy as grb\n",
    "from gurobipy import GRB\n",
    "\n",
    "grb.Model.addRange?"
   ]
  },
  {
   "cell_type": "code",
   "execution_count": 2,
   "metadata": {
    "collapsed": true
   },
   "outputs": [],
   "source": [
    "def solve_diet_problem(nutrient_densities, costs, nutrient_requirements):\n",
    "    \"\"\"\n",
    "    Esta función está diseñada para encontrar la dieta más barata que satisface ciertos requisitos nutricionales.\n",
    "\n",
    "    Entradas:\n",
    "  \n",
    "    :param nutrient_densities: Diccionario que mapea cada tipo de alimento y nutriente a su densidad nutricional.\n",
    "    :param costs: Diccionario que mapea cada tipo de alimento a su costo.\n",
    "    :param nutrient_requirements: Diccionario que mapea cada nutriente a un rango (min, max) de requerimiento.\n",
    "\n",
    "    Salida:\n",
    "    :return: Diccionario que mapea cada tipo de alimento a la cantidad óptima a consumir.\n",
    "    :raises Exception: Se lanza una excepción si el modelo es inviable.\n",
    "    \"\"\"\n",
    "\n",
    "    # Creamos un modelo matemático en Gurobi. Piensa en esto como un lienzo vacío donde añadiremos nuestras decisiones y restricciones.\n",
    "    m = grb.Model()\n",
    "    \n",
    "    # Para cada tipo de alimento, decidimos cuánto consumir. Estas son nuestras \"variables de decisión\".\n",
    "    # También decimos a Gurobi que queremos minimizar el costo total de los alimentos que consumimos.\n",
    "    ounces_consumed = {}\n",
    "    for food_type, cost in costs.items():\n",
    "        var = m.addVar(obj=cost, name='ounces_consumed.' + str(food_type))\n",
    "        ounces_consumed[food_type] = var\n",
    "\n",
    "    # Hacemos que Gurobi sepa de las nuevas variables.\n",
    "    m.update()\n",
    "\n",
    "    # Ahora, añadimos las restricciones de nutrientes.\n",
    "    # Para cada nutriente, calculamos cuánto consumimos en total basado en nuestras decisiones de alimentos.\n",
    "    # Luego, nos aseguramos de que esta cantidad esté entre los valores mínimos y máximos que queremos.\n",
    "    for nutrient, (min_requirement, max_requirement) in nutrient_requirements.items():\n",
    "        total_nutrient_consumed = sum(nutrient_densities[food_type, nutrient] * ounces_consumed[food_type] for food_type in costs.keys())\n",
    "        \n",
    "        m.addRange(total_nutrient_consumed, min_requirement, max_requirement, 'nutrient.' + str(nutrient))\n",
    "\n",
    "    # ¡Listo! Ahora le decimos a Gurobi que encuentre la mejor solución.\n",
    "    m.optimize()\n",
    "    \n",
    "    # Si Gurobi encontró una solución que cumple con nuestros requisitos nutricionales y minimiza el costo, nos dice cuánto de cada alimento consumir.\n",
    "    # Si no, nos avisa que no fue posible encontrar una dieta que cumpla con las condiciones.\n",
    "    if m.status == GRB.OPTIMAL:\n",
    "        return {food_type: var.X for food_type, var in ounces_consumed.items()}\n",
    "    \n",
    "    raise Exception(\"Modelo infactible, no fue posible encontrar una dieta que cumpla con los requisitos.\")\n"
   ]
  },
  {
   "cell_type": "markdown",
   "metadata": {},
   "source": [
    "Probemos nuestra función con el problema de la dieta generalizado. Para ello, primero debemos cargar los datos del problema."
   ]
  },
  {
   "cell_type": "markdown",
   "metadata": {},
   "source": [
    "**Definir instancias**"
   ]
  },
  {
   "cell_type": "code",
   "execution_count": 3,
   "metadata": {},
   "outputs": [],
   "source": [
    "# Instancia 1\n",
    "nutrient_densities_1 = {\n",
    "    ('apple', 'vitamin_c'): 4.6,\n",
    "    ('banana', 'vitamin_c'): 8.7,\n",
    "    ('carrot', 'vitamin_c'): 2.8\n",
    "}\n",
    "\n",
    "costs_1 = {\n",
    "    'apple': 0.5,\n",
    "    'banana': 0.4,\n",
    "    'carrot': 0.3\n",
    "}\n",
    "\n",
    "nutrient_requirements_1 = {\n",
    "    'vitamin_c': (10, 50)  # Requerimos entre 10 y 50 unidades de vitamina C\n",
    "}\n",
    "\n",
    "# Instancia 2\n",
    "nutrient_densities_2 = {\n",
    "    ('apple', 'vitamin_c'): 4.6,\n",
    "    ('banana', 'vitamin_c'): 8.2,  # Cambiamos ligeramente la densidad nutricional\n",
    "    ('carrot', 'vitamin_c'): 3.1  # Cambiamos ligeramente la densidad nutricional\n",
    "}\n",
    "\n",
    "costs_2 = {\n",
    "    'apple': 0.55,  # Cambiamos ligeramente el costo\n",
    "    'banana': 0.38,  # Cambiamos ligeramente el costo\n",
    "    'carrot': 0.32  # Cambiamos ligeramente el costo\n",
    "}\n",
    "\n",
    "nutrient_requirements_2 = {\n",
    "    'vitamin_c': (12, 45)  # Cambiamos ligeramente los requerimientos\n",
    "}\n"
   ]
  },
  {
   "cell_type": "code",
   "execution_count": 4,
   "metadata": {},
   "outputs": [
    {
     "name": "stdout",
     "output_type": "stream",
     "text": [
      "Restricted license - for non-production use only - expires 2024-10-28\n",
      "Gurobi Optimizer version 10.0.2 build v10.0.2rc0 (win64)\n",
      "\n",
      "CPU model: 12th Gen Intel(R) Core(TM) i7-1265U, instruction set [SSE2|AVX|AVX2]\n",
      "Thread count: 10 physical cores, 12 logical processors, using up to 12 threads\n",
      "\n",
      "Optimize a model with 1 rows, 4 columns and 4 nonzeros\n",
      "Model fingerprint: 0xa75ab635\n",
      "Coefficient statistics:\n",
      "  Matrix range     [1e+00, 9e+00]\n",
      "  Objective range  [3e-01, 5e-01]\n",
      "  Bounds range     [4e+01, 4e+01]\n",
      "  RHS range        [5e+01, 5e+01]\n",
      "Presolve removed 1 rows and 4 columns\n",
      "Presolve time: 0.01s\n",
      "Presolve: All rows and columns removed\n",
      "Iteration    Objective       Primal Inf.    Dual Inf.      Time\n",
      "       0    4.5977011e-01   0.000000e+00   0.000000e+00      0s\n",
      "\n",
      "Solved in 0 iterations and 0.01 seconds (0.00 work units)\n",
      "Optimal objective  4.597701149e-01\n",
      "Gurobi Optimizer version 10.0.2 build v10.0.2rc0 (win64)\n",
      "\n",
      "CPU model: 12th Gen Intel(R) Core(TM) i7-1265U, instruction set [SSE2|AVX|AVX2]\n",
      "Thread count: 10 physical cores, 12 logical processors, using up to 12 threads\n",
      "\n",
      "Optimize a model with 1 rows, 4 columns and 4 nonzeros\n",
      "Model fingerprint: 0xaaeb98f7\n",
      "Coefficient statistics:\n",
      "  Matrix range     [1e+00, 8e+00]\n",
      "  Objective range  [3e-01, 6e-01]\n",
      "  Bounds range     [3e+01, 3e+01]\n",
      "  RHS range        [5e+01, 5e+01]\n",
      "Presolve removed 1 rows and 4 columns\n",
      "Presolve time: 0.01s\n",
      "Presolve: All rows and columns removed\n",
      "Iteration    Objective       Primal Inf.    Dual Inf.      Time\n",
      "       0    5.5609756e-01   0.000000e+00   0.000000e+00      0s\n",
      "\n",
      "Solved in 0 iterations and 0.01 seconds (0.00 work units)\n",
      "Optimal objective  5.560975610e-01\n",
      "Resultados para la Instancia 1: {'apple': 0.0, 'banana': 1.149425287356322, 'carrot': 0.0}\n",
      "Resultados para la Instancia 2: {'apple': 0.0, 'banana': 1.4634146341463417, 'carrot': 0.0}\n"
     ]
    }
   ],
   "source": [
    "result_1 = solve_diet_problem(nutrient_densities_1, costs_1, nutrient_requirements_1)\n",
    "result_2 = solve_diet_problem(nutrient_densities_2, costs_2, nutrient_requirements_2)\n",
    "\n",
    "print(\"Resultados para la Instancia 1:\", result_1)\n",
    "print(\"Resultados para la Instancia 2:\", result_2)\n"
   ]
  },
  {
   "cell_type": "markdown",
   "metadata": {},
   "source": [
    "## Ejercicio\n",
    "\n",
    "Prueba a crear una función para automatizar la generación de instancias aleatorias de problemas de dieta. Esto es especialmente útil si estás tratando de probar la robustez o la eficiencia de tu función con diferentes conjuntos de datos."
   ]
  }
 ],
 "metadata": {
  "kernelspec": {
   "display_name": "base",
   "language": "python",
   "name": "python3"
  },
  "language_info": {
   "codemirror_mode": {
    "name": "ipython",
    "version": 3
   },
   "file_extension": ".py",
   "mimetype": "text/x-python",
   "name": "python",
   "nbconvert_exporter": "python",
   "pygments_lexer": "ipython3",
   "version": "3.9.13"
  }
 },
 "nbformat": 4,
 "nbformat_minor": 0
}
