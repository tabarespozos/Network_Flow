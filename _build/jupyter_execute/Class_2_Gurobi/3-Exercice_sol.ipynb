{
 "cells": [
  {
   "cell_type": "markdown",
   "metadata": {},
   "source": [
    "## **Lectura 3: Ejercicio en clase**"
   ]
  },
  {
   "cell_type": "markdown",
   "metadata": {
    "id": "avZmWAtvdlFr"
   },
   "source": [
    "## Problema de asignación de recursos con una restricción presupuestaria\n",
    "\n",
    "Supongamos ahora que existe un coste fijo $C_{r,j}$ asociado a la asignación de un recurso $r \\in R$ a un trabajo $j \\in J$. Supongamos también que existe un presupuesto limitado $B$ que puede utilizarse para asignar trabajos.\n",
    "\n",
    "El coste de asignar a Carlos, Joe o Mónika a cualquiera de los trabajos es de $\\$1.000$ , $\\$2.000$ y $\\$3.000$ respectivamente. El presupuesto disponible es de $\\$5,000$."
   ]
  },
  {
   "cell_type": "markdown",
   "metadata": {
    "id": "0B853YCQdlFr"
   },
   "source": [
    "### Data\n",
    "\n",
    "The list $R$ contains the names of the three resources: Carlos, Joe, and Monika.\n",
    "The list $J$ contains the names of the job positions: Tester, Java Developer, and Architect.\n",
    "\n",
    "The Gurobi Python ``multidict`` function initialize two dictionaries:\n",
    "* \"scores\" defines the matching scores for each resource and job combination.\n",
    "* \"costs\" defines the fixed cost associated of assigning a resource to a job.\n",
    "\n"
   ]
  },
  {
   "cell_type": "code",
   "execution_count": 1,
   "metadata": {
    "id": "7dBvnwoudlFr"
   },
   "outputs": [
    {
     "ename": "NameError",
     "evalue": "name 'gp' is not defined",
     "output_type": "error",
     "traceback": [
      "\u001b[1;31m---------------------------------------------------------------------------\u001b[0m",
      "\u001b[1;31mNameError\u001b[0m                                 Traceback (most recent call last)",
      "Cell \u001b[1;32mIn[1], line 7\u001b[0m\n\u001b[0;32m      3\u001b[0m J \u001b[39m=\u001b[39m [\u001b[39m'\u001b[39m\u001b[39mTester\u001b[39m\u001b[39m'\u001b[39m, \u001b[39m'\u001b[39m\u001b[39mJavaDeveloper\u001b[39m\u001b[39m'\u001b[39m, \u001b[39m'\u001b[39m\u001b[39mArchitect\u001b[39m\u001b[39m'\u001b[39m]\n\u001b[0;32m      5\u001b[0m \u001b[39m# Matching score data\u001b[39;00m\n\u001b[0;32m      6\u001b[0m \u001b[39m# Cost is given in thousands of dollars\u001b[39;00m\n\u001b[1;32m----> 7\u001b[0m combinations, scores, costs \u001b[39m=\u001b[39m gp\u001b[39m.\u001b[39mmultidict({\n\u001b[0;32m      8\u001b[0m     (\u001b[39m'\u001b[39m\u001b[39mCarlos\u001b[39m\u001b[39m'\u001b[39m, \u001b[39m'\u001b[39m\u001b[39mTester\u001b[39m\u001b[39m'\u001b[39m): [\u001b[39m53\u001b[39m, \u001b[39m1\u001b[39m],\n\u001b[0;32m      9\u001b[0m     (\u001b[39m'\u001b[39m\u001b[39mCarlos\u001b[39m\u001b[39m'\u001b[39m, \u001b[39m'\u001b[39m\u001b[39mJavaDeveloper\u001b[39m\u001b[39m'\u001b[39m): [\u001b[39m27\u001b[39m, \u001b[39m1\u001b[39m],\n\u001b[0;32m     10\u001b[0m     (\u001b[39m'\u001b[39m\u001b[39mCarlos\u001b[39m\u001b[39m'\u001b[39m, \u001b[39m'\u001b[39m\u001b[39mArchitect\u001b[39m\u001b[39m'\u001b[39m): [\u001b[39m13\u001b[39m,\u001b[39m1\u001b[39m],\n\u001b[0;32m     11\u001b[0m     (\u001b[39m'\u001b[39m\u001b[39mJoe\u001b[39m\u001b[39m'\u001b[39m, \u001b[39m'\u001b[39m\u001b[39mTester\u001b[39m\u001b[39m'\u001b[39m): [\u001b[39m80\u001b[39m, \u001b[39m2\u001b[39m],\n\u001b[0;32m     12\u001b[0m     (\u001b[39m'\u001b[39m\u001b[39mJoe\u001b[39m\u001b[39m'\u001b[39m, \u001b[39m'\u001b[39m\u001b[39mJavaDeveloper\u001b[39m\u001b[39m'\u001b[39m): [\u001b[39m47\u001b[39m, \u001b[39m2\u001b[39m],\n\u001b[0;32m     13\u001b[0m     (\u001b[39m'\u001b[39m\u001b[39mJoe\u001b[39m\u001b[39m'\u001b[39m, \u001b[39m'\u001b[39m\u001b[39mArchitect\u001b[39m\u001b[39m'\u001b[39m): [\u001b[39m67\u001b[39m, \u001b[39m2\u001b[39m],\n\u001b[0;32m     14\u001b[0m     (\u001b[39m'\u001b[39m\u001b[39mMonika\u001b[39m\u001b[39m'\u001b[39m, \u001b[39m'\u001b[39m\u001b[39mTester\u001b[39m\u001b[39m'\u001b[39m): [\u001b[39m53\u001b[39m, \u001b[39m3\u001b[39m] ,\n\u001b[0;32m     15\u001b[0m     (\u001b[39m'\u001b[39m\u001b[39mMonika\u001b[39m\u001b[39m'\u001b[39m, \u001b[39m'\u001b[39m\u001b[39mJavaDeveloper\u001b[39m\u001b[39m'\u001b[39m): [\u001b[39m73\u001b[39m, \u001b[39m3\u001b[39m],\n\u001b[0;32m     16\u001b[0m     (\u001b[39m'\u001b[39m\u001b[39mMonika\u001b[39m\u001b[39m'\u001b[39m, \u001b[39m'\u001b[39m\u001b[39mArchitect\u001b[39m\u001b[39m'\u001b[39m): [\u001b[39m47\u001b[39m, \u001b[39m3\u001b[39m]\n\u001b[0;32m     17\u001b[0m })\n\u001b[0;32m     19\u001b[0m \u001b[39m# Available budget (thousands of dollars)\u001b[39;00m\n\u001b[0;32m     20\u001b[0m budget \u001b[39m=\u001b[39m \u001b[39m5\u001b[39m\n",
      "\u001b[1;31mNameError\u001b[0m: name 'gp' is not defined"
     ]
    }
   ],
   "source": [
    "# Resource and job sets\n",
    "R = ['Carlos', 'Joe', 'Monika']\n",
    "J = ['Tester', 'JavaDeveloper', 'Architect']\n",
    "\n",
    "# Matching score data\n",
    "# Cost is given in thousands of dollars\n",
    "combinations, scores, costs = gp.multidict({\n",
    "    ('Carlos', 'Tester'): [53, 1],\n",
    "    ('Carlos', 'JavaDeveloper'): [27, 1],\n",
    "    ('Carlos', 'Architect'): [13,1],\n",
    "    ('Joe', 'Tester'): [80, 2],\n",
    "    ('Joe', 'JavaDeveloper'): [47, 2],\n",
    "    ('Joe', 'Architect'): [67, 2],\n",
    "    ('Monika', 'Tester'): [53, 3] ,\n",
    "    ('Monika', 'JavaDeveloper'): [73, 3],\n",
    "    ('Monika', 'Architect'): [47, 3]\n",
    "})\n",
    "\n",
    "# Available budget (thousands of dollars)\n",
    "budget = 5"
   ]
  },
  {
   "cell_type": "markdown",
   "metadata": {
    "id": "eTd_oG9sdlFr"
   },
   "source": [
    "The following constructor creates an empty ``Model`` object “m”. The ``Model`` object “m” holds a single optimization problem. It consists of a set of variables, a set of constraints, and the objective function."
   ]
  },
  {
   "cell_type": "code",
   "execution_count": null,
   "metadata": {
    "id": "ZlbRon-gdlFr"
   },
   "outputs": [],
   "source": [
    "# Declare and initialize model\n",
    "m = gp.Model('RAP2')"
   ]
  },
  {
   "cell_type": "markdown",
   "metadata": {
    "id": "WsXpXvJadlFr"
   },
   "source": [
    "### Decision variables\n",
    "\n",
    "The decision variable $x_{r,j}$ is 1 if $r \\in R$ is assigned to job $j \\in J$, and 0 otherwise.\n",
    "\n",
    "The ``Model.addVars()`` method defines the decision variables for the model object “m”.  \n",
    "\n",
    "Because there is a budget constraint, it is possible that not all of the jobs will be filled. To account for this, we define a new decision variable that indicates whether or not a job is filled.\n",
    "\n",
    "Let $g_{j}$ be equal 1 if job $j \\in J$ is not filled, and 0 otherwise. This variable is a gap variable that indicates that a job cannot be filled.\n",
    "\n",
    "***Remark:*** For the previous formulation of the RAP, we defined the assignment variables as non-negative and continuous which is the default value of the ``vtype`` argument of the ``Model.addVars()`` method.\n",
    "However, in this extension of the RAP, because of the budget constraint we added to the model, we need to explicitly define these variables as binary. The ``vtype=GRB.BINARY`` argument of the ``Model.addVars()`` method defines the assignment variables as binary."
   ]
  },
  {
   "cell_type": "code",
   "execution_count": null,
   "metadata": {
    "id": "FmUE0IkDdlFr"
   },
   "outputs": [],
   "source": [
    "# Create decision variables for the RAP model\n",
    "x = m.addVars(combinations, vtype=GRB.BINARY, name=\"assign\")\n",
    "\n",
    "# Create gap variables for the RAP model\n",
    "g = m.addVars(J, name=\"gap\")"
   ]
  },
  {
   "cell_type": "markdown",
   "metadata": {
    "id": "fSdt7oIxdlFs"
   },
   "source": [
    "### Job constraints\n",
    "\n",
    "Since we have a limited budget to assign resources to jobs, it is possible that not all the jobs can be filled. For the job constraints, there are two possibilities either a resource is assigned to fill the job, or this job cannot be filled and we need to declare a gap. This latter possibility is captured by the decision variable $g_j$. Therefore, the job constraints are written as follows.\n",
    "\n",
    "For each job $j \\in J$, exactly one resource must be assigned to the job, or the corresponding $g_j$ variable must be set to 1:\n",
    "\n",
    "$$\n",
    "\\sum_{r \\: \\in \\: R} x_{r,\\; j} + g_{j} = 1.\n",
    "$$\n"
   ]
  },
  {
   "cell_type": "code",
   "execution_count": null,
   "metadata": {
    "id": "khobpJlbdlFs"
   },
   "outputs": [],
   "source": [
    "# Create job constraints\n",
    "jobs = m.addConstrs((x.sum('*',j) + g[j]  == 1 for j in J), name='job')"
   ]
  },
  {
   "cell_type": "markdown",
   "metadata": {
    "id": "DRRnpeaddlFs"
   },
   "source": [
    "### Resource constraints\n",
    "\n",
    "The constraints for the resources need to ensure that at most one job is assigned to each resource. That is, it is possible that not all the resources are assigned. Therefore, the resource constraints are written as follows.\n",
    "\n",
    "For each resource $r \\in R$, at most one job can be assigned to the resource:\n",
    "\n",
    "$$\n",
    "\\sum_{j \\: \\in \\: J} x_{r,\\; j} \\leq 1.\n",
    "$$"
   ]
  },
  {
   "cell_type": "code",
   "execution_count": null,
   "metadata": {
    "id": "ztzdd1hddlFs"
   },
   "outputs": [],
   "source": [
    "# Create resource constraints\n",
    "resources = m.addConstrs((x.sum(r,'*') <= 1 for r in R), name='resource')"
   ]
  },
  {
   "cell_type": "markdown",
   "metadata": {
    "id": "bwvodnEwdlFs"
   },
   "source": [
    "### Budget constraint\n",
    "\n",
    "This constraint ensures that the cost of assigning resources to fill job requirements do not exceed the budget available. The costs of assignment and budget are in thousands of dollars.\n",
    "\n",
    "The cost of filling the Tester job is $1x_{1,1}$, if resource Carlos is assigned, or $2x_{2,1}$, if resource Joe is assigned, or $3x_{3,1}$, if resource Monika is assigned.\n",
    "Consequently, the cost of filling the Tester job is as follows, where at most one term in this summation will be nonzero.\n",
    "\n",
    "$$\n",
    "1x_{1,1} + 2x_{2,1} + 3x_{3,1}.\n",
    "$$\n",
    "\n",
    "Similarly, the cost of filling the Java Developer and Architect jobs are defined as follows. The cost of filling the Java Developer job is:\n",
    "\n",
    "$$\n",
    "1x_{1, 2} + 2x_{2, 2} + 3x_{3, 2}.\n",
    "$$\n",
    "\n",
    "The cost of filling the Architect job is:\n",
    "\n",
    "$$\n",
    "1x_{1, 3} + 2x_{2, 3} + 3x_{3, 3}.\n",
    "$$\n",
    "\n",
    "Hence, the total cost of filling the jobs should be less or equal than the budget available.\n",
    "\n",
    "\\begin{equation}\n",
    "(1x_{1,1} + 2x_{2,1} + 3x_{3,1}) \\; +\n",
    "\\end{equation}\n",
    "\n",
    "\\begin{equation}\n",
    "(1x_{1, 2} + 2x_{2, 2} + 3x_{3, 2}) \\; +\n",
    "\\end{equation}\n",
    "\n",
    "\\begin{equation}\n",
    "(1x_{1, 3} + 2x_{2, 3} + 3x_{3, 3}) \\leq 5\n",
    "\\end{equation}\n",
    "\n",
    "Each term in parenthesis in the budget constraint can be expressed as follows.\n",
    "\n",
    "\\begin{equation}\n",
    "(1x_{1,1} + 2x_{2,1} + 3x_{3,1}) = \\sum_{r \\in R} C_{r,1}x_{r,1}.\n",
    "\\end{equation}\n",
    "\n",
    "\\begin{equation}\n",
    "(1x_{1, 2} + 2x_{2, 2} + 3x_{3, 2}) = \\sum_{r \\in R} C_{r,2}x_{r,2}.\n",
    "\\end{equation}\n",
    "\n",
    "\\begin{equation}\n",
    "(1x_{1, 3} + 2x_{2, 3} + 3x_{3, 3}) = \\sum_{r \\in R} C_{r,3}x_{r,3}.\n",
    "\\end{equation}\n",
    "\n",
    "Therefore, the budget constraint can be concisely written as:\n",
    "\n",
    "\\begin{equation}\n",
    "\\sum_{j \\in J} \\sum_{r \\in R} C_{r,j}x_{r,j} \\leq B.\n",
    "\\end{equation}\n",
    "\n",
    "The ``Model.addConstr()`` method of the Gurobi/Python API defines the budget constraint of the ``Model`` object “m”.\n",
    "The first argument of this method, \"x.prod(costs)\", is the prod method and defines the LHS of the budget constraint. The $<=$ defines a less or equal constraint, and the budget amount available is the RHS of the constraint.\n",
    "This constraint is saying that the total cost of assigning resources to fill jobs requirements cannot exceed the budget available.\n",
    "The second argument is the name of this constraint."
   ]
  },
  {
   "cell_type": "code",
   "execution_count": null,
   "metadata": {
    "id": "xzii-5t0dlFs"
   },
   "outputs": [],
   "source": [
    "budget = m.addConstr((x.prod(costs) <= budget), name='budget')"
   ]
  },
  {
   "cell_type": "markdown",
   "metadata": {
    "id": "NwwNpbkWdlFv"
   },
   "source": [
    "## Objective function\n",
    "\n",
    "The objective function is similar to the RAP. The first term in the objective is the total matching score of the assignments. In this extension of the RAP, it is possible that not all jobs are filled; however, we want to heavily penalize this possibility. For this purpose, we have a second term in the objective function that takes the summation of the gap variables over all the jobs and multiply it by a big penalty $M$.\n",
    "\n",
    "Observe that the maximum value of a matching score is 100, and the value that we give to $M$ is 101. The rationale behind the value of $M$ is that having gaps heavily deteriorates the total matching scores value.\n",
    "\n",
    "Consequently, the objective function is to maximize the total matching score of the assignments minus the penalty associated of having gap variables with a value equal to 1.\n",
    "\n",
    "$$\n",
    "\\max \\; \\sum_{j \\; \\in \\; J} \\sum_{r \\; \\in \\; R} s_{r,j}x_{r,j} -M \\sum_{j \\in J} g_{j}\n",
    "$$"
   ]
  },
  {
   "cell_type": "code",
   "execution_count": null,
   "metadata": {
    "id": "W08u8ZLPdlFv"
   },
   "outputs": [],
   "source": [
    "# Penalty for not filling a job position\n",
    "M = 101"
   ]
  },
  {
   "cell_type": "code",
   "execution_count": null,
   "metadata": {
    "id": "lsOEXgupdlFw"
   },
   "outputs": [],
   "source": [
    "# Objective: maximize total matching score of assignments\n",
    "# Unfilled jobs are heavily penalized\n",
    "m.setObjective(x.prod(scores) - M*g.sum(), GRB.MAXIMIZE)"
   ]
  },
  {
   "cell_type": "code",
   "execution_count": null,
   "metadata": {
    "id": "Xb5KQbg6dlFw",
    "outputId": "aab928b4-7f8c-4947-860b-c80028f97890",
    "scrolled": true
   },
   "outputs": [
    {
     "name": "stdout",
     "output_type": "stream",
     "text": [
      "Root relaxation: objective 1.350000e+02, 4 iterations, 0.00 seconds\n",
      "\n",
      "    Nodes    |    Current Node    |     Objective Bounds      |     Work\n",
      " Expl Unexpl |  Obj  Depth IntInf | Incumbent    BestBd   Gap | It/Node Time\n",
      "\n",
      "     0     0  135.00000    0    2   52.00000  135.00000   160%     -    0s\n",
      "     0     0  121.66667    0    7   52.00000  121.66667   134%     -    0s\n",
      "     0     0     cutoff    0        52.00000   52.00000  0.00%     -    0s\n",
      "\n",
      "Cutting planes:\n",
      "  Gomory: 1\n",
      "  GUB cover: 1\n",
      "  RLT: 1\n",
      "\n",
      "Explored 1 nodes (7 simplex iterations) in 0.02 seconds\n",
      "Thread count was 8 (of 8 available processors)\n",
      "\n",
      "Solution count 1: 52 \n",
      "\n",
      "Optimal solution found (tolerance 1.00e-04)\n",
      "Best objective 5.200000000000e+01, best bound 5.200000000000e+01, gap 0.0000%\n"
     ]
    }
   ],
   "source": [
    "# Run optimization engine\n",
    "m.optimize()"
   ]
  },
  {
   "cell_type": "markdown",
   "metadata": {
    "id": "f1LwCY51dlFw"
   },
   "source": [
    "The definition of the objective function includes the penalty of no filling jobs. However, we are interested in the optimal total matching score value when not all the jobs are filled. For this purpose, we need to compute the total matching score value using the matching score values $s_{r,j}$ and the assignment decision variables $x_{r,j}$."
   ]
  },
  {
   "cell_type": "code",
   "execution_count": null,
   "metadata": {
    "id": "owMtiyi9dlFw",
    "outputId": "e9d171a4-749b-425d-d709-73d28ceba39a"
   },
   "outputs": [
    {
     "name": "stdout",
     "output_type": "stream",
     "text": [
      "assign[Joe,Tester] 1.0\n",
      "assign[Monika,JavaDeveloper] 1.0\n",
      "Total matching score:  153.0\n"
     ]
    }
   ],
   "source": [
    "# Compute total matching score from assignment variables\n",
    "total_matching_score = 0\n",
    "for r, j in combinations:\n",
    "    if x[r, j].x > 1e-6:\n",
    "        print(x[r, j].varName, x[r, j].x)\n",
    "        total_matching_score += scores[r, j]*x[r, j].x\n",
    "\n",
    "print('Total matching score: ', total_matching_score)"
   ]
  },
  {
   "cell_type": "markdown",
   "metadata": {
    "id": "8ibuo8TXdlFw"
   },
   "source": [
    "### Analysis"
   ]
  },
  {
   "cell_type": "markdown",
   "metadata": {
    "id": "EjDAUs7TdlFw"
   },
   "source": [
    "Recall that the budget is $\\$5,000$, and the total  cost associated of allocating the three resources is $\\$6,000$. This means that there is not enough budget to allocate the three resources we have. Consequently, the Gurobi Optimizer must choose two resources to fill the jobs demand, leave one job unfilled, and maximize the total matching scores. Notice that the two top matching scores are 80% (Joe for the Tester job) and 73% (Monika for the Java Developer job). Also, notice that the lowest score is 13% (Carlos for the Architect job). Assigning Joe to the Tester job, Monika to the Java Developer job, and nobody to the Architect job costs $\\$5,000$  and yields a total matching score of 153. This is the optimal solution found by the Gurobi Optimizer."
   ]
  }
 ],
 "metadata": {
  "colab": {
   "provenance": []
  },
  "kernelspec": {
   "display_name": "Python 3",
   "language": "python",
   "name": "python3"
  },
  "language_info": {
   "codemirror_mode": {
    "name": "ipython",
    "version": 3
   },
   "file_extension": ".py",
   "mimetype": "text/x-python",
   "name": "python",
   "nbconvert_exporter": "python",
   "pygments_lexer": "ipython3",
   "version": "3.9.13"
  }
 },
 "nbformat": 4,
 "nbformat_minor": 0
}