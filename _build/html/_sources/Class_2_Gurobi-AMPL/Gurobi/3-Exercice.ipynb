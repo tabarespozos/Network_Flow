{
  "cells": [
    {
      "cell_type": "markdown",
      "metadata": {},
      "source": [
        "## **Lectura 3: Ejercicio en clase**"
      ]
    },
    {
      "cell_type": "markdown",
      "metadata": {
        "id": "avZmWAtvdlFr"
      },
      "source": [
        "## Problema de asignación de recursos con una restricción presupuestaria\n",
        "\n",
        "Supongamos ahora que existe un coste fijo $C_{r,j}$ asociado a la asignación de un recurso $r \\in R$ a un trabajo $j \\in J$. Supongamos también que existe un presupuesto limitado $B$ que puede utilizarse para asignar trabajos.\n",
        "\n",
        "El coste de asignar a Carlos, Joe o Mónika a cualquiera de los trabajos es de $\\$1.000$ , $\\$2.000$ y $\\$3.000$ respectivamente. El presupuesto disponible es de $\\$5,000$."
      ]
    },
    {
      "cell_type": "code",
      "execution_count": null,
      "metadata": {
        "vscode": {
          "languageId": "plaintext"
        }
      },
      "outputs": [],
      "source": []
    }
  ],
  "metadata": {
    "colab": {
      "provenance": []
    },
    "kernelspec": {
      "display_name": "Python 3",
      "language": "python",
      "name": "python3"
    },
    "language_info": {
      "codemirror_mode": {
        "name": "ipython",
        "version": 3
      },
      "file_extension": ".py",
      "mimetype": "text/x-python",
      "name": "python",
      "nbconvert_exporter": "python",
      "pygments_lexer": "ipython3",
      "version": "3.7.1"
    }
  },
  "nbformat": 4,
  "nbformat_minor": 0
}
