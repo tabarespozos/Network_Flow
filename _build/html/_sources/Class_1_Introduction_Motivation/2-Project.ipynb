{
 "cells": [
  {
   "cell_type": "markdown",
   "id": "5b552080",
   "metadata": {},
   "source": [
    "# **Lectura 2: Proyecto del semestre**"
   ]
  },
  {
   "cell_type": "markdown",
   "id": "c3d93c75",
   "metadata": {},
   "source": [
    "\n",
    "#### Optimización de la Integración de Programación y Horarios de Autobuses Utilizando Modelos de Flujo de Redes\n",
    "\n",
    "\n",
    "Los sistemas de transporte público urbano son cruciales para reducir la congestión del tráfico, disminuir las emisiones de carbono y proporcionar opciones de movilidad eficientes en áreas metropolitanas. Sin embargo, la programación eficiente de los horarios y la asignación de autobuses sigue siendo un desafío complejo debido a restricciones como la cantidad de vehículos con que se cuenta, restricciones de los operadores de transporte  y la demanda variable de pasajeros.\n",
    "\n",
    "Este proyecto de investigación tiene como objetivo abordar el problema de la integración de la programación y los horarios de los autobuses utilizando modelos avanzados de flujo de redes. Al hacerlo, el proyecto busca mejorar la eficiencia operativa de los sistemas de transporte público, reducir costos y mejorar la calidad del servicio para los pasajeros.\n",
    "\n",
    "![image.png](../Images/schedulling_route.png)\n",
    "\n"
   ]
  },
  {
   "cell_type": "markdown",
   "id": "cf5daaf8",
   "metadata": {},
   "source": [
    "\n",
    "\n",
    "#### Funciones Objetivo\n",
    "\n",
    "Algunas funciones objetivo que pueden considerarse de forma individual o integrada para el problema son:\n",
    "\n",
    "1. Minimizar los costos totales asociados con la operación de la flota de autobuses, incluidos los costos fijos, los costos variables y los costos de trayectos sin pasajeros.\n",
    "\n",
    "   \n",
    "2. Maximizar el beneficio obtenido de realizar los viajes de servicio, considerando los costos operativos.\n",
    "   \n",
    "3. Minimizar el número de autobuses necesarios para satisfacer la demanda del servicio.\n",
    "\n",
    "   \n",
    "4. Maximizar la satisfacción del pasajero reduciendo los tiempos de espera y asegurando intervalos regulares de servicio.\n",
    "\n",
    "#### Posibles Restricciones\n",
    "\n",
    "Para desarrollar un modelo realista y efectivo, se pueden considerar las siguientes restricciones:\n",
    "\n",
    "1. Cada viaje de servicio puede ser realizado por como máximo un autobús.\n",
    "\n",
    "2. Mantener intervalos mínimos y máximos entre viajes consecutivos.\n",
    "\n",
    " \n",
    "3. Los autobuses deben comenzar y terminar sus rutas en el mismo depósito.\n",
    "\n",
    "4. Asegurar que los autobuses cumplan con los horarios de salida y llegada dentro del horizonte de planificación.\n",
    "\n",
    "5. Incluir trayectos sin pasajeros y los tiempos de espera necesarios en los puntos terminales.\n",
    "   \n",
    "6. Mantener una frecuencia mínima de viajes de servicio para cada línea de autobús para asegurar la calidad del servicio.\n",
    "\n"
   ]
  },
  {
   "cell_type": "markdown",
   "id": "6dceaf88",
   "metadata": {},
   "source": [
    "\n",
    "#### Resultados Esperados\n",
    "\n",
    "1. Desarrollar horarios de autobuses eficientes que minimicen los costos operativos y maximicen la calidad del servicio.\n",
    "   \n",
    "2. Demostrar una reducción en el tamaño de la flota y los costos operativos manteniendo o mejorando los niveles de servicio.\n",
    "\n",
    "3. Proporcionar horarios que reduzcan los tiempos de espera y aseguren un servicio confiable y regular para los pasajeros.\n",
    "\n"
   ]
  },
  {
   "cell_type": "markdown",
   "id": "20b9dc2d",
   "metadata": {},
   "source": [
    "#### Bibliografía mínima sugerida\n",
    "\n",
    " [A new formulation and a column generation-based heuristic for the multiple depot vehicle scheduling problem](https://www.sciencedirect.com/science/article/pii/S0191261518301115)\n",
    "\n",
    " \n",
    "\n"
   ]
  },
  {
   "cell_type": "markdown",
   "id": "b50eb406",
   "metadata": {},
   "source": [
    "[Heuristic solutions to the single depot electric vehicle scheduling problem with next day operability constraint](https://www.sciencedirect.com/science/article/pii/S0968090X24001773)"
   ]
  },
  {
   "cell_type": "markdown",
   "id": "72ef3937",
   "metadata": {},
   "source": [
    "[Optimizing the Scheduling of Electrified Public Transport System in Malta](https://www.mdpi.com/1996-1073/16/13/5073)"
   ]
  },
  {
   "cell_type": "markdown",
   "id": "3b90c2d2",
   "metadata": {},
   "source": [
    "[A mixed-integer programming-based Q-learning approach for electric bus scheduling with multiple termini and service routes](https://www.sciencedirect.com/science/article/pii/S0968090X24000913)"
   ]
  }
 ],
 "metadata": {
  "kernelspec": {
   "display_name": "base",
   "language": "python",
   "name": "python3"
  },
  "language_info": {
   "codemirror_mode": {
    "name": "ipython",
    "version": 3
   },
   "file_extension": ".py",
   "mimetype": "text/x-python",
   "name": "python",
   "nbconvert_exporter": "python",
   "pygments_lexer": "ipython3",
   "version": "3.9.13"
  }
 },
 "nbformat": 4,
 "nbformat_minor": 5
}
