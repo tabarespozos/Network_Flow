{
    "cells": [
        {
            "cell_type": "markdown",
            "metadata": {
                "id": "AVkGJGu-Ob6L"
            },
            "source": [
                "# A Basic AMPL Model\n",
                "\n",
                "AMPL is an algebraic modeling language for mathematical optimization that integrates with the Python programming environment. It enables users to define optimization models consisting of decision variables, objective functions, and constraints, and to compute solutions using a variety of open-source and commercial solvers.\n",
                "\n",
                "This notebook introduces basic concepts of AMPL needed to formulate and solve the [production planning problem](https://github.com/fdabrandao/MO-book-with-AMPL/blob/dev/notebooks/01/production-planning.ipynb) introduced in a companion notebook:\n",
                "\n",
                "* Variables\n",
                "* Objectives\n",
                "* Constraints\n",
                "* Solving\n",
                "* Reporting the solution\n",
                "\n",
                "The AMPL model shown in this notebook is a direct translation of the mathematical model into basic AMPL components. In this approach, parameter values from the mathematical model are included directly in the AMPL model for simplicity. This method works well for problems with a small number of decision variables and constraints, but it limits the reuse of the model. Another notebook will demonstrate AMPL features for writing models for more generic, \"data-driven\" applications."
            ]
        },
        {
            "cell_type": "markdown",
            "metadata": {
                "id": "e3JrgUKrbV01"
            },
            "source": [
                "## Preliminary Step: Install AMPL and Python tools\n",
                "\n",
                "We start by installing amplpy, the application programming interface (or API) that integrates the AMPL modeling language with the Python programming language. Also we install two Python utilities, matplotlib and pandas, that will be used in the parts of this notebook that display results.\n",
                "\n",
                "These installations need to be done only once for each Python environment on a personal computer. A new installation must be done for each new Colab session, however."
            ]
        },
        {
            "cell_type": "code",
            "execution_count": null,
            "metadata": {
                "colab": {
                    "base_uri": "https://localhost:8080/"
                },
                "id": "4AYeavKO4ze7",
                "outputId": "42b98818-a526-4901-9ade-83c7f633b955",
                "tags": []
            },
            "outputs": [],
            "source": [
                "# install dependencies\n",
                "%pip install -q amplpy matplotlib pandas"
            ]
        },
        {
            "cell_type": "markdown",
            "metadata": {
                "id": "aUVhMnK0bV06"
            },
            "source": [
                "## Step 1. Import AMPL\n",
                "\n",
                "The first step for a new AMPL model is to import the needed components into the AMPL environment. The Python code shown below is used at the beginning of every notebook. There are just two elements that may vary according to your needs:\n",
                "\n",
                "* The `modules` line lists the solvers that you intend to use. In the present notebook we list `\"cbc\"` and `\"highs\"` to request the free CBC and HiGHS solvers.\n",
                "\n",
                "* The `license_uuid` is a code that determines your permissions to use AMPL and commercial solvers. Here the UUID is set to `\"default\"` which gets you full-featured versions of AMPL and most popular solvers, limited only by the size of the problems that can be solved; this is sufficient for all of our small examples.\n",
                "\n",
                "If you have obtained a different license for AMPL and one or more solvers, you can get its UUID from your account on the AMPL Portal. If you are using these notebooks in a course, your instructor may give you a UUID to use.\n",
                "\n",
                "This step also creates a new object, named `ampl`, that will be referenced when you want to refer to various components and methods of the AMPL system within Python statements."
            ]
        },
        {
            "cell_type": "code",
            "execution_count": 2,
            "metadata": {
                "colab": {
                    "base_uri": "https://localhost:8080/"
                },
                "id": "8HlRikx1bV07",
                "outputId": "770b0a32-69a3-45cc-d6b9-134537c3f37c",
                "tags": []
            },
            "outputs": [
                {
                    "name": "stdout",
                    "output_type": "stream",
                    "text": [
                        "Using default Community Edition License for Colab. Get yours at: https://ampl.com/ce\n",
                        "Licensed to AMPL Community Edition License for the AMPL Model Colaboratory (https://colab.ampl.com).\n"
                    ]
                }
            ],
            "source": [
                "from amplpy import AMPL, ampl_notebook\n",
                "\n",
                "ampl = ampl_notebook(\n",
                "    modules=[\"cbc\", \"highs\"],  # modules to install\n",
                "    license_uuid=\"default\",  # license to use\n",
                ")  # instantiate AMPL object and register magics"
            ]
        },
        {
            "cell_type": "markdown",
            "metadata": {
                "id": "r8-CieFJbV1U"
            },
            "source": [
                "## Step 2. Decision variables\n",
                "\n",
                "To define the decision variables of your model, you use AMPL `var` statements. Our basic production planning model has 5 decision variables, so they can be defined by 5 `var` statements.\n",
                "\n",
                "Each statement starts with the keyword `var` and a unique name for the variable. Then lower and upper bounds for the variable are specified by `>=` and `<=` phrases. Bounds are optional; in this model, `>= 0` is specified for all 5 variables, but some of them have no specified upper bound.\n",
                "\n",
                "The `%%ampl_eval` line at the beginning of this cell tells Python to send all of the statements in the cell to AMPL. To add an AMPL comment line, put a `#` character at the beginning of the line."
            ]
        },
        {
            "cell_type": "code",
            "execution_count": 12,
            "metadata": {
                "id": "HwlpibttbV1V",
                "tags": []
            },
            "outputs": [],
            "source": [
                "%%ampl_eval\n",
                "# define decision variables\n",
                "\n",
                "reset;\n",
                "\n",
                "var xM >= 0;\n",
                "var xA >= 0, <= 80;\n",
                "var xB >= 0, <= 100;\n",
                "\n",
                "var yU >= 0, <= 40;\n",
                "var yV >= 0;"
            ]
        },
        {
            "cell_type": "markdown",
            "metadata": {
                "id": "7-yczIMEbV17"
            },
            "source": [
                "## Step 3. Objective\n",
                "\n",
                "Since this is a maximization problem, an AMPL `maximize` statement specifies the objective function. (If it were a minimization, a `minimize` statement would be used instead.)\n",
                "\n",
                "The `maximize` keyword is followed by a name for the objective &mdash; we can call it `Profit` &mdash; and a colon (`:`) character. Then the expression for the objective function is written in AMPL just the same as we previously wrote it in the mathematical formulation.\n",
                "\n",
                "Notice that all AMPL statements are ended with a semicolon (`;`) character. A long statement can be spread over more than one line, as in the case of our `maximize` statement for this model."
            ]
        },
        {
            "cell_type": "code",
            "execution_count": 13,
            "metadata": {
                "id": "RX_zc5rjbV18",
                "tags": []
            },
            "outputs": [],
            "source": [
                "%%ampl_eval\n",
                "# define objective function\n",
                "\n",
                "maximize Profit:\n",
                "   270*yU + 210*yV - 10*xM - 50*xA - 40*xB;"
            ]
        },
        {
            "cell_type": "markdown",
            "metadata": {
                "id": "J6d-mWSQbV1_"
            },
            "source": [
                "## Step 4. Constraints\n",
                "\n",
                "AMPL specifies constraints in much the same way as the objective, with just a few differences:\n",
                "\n",
                "* An AMPL constraint definition begins with the keywords `subject to`.\n",
                "\n",
                "* The expression for a constraint contains a less-than (`<=`), greater-than (`>=`), or equals (`=`) operator.\n",
                "\n",
                "Just as for the objective, each constraint has a name, and the expressions for the three constraints are the same as in the mathematical formulation.\n",
                "\n",
                "(You can abbreviate `subject to` as `subj to` or `s.t.` Or you can leave it out entirely; a statement that does not begin with a keyword is assumed by AMPL to be a constraint definition.)\n",
                "\n"
            ]
        },
        {
            "cell_type": "code",
            "execution_count": 14,
            "metadata": {
                "id": "ZC_SnWUNbV2B",
                "tags": []
            },
            "outputs": [],
            "source": [
                "%%ampl_eval\n",
                "# define constraints\n",
                "\n",
                "subj to raw_materials: 10*yU + 9*yV <= xM;\n",
                "subj to labor_A: 2*yU + 1*yV <= xA;\n",
                "subj to labor_B: 1*yU + 1*yV <= xB;"
            ]
        },
        {
            "cell_type": "markdown",
            "metadata": {
                "id": "WRjeJmzfbV2C"
            },
            "source": [
                "## Step 5. Solving\n",
                "\n",
                "With the model now fully specified, the next step is to compute optimal values for the decision variables. From this point onward, our cells will contain Python statements and function calls, including calls to amplpy functions that manage the integration of AMPL and Python.\n",
                "\n",
                "There are many ways to assign values to the variables, so that all of the bounds and all of the constraints are satisfied. Each of these ways gives a *feasible* solution for our model. A solution is *optimal* if it gives the highest possible value of the objective function among all the feasible solutions.\n",
                "\n",
                "To compute an optimal solution, we call a *solver:* a separate program that applies numerical algorithms to determine optimal values for the variables. There are just a few steps:\n",
                "\n",
                "* The AMPL commands `show` and `expand` display the model components and expressions, so that you can check that they have been specified correctly. We use the `amplpy.AMPL.eval` function to run these commands in AMPL.\n",
                "\n",
                "* The `amplpy.AMPL.option` attribute sets the `\"solver\"` option to one of the solvers that we loaded in Step 2.\n",
                "\n",
                "* The `amplpy.AMPL.solve` function invokes the chosen solver. AMPL takes care of converting the model to the form that the solver requires for its computation, and converting the results back to a form that can be used in Python.\n",
                "\n",
                "To show how different solvers can be tested, we conclude by setting a different solver and solving again. As expected, the two solvers report the same optimal objective value, 2400."
            ]
        },
        {
            "cell_type": "code",
            "execution_count": 19,
            "metadata": {
                "colab": {
                    "base_uri": "https://localhost:8080/"
                },
                "id": "Es_J3gd6bV2C",
                "outputId": "ec830ed4-e1dd-4168-d594-d17b48c1b299",
                "tags": []
            },
            "outputs": [
                {
                    "name": "stdout",
                    "output_type": "stream",
                    "text": [
                        "\n",
                        "variables:   xA   xB   xM   yU   yV\n",
                        "\n",
                        "constraints:   labor_A   labor_B   raw_materials\n",
                        "\n",
                        "objective:   Profit\n",
                        "maximize Profit:\n",
                        "\t-10*xM - 50*xA - 40*xB + 270*yU + 210*yV;\n",
                        "\n",
                        "subject to raw_materials:\n",
                        "\t-xM + 10*yU + 9*yV <= 0;\n",
                        "\n",
                        "subject to labor_A:\n",
                        "\t-xA + 2*yU + yV <= 0;\n",
                        "\n",
                        "subject to labor_B:\n",
                        "\t-xB + yU + yV <= 0;\n",
                        "\n",
                        "cbc 2.10.7: \b\b\b\b\b\b\b\b\b\b\b\bcbc 2.10.7: optimal solution; objective 2400\n",
                        "0 simplex iterations\n",
                        "HiGHS 1.5.1: HiGHS 1.5.1: optimal solution; objective 2400\n",
                        "0 simplex iterations\n",
                        "0 barrier iterations\n"
                    ]
                }
            ],
            "source": [
                "# exhibit the model that has been built\n",
                "ampl.eval(\"show;\")\n",
                "ampl.eval(\"expand;\")\n",
                "\n",
                "# solve using two different solvers\n",
                "ampl.option[\"solver\"] = \"cbc\"\n",
                "ampl.solve()\n",
                "\n",
                "ampl.option[\"solver\"] = \"highs\"\n",
                "ampl.solve()"
            ]
        },
        {
            "cell_type": "markdown",
            "metadata": {
                "id": "MZDcujpLbV2D"
            },
            "source": [
                "## Step 6. Reporting the solution\n",
                "\n",
                "The final step in most applications is to report the solution in a suitable format. For this example, we demonstrate simple tabular and graphic reports using the Pandas library. For an overview of other ways to report and visualize the solutions, see also the appendix of the [gasoline-distribution](https://github.com/fdabrandao/MO-book-with-AMPL/tree/dev/notebooks/04/gasoline-distributon.ipynb) notebook."
            ]
        },
        {
            "cell_type": "markdown",
            "metadata": {
                "id": "BbCuGda0bV2D"
            },
            "source": [
                "### Accessing solution values with `display`\n",
                "\n",
                "The amplpy `ampl.display` function shows the values of one or more AMPL expressions, computed from the current values of the variables. You can also apply this function to special expresions such as `_var` for the values of all the variables, and `_varname` for the names of all the variables."
            ]
        },
        {
            "cell_type": "code",
            "execution_count": 24,
            "metadata": {
                "colab": {
                    "base_uri": "https://localhost:8080/"
                },
                "id": "6ZzrTlsRbV2E",
                "outputId": "deba6b63-8e69-4f03-a854-a8d60f4d945f"
            },
            "outputs": [
                {
                    "name": "stdout",
                    "output_type": "stream",
                    "text": [
                        "Profit = 2400\n",
                        "\n",
                        "270*yU + 210*yV = 16800\n",
                        "10*xM + 50*xA + 40*xB = 14400\n",
                        "\n",
                        ": _varname  _var    :=\n",
                        "1   xM       720\n",
                        "2   xA        80\n",
                        "3   xB        80\n",
                        "4   yU         0\n",
                        "5   yV        80\n",
                        ";\n",
                        "\n"
                    ]
                }
            ],
            "source": [
                "# display a component of the model\n",
                "ampl.display(\"Profit\")\n",
                "ampl.display(\"270*yU + 210*yV\", \"10*xM + 50*xA + 40*xB\")\n",
                "\n",
                "ampl.display(\"_varname\", \"_var\")"
            ]
        },
        {
            "cell_type": "markdown",
            "metadata": {
                "id": "sHsa8Jp-bV2F"
            },
            "source": [
                "### Accessing solution values with `get_value`\n",
                "\n",
                "After an optimal solution has been successfully computed, the value of an AMPL expression can be retrieved in Python by use of the `ampl.get_value` function. When combined with Python `f` strings, `ampl.get_value` provides a convenient means of creating formatted reports."
            ]
        },
        {
            "cell_type": "code",
            "execution_count": 46,
            "metadata": {
                "colab": {
                    "base_uri": "https://localhost:8080/"
                },
                "id": "qeigwJQkbV2I",
                "outputId": "1a642d79-ec8f-46c6-fe45-ec0b0d2a4319"
            },
            "outputs": [
                {
                    "name": "stdout",
                    "output_type": "stream",
                    "text": [
                        " Profit =   2400.00\n",
                        "Revenue =  16800.00\n",
                        "   Cost =  14400.00\n"
                    ]
                }
            ],
            "source": [
                "print(f\" Profit = {ampl.get_value('Profit'): 9.2f}\")\n",
                "print(f\"Revenue = {ampl.get_value('270*yU + 210*yV'): 9.2f}\")\n",
                "print(f\"   Cost = {ampl.get_value('10*xM + 50*xA + 40*xB'): 9.2f}\")"
            ]
        },
        {
            "cell_type": "markdown",
            "metadata": {
                "id": "reZQ-4bHbV2L"
            },
            "source": [
                "### Creating reports with Pandas and Matplotlib\n",
                "\n",
                "Pandas, a freely available library for working with data in Python, is widely used in the data science community. Here we use a Pandas `Series()` object to hold and display solution data. We can then visualize the data using the matplotlib library, for instance with a bar chart."
            ]
        },
        {
            "cell_type": "code",
            "execution_count": 40,
            "metadata": {
                "colab": {
                    "base_uri": "https://localhost:8080/",
                    "height": 139
                },
                "id": "R4PQ1pLobV2O",
                "outputId": "68efc530-a1cd-4aee-e332-f608b7e37732"
            },
            "outputs": [
                {
                    "data": {
                        "text/plain": [
                            "U     0.0\n",
                            "V    80.0\n",
                            "dtype: float64"
                        ]
                    },
                    "metadata": {},
                    "output_type": "display_data"
                },
                {
                    "data": {
                        "text/plain": [
                            "A     80.0\n",
                            "B     80.0\n",
                            "M    720.0\n",
                            "dtype: float64"
                        ]
                    },
                    "metadata": {},
                    "output_type": "display_data"
                }
            ],
            "source": [
                "import pandas as pd\n",
                "\n",
                "# create pandas series for production and raw materials\n",
                "production = pd.Series(\n",
                "    {\n",
                "        \"U\": ampl.get_value(\"yU\"),\n",
                "        \"V\": ampl.get_value(\"yV\"),\n",
                "    }\n",
                ")\n",
                "\n",
                "raw_materials = pd.Series(\n",
                "    {\n",
                "        \"A\": ampl.get_value(\"xA\"),\n",
                "        \"B\": ampl.get_value(\"xB\"),\n",
                "        \"M\": ampl.get_value(\"xM\"),\n",
                "    }\n",
                ")\n",
                "\n",
                "# display pandas series\n",
                "display(production)\n",
                "display(raw_materials)"
            ]
        },
        {
            "cell_type": "code",
            "execution_count": 41,
            "metadata": {
                "colab": {
                    "base_uri": "https://localhost:8080/",
                    "height": 237
                },
                "id": "oy61QNFgbV2Q",
                "outputId": "918746a8-4783-494a-c87c-a4dd23eb040d"
            },
            "outputs": [
                {
                    "data": {
                        "image/png": "[encoded data removed]",
                        "text/plain": [
                            "<Figure size 800x200 with 2 Axes>"
                        ]
                    },
                    "metadata": {},
                    "output_type": "display_data"
                }
            ],
            "source": [
                "import matplotlib.pyplot as plt\n",
                "\n",
                "# create grid of subplots\n",
                "fig, ax = plt.subplots(1, 2, figsize=(8, 2))\n",
                "\n",
                "# show pandas series as horizontal bar plots\n",
                "production.plot(ax=ax[0], kind=\"barh\", title=\"Production\")\n",
                "raw_materials.plot(ax=ax[1], kind=\"barh\", title=\"Raw Materials\")\n",
                "\n",
                "# show vertical axis in descending order\n",
                "ax[0].invert_yaxis()\n",
                "ax[1].invert_yaxis()"
            ]
        },
        {
            "cell_type": "markdown",
            "metadata": {
                "id": "ecm9QpoybV2R"
            },
            "source": [
                "### Appendix???\n",
                "Mention .mod file (model isolation) and pure Python execution?"
            ]
        },
        {
            "cell_type": "code",
            "execution_count": null,
            "metadata": {
                "id": "yfCHxWg5bV2S",
                "outputId": "ad06d5a2-ad9e-42be-c6ea-7e97e38f19c5"
            },
            "outputs": [
                {
                    "name": "stdout",
                    "output_type": "stream",
                    "text": [
                        "Overwriting production_planning_basic.mod\n"
                    ]
                }
            ],
            "source": [
                "%%writefile production_planning_basic.mod\n",
                "\n",
                "# decision variables\n",
                "var x_M >= 0;\n",
                "var x_A >= 0, <= 80;\n",
                "var x_B >= 0, <= 100;\n",
                "\n",
                "var y_U >= 0, <= 40;\n",
                "var y_V >= 0;\n",
                "\n",
                "# auxiliary variables\n",
                "var revenue = 270 * y_U + 210 * y_V;\n",
                "var cost = 10 * x_M + 50 * x_A + 40 * x_B;\n",
                "\n",
                "# objective\n",
                "maximize profit: revenue - cost;\n",
                "\n",
                "# constraints\n",
                "s.t. raw_materials: 10 * y_U + 9 * y_V <= x_M;\n",
                "s.t. labor_A: 2 * y_U + 1 * y_V <= x_A;\n",
                "s.t. labor_B: 1 * y_U + 1 * y_V <= x_B;"
            ]
        },
        {
            "cell_type": "code",
            "execution_count": null,
            "metadata": {
                "id": "NGDnnW4QbV2S",
                "outputId": "3fee29dc-1339-42e8-a822-68235d763c04"
            },
            "outputs": [
                {
                    "name": "stdout",
                    "output_type": "stream",
                    "text": [
                        "cbc 2.10.7: \b\b\b\b\b\b\b\b\b\b\b\bcbc 2.10.7: optimal solution; objective 2400\n",
                        "0 simplex iterations\n"
                    ]
                }
            ],
            "source": [
                "# Create AMPL instance and load the model\n",
                "ampl = AMPL()\n",
                "ampl.read(\"production_planning_basic.mod\")\n",
                "\n",
                "# Select a solver and solve the problem\n",
                "ampl.option[\"solver\"] = SOLVER\n",
                "ampl.solve()"
            ]
        }
    ],
    "metadata": {
        "colab": {
            "include_colab_link": true,
            "provenance": []
        },
        "kernelspec": {
            "display_name": "Python 3 (ipykernel)",
            "language": "python",
            "name": "python3"
        },
        "language_info": {
            "codemirror_mode": {
                "name": "ipython",
                "version": 3
            },
            "file_extension": ".py",
            "mimetype": "text/x-python",
            "name": "python",
            "nbconvert_exporter": "python",
            "pygments_lexer": "ipython3",
            "version": "3.10.6"
        },
        "latex_envs": {
            "LaTeX_envs_menu_present": true,
            "autoclose": false,
            "autocomplete": true,
            "bibliofile": "biblio.bib",
            "cite_by": "apalike",
            "current_citInitial": 1,
            "eqLabelWithNumbers": true,
            "eqNumInitial": 1,
            "hotkeys": {
                "equation": "Ctrl-E",
                "itemize": "Ctrl-I"
            },
            "labels_anchors": false,
            "latex_user_defs": false,
            "report_style_numbering": false,
            "user_envs_cfg": false
        }
    },
    "nbformat": 4,
    "nbformat_minor": 0
}
