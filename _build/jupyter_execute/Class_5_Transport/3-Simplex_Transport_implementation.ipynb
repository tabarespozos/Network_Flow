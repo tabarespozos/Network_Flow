{
 "cells": [
  {
   "cell_type": "markdown",
   "metadata": {},
   "source": [
    "## **Lectura 2: Implementación simplex de transporte** "
   ]
  },
  {
   "cell_type": "markdown",
   "metadata": {},
   "source": [
    "1. Balancear el problema:"
   ]
  },
  {
   "cell_type": "code",
   "execution_count": 47,
   "metadata": {},
   "outputs": [],
   "source": [
    "import numpy as np"
   ]
  },
  {
   "cell_type": "code",
   "execution_count": 48,
   "metadata": {},
   "outputs": [],
   "source": [
    "def get_balanced_tp(supply, demand, costs, penalties=None):\n",
    "    # Calculamos el suministro y la demanda total.\n",
    "    total_supply = sum(supply)\n",
    "    total_demand = sum(demand)\n",
    "\n",
    "    # Si el suministro total es menor que la demanda total:\n",
    "    if total_supply < total_demand:\n",
    "        # Si no se proporcionan penalizaciones, lanzamos una excepción.\n",
    "        if penalties is None:\n",
    "            raise Exception('Supply less than demand, penalties required')\n",
    "        \n",
    "        # Creamos nuevas listas de suministro y costos que incluyen la diferencia entre demanda y suministro,\n",
    "        # usando las penalizaciones proporcionadas para los costos adicionales.\n",
    "        new_supply = supply + [total_demand - total_supply]\n",
    "        new_costs = costs + [penalties]\n",
    "        \n",
    "        # Devolvemos las nuevas listas de suministro, demanda y costos.\n",
    "        return new_supply, demand, new_costs\n",
    "    \n",
    "    # Si el suministro total es mayor que la demanda total:\n",
    "    if total_supply > total_demand:\n",
    "        # Creamos una nueva lista de demanda que incluye la diferencia entre suministro y demanda,\n",
    "        # y añadimos una fila de ceros a la matriz de costos para los costos adicionales.\n",
    "        new_demand = demand + [total_supply - total_demand]\n",
    "        new_costs = costs + [[0 for _ in demand]]\n",
    "        \n",
    "        # Devolvemos las nuevas listas de suministro, demanda y costos.\n",
    "        return supply, new_demand, new_costs\n",
    "    \n",
    "    # Si el suministro total es igual a la demanda total, devolvemos las listas originales de suministro, demanda y costos.\n",
    "    return supply, demand, costs\n"
   ]
  },
  {
   "cell_type": "code",
   "execution_count": 49,
   "metadata": {},
   "outputs": [
    {
     "data": {
      "text/plain": [
       "([40, 30, 10], [30, 50], [[3, 4], [2, 4], [3, 1]])"
      ]
     },
     "execution_count": 49,
     "metadata": {},
     "output_type": "execute_result"
    }
   ],
   "source": [
    "# Ejemplo 1: oferta menor que la demanda\n",
    "\n",
    "supply = [40, 30]\n",
    "demand = [30, 50]\n",
    "costs = [\n",
    "    [3, 4],\n",
    "    [2, 4]\n",
    "]\n",
    "penalties = [3, 1]\n",
    "get_balanced_tp(supply, demand, costs, penalties)"
   ]
  },
  {
   "cell_type": "code",
   "execution_count": 50,
   "metadata": {},
   "outputs": [
    {
     "data": {
      "text/plain": [
       "([40, 30], [30, 30, 10], [[3, 4], [2, 4], [0, 0]])"
      ]
     },
     "execution_count": 50,
     "metadata": {},
     "output_type": "execute_result"
    }
   ],
   "source": [
    "# Ejemplo 2: oferta mayor que la demanda\n",
    "\n",
    "supply = [40, 30]\n",
    "demand = [30, 30]\n",
    "costs = [\n",
    "    [3, 4],\n",
    "    [2, 4]\n",
    "]\n",
    "get_balanced_tp(supply, demand, costs, penalties)"
   ]
  },
  {
   "cell_type": "markdown",
   "metadata": {},
   "source": [
    "2. Solución básica factible inicial:"
   ]
  },
  {
   "cell_type": "code",
   "execution_count": 51,
   "metadata": {},
   "outputs": [],
   "source": [
    "def north_west_corner(supply, demand):\n",
    "    # Hacemos copias de las listas de suministro y demanda para evitar modificar las listas originales.\n",
    "    supply_copy = supply.copy()\n",
    "    demand_copy = demand.copy()\n",
    "    \n",
    "    # Inicializamos los índices para iterar sobre las listas de suministro y demanda.\n",
    "    i = 0\n",
    "    j = 0\n",
    "    \n",
    "    # Inicializamos una lista para almacenar las asignaciones de suministro a demanda.\n",
    "    bfs = []\n",
    "    \n",
    "    # Continuamos el bucle hasta que el número de asignaciones en 'bfs' sea \n",
    "    # igual a la suma de las longitudes de suministro y demanda menos uno.\n",
    "    while len(bfs) < len(supply) + len(demand) - 1:\n",
    "        \n",
    "        # Obtenemos la oferta y demanda actual usando los índices i y j.\n",
    "        s = supply_copy[i]\n",
    "        d = demand_copy[j]\n",
    "        \n",
    "        # La cantidad asignada es el mínimo entre la oferta y la demanda actuales.\n",
    "        v = min(s, d)\n",
    "        \n",
    "        # Actualizamos las listas de suministro y demanda restando la cantidad asignada.\n",
    "        supply_copy[i] -= v\n",
    "        demand_copy[j] -= v\n",
    "        \n",
    "        # Agregamos la asignación a la lista 'bfs'.\n",
    "        bfs.append(((i, j), v))\n",
    "        \n",
    "        # Si hemos agotado el suministro del punto de origen actual y aún quedan más puntos de origen,\n",
    "        # incrementamos el índice i.\n",
    "        if supply_copy[i] == 0 and i < len(supply) - 1:\n",
    "            i += 1\n",
    "        \n",
    "        # Si hemos satisfecho la demanda del destino actual y aún quedan más destinos,\n",
    "        # incrementamos el índice j.\n",
    "        elif demand_copy[j] == 0 and j < len(demand) - 1:\n",
    "            j += 1\n",
    "            \n",
    "    # Devolvemos la lista de asignaciones 'bfs'.\n",
    "    return bfs\n"
   ]
  },
  {
   "cell_type": "code",
   "execution_count": 52,
   "metadata": {},
   "outputs": [
    {
     "name": "stdout",
     "output_type": "stream",
     "text": [
      "[((0, 0), 30), ((1, 0), 10), ((1, 1), 30), ((1, 2), 30), ((2, 2), 10), ((2, 3), 40)]\n"
     ]
    }
   ],
   "source": [
    "#ejemplo: soluciòn bàsica factible\n",
    "\n",
    "supply = [30, 70, 50]\n",
    "demand = [40, 30, 40, 40]\n",
    "bfs = north_west_corner(supply, demand)\n",
    "print(bfs)"
   ]
  },
  {
   "cell_type": "markdown",
   "metadata": {},
   "source": [
    "3. Cálculo de las variables duales "
   ]
  },
  {
   "cell_type": "code",
   "execution_count": 53,
   "metadata": {},
   "outputs": [],
   "source": [
    "def get_us_and_vs(bfs, costs):\n",
    "    # Inicializamos las listas 'us' y 'vs' con None y de longitud igual\n",
    "    # a la cantidad de filas y columnas de la matriz de costos respectivamente.\n",
    "    us = [None] * len(costs)\n",
    "    vs = [None] * len(costs[0])\n",
    "    \n",
    "    # Asignamos 0 a la primera posición de 'us' ya que es un punto de inicio para calcular el resto de los valores.\n",
    "    us[0] = 0\n",
    "    \n",
    "    # Creamos una copia de 'bfs' para modificarla durante el proceso sin afectar la original.\n",
    "    bfs_copy = bfs.copy()\n",
    "    \n",
    "    # Continuamos el bucle hasta que 'bfs_copy' esté vacía.\n",
    "    while len(bfs_copy) > 0:\n",
    "        # Iteramos sobre cada elemento en 'bfs_copy'.\n",
    "        for index, bv in enumerate(bfs_copy):\n",
    "            # Obtenemos los índices i, j del elemento actual en 'bfs_copy'.\n",
    "            i, j = bv[0]\n",
    "            \n",
    "            # Si tanto 'us[i]' como 'vs[j]' son None, continuamos con la siguiente iteración.\n",
    "            if us[i] is None and vs[j] is None: continue\n",
    "                \n",
    "            # Obtenemos el costo asociado a los índices i, j.\n",
    "            cost = costs[i][j]\n",
    "            \n",
    "            # Si 'us[i]' es None, calculamos su valor.\n",
    "            # Si no, calculamos el valor de 'vs[j]'.\n",
    "            if us[i] is None:\n",
    "                us[i] = cost - vs[j]\n",
    "            else: \n",
    "                vs[j] = cost - us[i]\n",
    "            \n",
    "            # Eliminamos el elemento actual de 'bfs_copy' y salimos del bucle for.\n",
    "            bfs_copy.pop(index)\n",
    "            break\n",
    "            \n",
    "    # Devolvemos las listas 'us' y 'vs'.\n",
    "    return us, vs\n"
   ]
  },
  {
   "cell_type": "code",
   "execution_count": 54,
   "metadata": {},
   "outputs": [
    {
     "name": "stdout",
     "output_type": "stream",
     "text": [
      "[0, 8, 9]\n",
      "[2, 0, -3, -1]\n"
     ]
    }
   ],
   "source": [
    "# Ejemplo 2: oferta mayor que la demanda\n",
    "\n",
    "costs = [\n",
    "    [ 2, 2, 2, 1],\n",
    "    [10, 8, 5, 4],\n",
    "    [ 7, 6, 6, 8]\n",
    "]\n",
    "supply = [30, 70, 50]\n",
    "demand = [40, 30, 40, 40]\n",
    "bfs = north_west_corner(supply, demand)\n",
    "us, vs = get_us_and_vs(bfs, costs)\n",
    "print(us)\n",
    "print(vs)\n"
   ]
  },
  {
   "cell_type": "markdown",
   "metadata": {},
   "source": [
    "4. Cálculo de los costos reducidos"
   ]
  },
  {
   "cell_type": "code",
   "execution_count": 55,
   "metadata": {},
   "outputs": [],
   "source": [
    "def get_ws(bfs, costs, us, vs):\n",
    "    # Inicializamos una lista 'ws' vacía para almacenar los valores calculados.\n",
    "    ws = []\n",
    "\n",
    "    # Iteramos sobre cada fila y cada elemento de la fila en la matriz de costos.\n",
    "    for i, row in enumerate(costs):\n",
    "        for j, cost in enumerate(row):\n",
    "            # Verificamos si la celda actual (i, j) no está en 'bfs', es decir, si es no básica.\n",
    "            non_basic = all([p[0] != i or p[1] != j for p, v in bfs])\n",
    "            \n",
    "            # Si la celda es no básica, calculamos su valor correspondiente y lo añadimos a 'ws'.\n",
    "            if non_basic:\n",
    "                ws.append(((i, j), cost - us[i] - vs[j]))\n",
    "                \n",
    "    # Devolvemos la lista 'ws'.\n",
    "    return ws\n"
   ]
  },
  {
   "cell_type": "code",
   "execution_count": 56,
   "metadata": {},
   "outputs": [
    {
     "name": "stdout",
     "output_type": "stream",
     "text": [
      "[((0, 1), 2), ((0, 2), 5), ((0, 3), 2), ((1, 3), -3), ((2, 0), -4), ((2, 1), -3)]\n"
     ]
    }
   ],
   "source": [
    "ws= get_ws(bfs, costs, us, vs)\n",
    "print(ws)"
   ]
  },
  {
   "cell_type": "markdown",
   "metadata": {},
   "source": [
    "5. Definir si podemos mejorar la solución"
   ]
  },
  {
   "cell_type": "code",
   "execution_count": 57,
   "metadata": {},
   "outputs": [],
   "source": [
    "def can_be_improved(ws):\n",
    "    for p, v in ws:\n",
    "        if v < 0: return True\n",
    "    return False"
   ]
  },
  {
   "cell_type": "code",
   "execution_count": 58,
   "metadata": {},
   "outputs": [
    {
     "data": {
      "text/plain": [
       "True"
      ]
     },
     "execution_count": 58,
     "metadata": {},
     "output_type": "execute_result"
    }
   ],
   "source": [
    "can_be_improved(ws)"
   ]
  },
  {
   "cell_type": "code",
   "execution_count": 59,
   "metadata": {},
   "outputs": [
    {
     "name": "stdout",
     "output_type": "stream",
     "text": [
      "[((2, 0), -4), ((1, 3), -3), ((2, 1), -3), ((0, 1), 2), ((0, 3), 2), ((0, 2), 5)]\n"
     ]
    }
   ],
   "source": [
    "ws_copy = ws.copy()\n",
    "ws_copy.sort(key=lambda w: w[1])\n",
    "print(ws_copy)"
   ]
  },
  {
   "cell_type": "code",
   "execution_count": 60,
   "metadata": {},
   "outputs": [],
   "source": [
    "def get_entering_variable_position(ws):\n",
    "    # Creamos una copia de la lista 'ws' para no modificar la lista original durante el proceso de ordenamiento.\n",
    "    ws_copy = ws.copy()\n",
    "    \n",
    "    # Ordenamos 'ws_copy' basándonos en el segundo elemento de cada tupla (w[1]).\n",
    "    # Esto ordena la lista de tuplas basándose en los valores de 'w' en orden ascendente.\n",
    "    ws_copy.sort(key=lambda w: w[1])\n",
    "    \n",
    "    # Devolvemos el primer elemento de la primera tupla en 'ws_copy' ordenado, \n",
    "    # que corresponde a la posición de la variable de entrada en la matriz de costos.\n",
    "    return ws_copy[0][0]"
   ]
  },
  {
   "cell_type": "code",
   "execution_count": 61,
   "metadata": {},
   "outputs": [
    {
     "data": {
      "text/plain": [
       "(2, 0)"
      ]
     },
     "execution_count": 61,
     "metadata": {},
     "output_type": "execute_result"
    }
   ],
   "source": [
    "get_entering_variable_position(ws)"
   ]
  },
  {
   "cell_type": "code",
   "execution_count": 62,
   "metadata": {},
   "outputs": [],
   "source": [
    "def get_possible_next_nodes(loop, not_visited):\n",
    "    # Obtener el último nodo en 'loop'.\n",
    "    last_node = loop[-1]\n",
    "    \n",
    "    # Obtener los nodos no visitados en la misma fila que 'last_node'.\n",
    "    nodes_in_row = [n for n in not_visited if n[0] == last_node[0]]\n",
    "    \n",
    "    # Obtener los nodos no visitados en la misma columna que 'last_node'.\n",
    "    nodes_in_column = [n for n in not_visited if n[1] == last_node[1]]\n",
    "    \n",
    "    # Si 'loop' tiene menos de dos nodos, \n",
    "    # retornar todos los nodos no visitados en la misma fila y columna que 'last_node'.\n",
    "    if len(loop) < 2:\n",
    "        return nodes_in_row + nodes_in_column\n",
    "    else:\n",
    "        # Si 'loop' tiene dos o más nodos, determinar si el último movimiento fue en fila.\n",
    "        prev_node = loop[-2]\n",
    "        row_move = prev_node[0] == last_node[0]\n",
    "        \n",
    "        # Si el último movimiento fue en fila, retornar los nodos en la columna.\n",
    "        # Si el último movimiento fue en columna, retornar los nodos en la fila.\n",
    "        if row_move:\n",
    "            return nodes_in_column\n",
    "        return nodes_in_row\n"
   ]
  },
  {
   "cell_type": "code",
   "execution_count": 63,
   "metadata": {},
   "outputs": [],
   "source": [
    "def get_loop(bv_positions, ev_position):\n",
    "    # Definimos una función interna 'inner', que será una función recursiva.\n",
    "    def inner(loop):\n",
    "        # Si 'loop' tiene más de tres nodos, comprobamos si puede ser cerrado.\n",
    "        # Un 'loop' puede ser cerrado si solo hay un nodo posible para visitar a continuación, \n",
    "        # que será 'ev_position'.\n",
    "        if len(loop) > 3:\n",
    "            can_be_closed = len(get_possible_next_nodes(loop, [ev_position])) == 1\n",
    "            if can_be_closed: \n",
    "                return loop  # Si el 'loop' puede ser cerrado, lo retornamos.\n",
    "        \n",
    "        # Obtenemos los nodos no visitados quitando los nodos ya presentes en 'loop' de 'bv_positions'.\n",
    "        not_visited = list(set(bv_positions) - set(loop))\n",
    "        \n",
    "        # Obtenemos los posibles siguientes nodos usando la función 'get_possible_next_nodes'.\n",
    "        possible_next_nodes = get_possible_next_nodes(loop, not_visited)\n",
    "        \n",
    "        # Iteramos sobre cada nodo posible y llamamos recursivamente a 'inner' con el nuevo 'loop'.\n",
    "        for next_node in possible_next_nodes:\n",
    "            new_loop = inner(loop + [next_node])  # Añadimos el nuevo nodo a 'loop' y llamamos a 'inner' de nuevo.\n",
    "            if new_loop: \n",
    "                return new_loop  # Si conseguimos un nuevo 'loop', lo retornamos.\n",
    "    \n",
    "    # Iniciamos la función interna 'inner' con 'ev_position' como el primer nodo en 'loop'.\n",
    "    return inner([ev_position])\n",
    "\n",
    "    \n"
   ]
  },
  {
   "cell_type": "code",
   "execution_count": 64,
   "metadata": {},
   "outputs": [],
   "source": [
    "def loop_pivoting(bfs, loop):\n",
    "    # Dividimos el 'loop' en dos listas: 'even_cells' y 'odd_cells', donde\n",
    "    # 'even_cells' contiene las celdas en las posiciones pares del 'loop' y\n",
    "    # 'odd_cells' contiene las celdas en las posiciones impares del 'loop'.\n",
    "    even_cells = loop[0::2]\n",
    "    odd_cells = loop[1::2]\n",
    "    \n",
    "    # Definimos una función lambda 'get_bv', que obtiene el valor de una celda en 'bfs'\n",
    "    # dado su posición.\n",
    "    get_bv = lambda pos: next(v for p, v in bfs if p == pos)\n",
    "    \n",
    "    # Encontramos la posición de salida ordenando 'odd_cells' por su valor en 'bfs' y\n",
    "    # tomando el primero. Luego obtenemos el valor en esa posición.\n",
    "    leaving_position = sorted(odd_cells, key=get_bv)[0]\n",
    "    leaving_value = get_bv(leaving_position)\n",
    "    \n",
    "    # Inicializamos la nueva lista 'new_bfs'.\n",
    "    new_bfs = []\n",
    "    \n",
    "    # Iteramos sobre las celdas en 'bfs' excluyendo la posición de salida y añadiendo\n",
    "    # la primera celda de 'loop' con valor 0.\n",
    "    for p, v in [bv for bv in bfs if bv[0] != leaving_position] + [(loop[0], 0)]:\n",
    "        # Si la posición 'p' está en 'even_cells', incrementamos su valor por 'leaving_value'.\n",
    "        if p in even_cells:\n",
    "            v += leaving_value\n",
    "        # Si la posición 'p' está en 'odd_cells', decrementamos su valor por 'leaving_value'.\n",
    "        elif p in odd_cells:\n",
    "            v -= leaving_value\n",
    "        \n",
    "        # Añadimos la posición y el nuevo valor a 'new_bfs'.\n",
    "        new_bfs.append((p, v))\n",
    "    \n",
    "    # Devolvemos 'new_bfs', que contiene las nuevas celdas básicas después del pivoteo.\n",
    "    return new_bfs\n"
   ]
  },
  {
   "cell_type": "code",
   "execution_count": 65,
   "metadata": {},
   "outputs": [],
   "source": [
    "def transportation_simplex_method(supply, demand, costs, penalties=None):\n",
    "    # Se balancea el problema de transporte para que la oferta y la demanda total sean iguales.\n",
    "    balanced_supply, balanced_demand, balanced_costs = get_balanced_tp(\n",
    "        supply, demand, costs, penalties\n",
    "    )\n",
    "    \n",
    "    # Función interna recursiva que será usada para realizar las iteraciones del método simplex.\n",
    "    def inner(bfs):\n",
    "        # Calcula los valores de 'us' y 'vs' usando las variables básicas y los costos balanceados.\n",
    "        us, vs = get_us_and_vs(bfs, balanced_costs)\n",
    "        \n",
    "        # Calcula los valores de 'ws' utilizando las variables básicas, los costos balanceados, 'us' y 'vs'.\n",
    "        ws = get_ws(bfs, balanced_costs, us, vs)\n",
    "        \n",
    "        # Si la solución puede ser mejorada, se encuentra la posición de la variable entrante,\n",
    "        # se construye el bucle y se realiza el pivoteo.\n",
    "        if can_be_improved(ws):\n",
    "            ev_position = get_entering_variable_position(ws)\n",
    "            loop = get_loop([p for p, v in bfs], ev_position)\n",
    "            return inner(loop_pivoting(bfs, loop))\n",
    "        \n",
    "        # Si la solución no puede ser mejorada, se retorna las variables básicas.\n",
    "        return bfs\n",
    "    \n",
    "    # Se inicia el método con una solución inicial obtenida por el método de la esquina noroeste.\n",
    "    basic_variables = inner(north_west_corner(balanced_supply, balanced_demand))\n",
    "    \n",
    "    # Se inicializa la matriz de solución con ceros y se llenan las celdas correspondientes con los valores\n",
    "    # de las variables básicas.\n",
    "    solution = np.zeros((len(costs), len(costs[0])))\n",
    "    for (i, j), v in basic_variables:\n",
    "        solution[i][j] = v\n",
    "    \n",
    "    # Se retorna la matriz de solución.\n",
    "    return solution\n"
   ]
  },
  {
   "cell_type": "code",
   "execution_count": 44,
   "metadata": {},
   "outputs": [],
   "source": [
    "def get_total_cost(costs, solution):\n",
    "    # Inicializamos la variable 'total_cost' a 0. Esta variable almacenará el costo total calculado.\n",
    "    total_cost = 0\n",
    "    \n",
    "    # Iteramos sobre cada fila y cada elemento de la fila en la matriz de costos.\n",
    "    for i, row in enumerate(costs):\n",
    "        for j, cost in enumerate(row):\n",
    "            # Para cada celda en la matriz de costos, multiplicamos el costo por el valor correspondiente\n",
    "            # en la matriz de solución y lo añadimos al 'total_cost'.\n",
    "            total_cost += cost * solution[i][j]\n",
    "    \n",
    "    # Finalmente, retornamos el valor de 'total_cost' calculado.\n",
    "    return total_cost\n"
   ]
  },
  {
   "cell_type": "code",
   "execution_count": 66,
   "metadata": {},
   "outputs": [
    {
     "name": "stdout",
     "output_type": "stream",
     "text": [
      "[[30.  0.  0.  0.]\n",
      " [ 0.  0. 30. 40.]\n",
      " [10. 30. 10.  0.]]\n",
      "total cost:  680.0\n"
     ]
    }
   ],
   "source": [
    "costs = [\n",
    "    [ 2, 2, 2, 1],\n",
    "    [10, 8, 5, 4],\n",
    "    [ 7, 6, 6, 8]\n",
    "]\n",
    "supply = [30, 70, 50]\n",
    "demand = [40, 30, 40, 40]\n",
    "solution = transportation_simplex_method(supply, demand, costs)\n",
    "print(solution)\n",
    "print('total cost: ', get_total_cost(costs, solution))"
   ]
  }
 ],
 "metadata": {
  "kernelspec": {
   "display_name": "Python 3",
   "language": "python",
   "name": "python3"
  },
  "language_info": {
   "codemirror_mode": {
    "name": "ipython",
    "version": 3
   },
   "file_extension": ".py",
   "mimetype": "text/x-python",
   "name": "python",
   "nbconvert_exporter": "python",
   "pygments_lexer": "ipython3",
   "version": "3.11.5"
  },
  "widgets": {
   "application/vnd.jupyter.widget-state+json": {
    "state": {},
    "version_major": 2,
    "version_minor": 0
   }
  }
 },
 "nbformat": 4,
 "nbformat_minor": 4
}