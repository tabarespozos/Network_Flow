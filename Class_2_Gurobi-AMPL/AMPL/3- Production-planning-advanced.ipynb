{
    "cells": [
        {
            "cell_type": "markdown",
            "metadata": {
                "id": "AVkGJGu-Ob6L",
                "tags": []
            },
            "source": [
                "# A Data-Driven AMPL Model\n",
                "\n",
                "In this notebook, we'll revisit the production planning example. However, this time we'll demonstrate how Python's data structures combine with AMPL's ability to separate model and data, to create an optimization model that scales with the size of the data tables. This enables the model to adjust to new products, varying prices, or changing demand. We refer to this as \"data-driven\" modeling.\n",
                "\n",
                "This notebook introduces two new AMPL model components that describe the data in a general way:\n",
                "\n",
                "* Sets\n",
                "* Parameters\n",
                "\n",
                "These components enable the model to specify variables, constraints, and summations that are *indexed* over sets. The combination of sets and indices is essential to building scalable and maintainable models for more complex applications.\n",
                "\n",
                "We will begin this analysis by examining the production planning data sets to identify the underlying problem structure. Then we will reformulate the mathematical model in a more general way that is valid for any data scenario. Finally we show how the same formulation carries over naturally into AMPL, providing a clear, data-driven formulation of the production planning application."
            ]
        },
        {
            "cell_type": "markdown",
            "metadata": {
                "id": "6w-u0Bd3ctc9",
                "tags": []
            },
            "source": [
                "## Data representations\n",
                "\n",
                "We begin by revisiting the data tables and mathematical model developed for the basic production planning problem presented in the previous notebook. The original data values were given as follows:\n",
                "\n",
                "| Product | Material <br> required | Labor A <br> required | Labor B <br> required | Market <br> Demand | Price |\n",
                "| :-: | :-: | :-: | :-: | :-: | :-: |\n",
                "| U | 10 g | 1 hr | 2 hr | $\\leq$ 40 units | \\$270 |\n",
                "| V |  9 g | 1 hr | 1 hr | unlimited | \\$210 |\n",
                "\n",
                "| Resource | Amount <br> Available | Cost |\n",
                "| :-: | :-: | :-: |\n",
                "| M | unlimited | \\$10 / g |\n",
                "| A | 80 hours | \\$50 / hour |\n",
                "| B | 100 hours | \\$40 / hour |\n",
                "\n",
                "Two distinct *sets* of objects are evident from these tables. The first is the set of products, comprising $U$ and $V$. The second is the set of resources used to produce those products, comprising raw materials and two labor types, which we have abbreviated as $M$, $A$, and $B$.\n",
                "\n",
                "Having identified these sets, the data for this application be factored into three simple tables. The first two tables list attributes of the products and attributes of the resources. The third table summarizes the processes used to create the products from the resources, which requires providing a value for each combination of product and resource:\n",
                "\n",
                "**Table: Products**\n",
                "\n",
                "| Product | Demand | Price |\n",
                "| :-: | :-: | :-: |\n",
                "| U |  $\\leq$ 40 units | \\$270 |\n",
                "| V |  unlimited | \\$210 |\n",
                "\n",
                "**Table: Resources**\n",
                "\n",
                "| Resource | Available | Cost |\n",
                "| :-: | :-: | :-: |\n",
                "| M | ? | \\$10 / g |\n",
                "| A | 80 hours | \\$50 / hour |\n",
                "| B | 100 hours | \\$40 / hour |\n",
                "\n",
                "**Table: Processes**\n",
                "\n",
                "| Product | M | A | B\n",
                "| :-: | :-: | :-: | :-: |\n",
                "| U | 10 g | 1 hr | 2 hr |\n",
                "| V |  9 g | 1 hr | 1 hr |\n"
            ]
        },
        {
            "cell_type": "markdown",
            "metadata": {
                "id": "Lrx4Bpo2ctc-"
            },
            "source": [
                "How does a Python-based AMPL application work with this data? We can think of the data as being handled in three steps:\n",
                "\n",
                "1. Import the data into Python, in whatever form is convenient for the application.\n",
                "\n",
                "1. Convert the data to the forms required by the optimization model.\n",
                "\n",
                "1. Send the data to AMPL.\n",
                "\n",
                "For our example, we implement step 1 by use of Python *nested dictionaries* that closely resemble the above three tables:\n",
                "\n",
                "- In the `products` data structure, the product abbreviations serve as keys for outermost dictionary, and the product-related attribute names (`demand` and `price`) as keys for the inner dictionaries.\n",
                "\n",
                "- In the `resources` data structure, the resource abbreviations serve as keys for outermost dictionary, and the resource-related attribute names (`available` and `cost`) as keys for the inner dictionaries.\n",
                "\n",
                "- In the `processes` data structure, there is a value corresponding to each combination of a product and a resource; the product abbreviations serve as keys for outermost dictionary, and resource abbreviations as keys for the inner dictionaries.\n",
                "\n",
                "Where demand or availability is \"unlimited\", we use an expression that Python interprets as an infinite value.\n",
                "\n",
                "You will see a variety of data representation in this book, chosen in each case to be most efficient and convenient for the application at hand. Some will use Python packages, particularly *numpy* and *pandas*, that are designed for large-scale data handling."
            ]
        },
        {
            "cell_type": "code",
            "execution_count": 2,
            "metadata": {
                "id": "J49LJ253ctc_"
            },
            "outputs": [],
            "source": [
                "Inf = float(\"inf\")\n",
                "\n",
                "products = {\n",
                "    \"U\": {\"demand\": 40, \"price\": 270},\n",
                "    \"V\": {\"demand\": Inf, \"price\": 210},\n",
                "}\n",
                "\n",
                "resources = {\n",
                "    \"M\": {\"available\": Inf, \"cost\": 10},\n",
                "    \"A\": {\"available\": 80, \"cost\": 50},\n",
                "    \"B\": {\"available\": 100, \"cost\": 40},\n",
                "}\n",
                "\n",
                "processes = {\n",
                "    \"U\": {\"M\": 10, \"A\": 2, \"B\": 1},\n",
                "    \"V\": {\"M\": 9, \"A\": 1, \"B\": 1},\n",
                "}"
            ]
        },
        {
            "cell_type": "markdown",
            "metadata": {
                "id": "JrmOWyi0ctdE",
                "jp-MarkdownHeadingCollapsed": true,
                "tags": []
            },
            "source": [
                "## Modelo matemático\n",
                "\n",
                "Una vez que los datos del problema se reorganizan en tablas como estas, la estructura del problema de planificación de la producción se vuelve evidente. Junto con los dos conjuntos, tenemos una variedad de *parámetros* simbólicos que especifican los costos, límites y procesos del modelo de manera general. En comparación con el cuaderno anterior, estas abstracciones nos permiten crear modelos matemáticos que pueden adaptarse y escalar con los datos suministrados.\n",
                "\n",
                "Sean $\\cal{P}$ y $\\cal{R}$ el conjunto de productos y recursos, respectivamente, y sean $p$ y $r$ elementos representativos de esos conjuntos. Usamos variables de decisión indexadas $x_r$ para denotar la cantidad de recurso $r$ que se consume en la producción, y $y_p$ para denotar la cantidad de producto $p$ producido.\n",
                "\n",
                "El modelo especifica límites inferiores y superiores para los valores de las variables. Representamos estos límites como:\n",
                "\n",
                "$$\n",
                "\\begin{aligned}\n",
                "    0 \\leq x_r \\leq b^x_r & & \\forall r\\in\\cal{R} \\\\\n",
                "    0 \\leq y_p \\leq b^y_p & & \\forall p\\in\\cal{P} \\\\\n",
                "\\end{aligned}\n",
                "$$\n",
                "\n",
                "donde los límites superiores, \\(b^x_r\\) y \\(b^y_p\\), son datos tomados de las tablas de atributos.\n",
                "\n",
                "La función objetivo es dada por: \n",
                "\n",
                "$$\n",
                "\\begin{aligned}\n",
                "    \\text{profit} & = \\text{revenue} - \\text{cost} \\\\\n",
                "\\end{aligned}\n",
                "$$\n",
                "\n",
                "pero ahora las expresiones para ingresos y costos se expresan de manera más general como sumas sobre los conjuntos de productos y recursos,\n",
                "\n",
                "$$\n",
                "\\begin{aligned}\n",
                "    \\text{revenue} & = \\sum_{p\\in\\cal{P}} c^y_p y_p  \\\\\n",
                "    \\text{cost} & = \\sum_{r\\in\\cal{R}} c^x_r x_r \\\\\n",
                "\\end{aligned}\n",
                "$$\n",
                "\n",
                "donde los parámetros \\(c^y_p\\) y \\(c^x_r\\) representan los precios de venta de los productos y los costos de los recursos, respectivamente. Los límites en los recursos disponibles se pueden escribir como\n",
                "\n",
                "$$\n",
                "\\begin{aligned}\n",
                "    \\sum_{p\\in\\cal{P}} a_{rp} y_p & \\leq x_r & \\forall r\\in\\cal{R}\n",
                "\\end{aligned}\n",
                "$$\n",
                "\n",
                "donde \\(a_{rp}\\) es la cantidad de recurso \\(r\\) necesaria para producir 1 unidad del producto \\(p\\). Juntando estas piezas, tenemos el siguiente modelo simbólico para el problema de planificación de la producción.\n",
                "\n",
                "$$\n",
                "\\begin{align}\n",
                "{\\rm maximize} \\quad & \\sum_{p\\in\\cal{P}} c^y_p y_p - \\sum_{r\\in\\cal{R}} c^x_r x_r \\\\\n",
                "\\text{subject to} \\quad & \\sum_{p\\in\\cal{P}} a_{rp} y_p  \\leq x_r & \\forall r\\in\\cal{R} \\nonumber \\\\\n",
                " &   0 \\leq x_r \\leq b^x_r & \\forall r\\in\\cal{R} \\nonumber  \\\\\n",
                " &   0 \\leq y_p \\leq b^y_p & \\forall p\\in\\cal{P} \\nonumber  \\\\\n",
                "\\end{align}\n",
                "$$\n",
                "\n",
                "Cuando se formula de esta manera, el modelo puede aplicarse a cualquier problema con la misma estructura, independientemente del número de productos o recursos. Esta flexibilidad es posible gracias al uso de conjuntos para describir los productos y recursos de una instancia particular del problema, índices como \\(p\\) y \\(r\\) para referirse a elementos de esos conjuntos, y tablas de datos que contienen los valores de los parámetros relevantes.\n",
                "\n",
                "Generalizar los modelos matemáticos de esta manera es una característica de todas las aplicaciones de optimización a gran escala. A continuación, veremos cómo este tipo de generalización se traslada de forma natural a la formulación y resolución del modelo en AMPL."
            ]
        },
        {
            "cell_type": "markdown",
            "metadata": {
                "id": "Z9izg44dctdF"
            },
            "source": [
                "## El modelo de producción en AMPL\n",
                "Como antes, comenzamos la construcción de un modelo en AMPL importando los componentes necesarios en el entorno de AMPL."
            ]
        },
        {
            "cell_type": "code",
            "execution_count": 3,
            "metadata": {
                "colab": {
                    "base_uri": "https://localhost:8080/"
                },
                "id": "Uqz3b8xuctdF",
                "outputId": "c26a8c8a-d5b8-4086-93d2-5b4059686c12"
            },
            "outputs": [
                {
                    "name": "stdout",
                    "output_type": "stream",
                    "text": [
                        "Licensed to Bundle #6719.7170 expiring 20241231: Network Flow and Transportation Analytics, Prof. Alejandra Tabares, Universidad de los Andes - Colombia.\n"
                    ]
                }
            ],
            "source": [
                "from amplpy import AMPL, ampl_notebook\n",
                "\n",
                "ampl = ampl_notebook(\n",
                "    modules=[\"highs\"],  # modules to install\n",
                "    license_uuid=\"cf36ebc4-be04-47f5-9536-c60cc47c7341\",  # license to use\n",
                ")  # instantiate AMPL object and register magics"
            ]
        },
        {
            "cell_type": "markdown",
            "metadata": {
                "id": "CYEdqS6sctdG"
            },
            "source": [
                "A continuación, utilizamos las declaraciones `set` de AMPL para definir los conjuntos de productos y recursos. Es importante notar que, en este punto, solo estamos informando a AMPL sobre los dos conjuntos que se utilizarán en el modelo. Los miembros de estos conjuntos se enviarán desde Python a AMPL más adelante, como parte de los datos del problema.\n",
                "\n",
                "En las formulaciones matemáticas, es habitual mantener los nombres de todos los componentes cortos. Pero al escribir el modelo en AMPL, somos libres de usar nombres más largos y significativos que hagan que las declaraciones del modelo sean más fáciles de leer. Así, por ejemplo, aquí usamos `PRODUCTS` y `RESOURCES` como los nombres de los conjuntos en AMPL que se llaman $\\cal P$ y $\\cal R$ en el modelo matemático."
            ]
        },
        {
            "cell_type": "code",
            "execution_count": 4,
            "metadata": {
                "id": "_DrA1iQ6ctdG"
            },
            "outputs": [],
            "source": [
                "%%ampl_eval\n",
                "# define sets\n",
                "\n",
                "set PRODUCTS;\n",
                "set RESOURCES;"
            ]
        },
        {
            "cell_type": "markdown",
            "metadata": {
                "id": "Bo6264AJctdH"
            },
            "source": [
                "El siguiente paso es introducir los parámetros que se usarán como datos en la función objetivo y las restricciones.\n",
                "\n",
                "Una declaración que define un parámetro en AMPL comienza con la palabra clave `param` y un nombre único. Luego, entre llaves `{` y `}` especifica los conjuntos de índices para el parámetro. Por ejemplo:\n",
                "\n",
                "- `param demand {PRODUCTS} >= 0;` indica que hay un valor de \"demanda de producto\" para cada miembro del conjunto `PRODUCTS`.\n",
                "\n",
                "- `param need {RESOURCES,PRODUCTS} >= 0;` indica que hay un valor de \"recurso necesario\" para cada combinación de un recurso y un producto.\n",
                "\n",
                "Al final de cada declaración `param`, especificamos que los valores del parámetro deben ser no negativos o positivos, según corresponda. Estas especificaciones se usarán más adelante para verificar que los valores de los datos reales sean apropiados para el problema.\n",
                "\n",
                "Hay 5 declaraciones `param` diferentes en total, correspondientes a los 5 tipos diferentes de datos en las tablas y los 5 parámetros simbólicos $b_p^y$, $c_p^y$, $b_r^x$, $c_r^x$, y $a_{rp}$ en el modelo matemático."
            ]
        },
        {
            "cell_type": "code",
            "execution_count": 5,
            "metadata": {
                "id": "2JrQACvVctdH"
            },
            "outputs": [],
            "source": [
                "%%ampl_eval\n",
                "# define parameters\n",
                "\n",
                "param demand {PRODUCTS} >= 0;\n",
                "param price {PRODUCTS} > 0;\n",
                "\n",
                "param available {RESOURCES} >= 0;\n",
                "param cost {RESOURCES} > 0;\n",
                "\n",
                "param need {RESOURCES,PRODUCTS} >= 0;"
            ]
        },
        {
            "cell_type": "markdown",
            "metadata": {
                "id": "BWJ_ElJFctdH"
            },
            "source": [
                "AMPL define las variables de decisión de manera muy similar a los parámetros, pero utilizando `var` como palabra clave para iniciar la declaración. Nombramos las variables `Use` para el uso de recursos y `Sell` para las ventas de productos.\n",
                "\n",
                "Para expresar los límites de las variables de la misma manera que la formulación matemática, se necesita una forma más general de la declaración de AMPL. En el caso de las variables `Use`, por ejemplo:\n",
                "\n",
                "* La expresión de indexación se escribe `{r in RESOURCES}` para indicar que hay una variable para cada miembro del conjunto de recursos, y también para asociar el *índice* `r` con los miembros del conjunto para el propósito de esta declaración. Esto es el equivalente en AMPL de $\\forall r\\in\\cal{R}$ en la declaración matemática.\n",
                "\n",
                "* El límite superior se escribe `<= available[r]` para indicar que para cada miembro `r` del conjunto de recursos, el límite superior de la variable está dado por el valor correspondiente de la tabla de disponibilidad. Esto es el equivalente en AMPL de $\\leq b^x_r$ en la declaración matemática.\n",
                "\n",
                "Una expresión entre corchetes `[...]` se llama un *subíndice* en AMPL porque juega el mismo papel que un subíndice matemático como $r$ en $\\leq b^x_r$. En cualquier lugar donde el modelo se refiere a valores particulares de un parámetro o variable indexados, verás expresiones de subíndice. Por ejemplo,\n",
                "\n",
                "* `need[r,p]` será la cantidad de recurso `r` necesaria para producir una unidad del producto `p`.\n",
                "\n",
                "* `Use[r]` será la cantidad total de recurso `r` utilizada."
            ]
        },
        {
            "cell_type": "code",
            "execution_count": 6,
            "metadata": {
                "id": "Ee1AbvSBctdH"
            },
            "outputs": [],
            "source": [
                "%%ampl_eval\n",
                "# define variables\n",
                "\n",
                "var Use {r in RESOURCES} >= 0, <= available[r];\n",
                "var Sell {p in PRODUCTS} >= 0, <= demand[p];"
            ]
        },
        {
            "cell_type": "markdown",
            "metadata": {
                "id": "B5oNLBh5ctdH"
            },
            "source": [
                "Al igual que en el cuaderno anterior, la declaración de AMPL para la función objetivo comienza con `maximize Profit`. Pero ahora, como en la formulación matemática, AMPL utiliza expresiones de sumación general:\n",
                "\n",
                "* `sum {p in PRODUCTS} price[p] * Sell[p]` es la suma, sobre todos los productos, del precio por unidad multiplicado por el número vendido. Esto corresponde a $\\sum_{p\\in\\cal{P}} c^y_p y_p$ en la formulación matemática.\n",
                "\n",
                "* `sum {r in RESOURCES} cost[r] * Use[r]` es la suma, sobre todos los recursos, del costo por unidad multiplicado por la cantidad utilizada. Esto corresponde a $\\sum_{r\\in\\cal{R}} c^x_r x_r$ en la formulación matemática.\n",
                "\n",
                "La expresión completa para la función objetivo es simplemente la primera de estas expresiones menos la segunda."
            ]
        },
        {
            "cell_type": "code",
            "execution_count": 7,
            "metadata": {
                "id": "jYyLpse3ctdI"
            },
            "outputs": [],
            "source": [
                "%%ampl_eval\n",
                "# define objective function\n",
                "\n",
                "maximize Profit:\n",
                "   sum {p in PRODUCTS} price[p] * Sell[p] -\n",
                "   sum {r in RESOURCES} cost[r] * Use[r];"
            ]
        },
        {
            "cell_type": "markdown",
            "metadata": {
                "id": "QOD6rVX_ctdI"
            },
            "source": [
                "El modelo de AMPL anterior tenía 3 restricciones, cada una definida por una declaración `subject to`. Pero la formulación matemática basada en datos reconoce que solo hay un tipo diferente de restricción: los recursos necesarios deben ser menores o iguales a los recursos utilizados, repetida 3 veces, una vez para cada recurso. La versión de AMPL combina expresiones que ya han aparecido en partes anteriores del modelo:\n",
                "\n",
                "* `subject to ResourceLimit {r in RESOURCES}` indica que el modelo tendrá una restricción correspondiente a cada miembro `r` del conjunto de recursos.\n",
                "\n",
                "* `sum {p in PRODUCTS} need[r,p] * Sell[p] <= Use[r]` indica que el total del recurso `r` necesario, sumado sobre todos los productos vendidos, debe ser `<=` el total del recurso `r` utilizado. Esto corresponde a $\\sum_{p\\in\\cal{P}} a_{rp} y_p \\leq x_r$ en la formulación matemática."
            ]
        },
        {
            "cell_type": "code",
            "execution_count": 8,
            "metadata": {
                "id": "svwpLdJHctdI"
            },
            "outputs": [],
            "source": [
                "%%ampl_eval\n",
                "# create indexed constraint\n",
                "\n",
                "subject to ResourceLimit {r in RESOURCES}:\n",
                "   sum {p in PRODUCTS} need[r,p] * Sell[p] <= Use[r];"
            ]
        },
        {
            "cell_type": "markdown",
            "metadata": {
                "id": "rbrilQKuoA49"
            },
            "source": [
                "## Los datos de producción en AMPL\n",
                "\n",
                "Ahora que el modelo de AMPL está definido, podemos llevar a cabo el paso 2 de manejo de datos, que es convertir los datos a las formas que el modelo requiere:\n",
                "\n",
                "- Para los dos conjuntos, listas de Python de los miembros del conjunto.\n",
                "- Para los dos parámetros indexados sobre productos, diccionarios de Python cuyas claves son los nombres de los productos.\n",
                "- Para los dos parámetros indexados sobre recursos, diccionarios de Python cuyas claves son los nombres de los recursos.\n",
                "- Para el parámetro indexado sobre pares recurso-producto, un diccionario de Python cuyas claves son tuplas que consisten en un recurso y un producto.\n",
                "\n",
                "Utilizando las poderosas formas de expresión de Python, todas estas listas y diccionarios se extraen fácilmente de los diccionarios anidados que nuestra aplicación configuró en el paso 1. Para evitar tener demasiados nombres diferentes, asignamos cada lista y diccionario a una variable de programa de Python que tiene el mismo nombre que el conjunto o parámetro correspondiente en AMPL:"
            ]
        },
        {
            "cell_type": "code",
            "execution_count": 9,
            "metadata": {
                "colab": {
                    "base_uri": "https://localhost:8080/"
                },
                "id": "-FBbrXX8tVLC",
                "outputId": "9239ed6d-32c9-4366-9c55-ff0e4fdf2392"
            },
            "outputs": [
                {
                    "name": "stdout",
                    "output_type": "stream",
                    "text": [
                        "dict_keys(['U', 'V']) dict_keys(['M', 'A', 'B'])\n",
                        "{'U': 40, 'V': inf} {'U': 270, 'V': 210}\n",
                        "{'M': inf, 'A': 80, 'B': 100} {'M': 10, 'A': 50, 'B': 40}\n",
                        "{('M', 'U'): 10, ('A', 'U'): 2, ('B', 'U'): 1, ('M', 'V'): 9, ('A', 'V'): 1, ('B', 'V'): 1}\n"
                    ]
                }
            ],
            "source": [
                "# set data\n",
                "PRODUCTS = products.keys()\n",
                "RESOURCES = resources.keys()\n",
                "\n",
                "# product data\n",
                "demand = {k: v[\"demand\"] for k, v in products.items()}\n",
                "price = {k: v[\"price\"] for k, v in products.items()}\n",
                "\n",
                "# resource data\n",
                "available = {k: v[\"available\"] for k, v in resources.items()}\n",
                "cost = {k: v[\"cost\"] for k, v in resources.items()}\n",
                "\n",
                "need = {(r, p): value for p in processes.keys() for r, value in processes[p].items()}\n",
                "\n",
                "print(PRODUCTS, RESOURCES)\n",
                "print(demand, price)\n",
                "print(available, cost)\n",
                "print(need)"
            ]
        },
        {
            "cell_type": "markdown",
            "metadata": {
                "id": "74WdA_kSctdI"
            },
            "source": [
                "## Resolviendo el problema de producción\n",
                "\n",
                "Ahora los datos de Python pueden ser enviados a AMPL, y AMPL puede invocar un solver. Para este modelo simple, podemos hacer que los datos de Python correspondan exactamente a los datos de AMPL, por lo que las sentencias para enviar los datos a AMPL son particularmente fáciles de escribir.\n",
                "\n",
                "Las sentencias para seleccionar un solver e iniciar el proceso del solver son las mismas que usamos con el ejemplo básico de planificación de la producción. Cuando el solver termina, muestra algunas líneas de salida para confirmar que se ha encontrado una solución."
            ]
        },
        {
            "cell_type": "code",
            "execution_count": 10,
            "metadata": {
                "colab": {
                    "base_uri": "https://localhost:8080/"
                },
                "id": "SvByD4BOctdJ",
                "outputId": "2a178685-6a45-4846-c063-1abda763f539"
            },
            "outputs": [
                {
                    "name": "stdout",
                    "output_type": "stream",
                    "text": [
                        "HiGHS 1.7.0:HiGHS 1.7.0: optimal solution; objective 2400\n",
                        "2 simplex iterations\n",
                        "0 barrier iterations\n"
                    ]
                }
            ],
            "source": [
                "# load set data\n",
                "ampl.set[\"PRODUCTS\"] = PRODUCTS\n",
                "ampl.set[\"RESOURCES\"] = RESOURCES\n",
                "\n",
                "# load parameter data\n",
                "ampl.param[\"price\"] = price\n",
                "ampl.param[\"demand\"] = demand\n",
                "ampl.param[\"cost\"] = cost\n",
                "ampl.param[\"available\"] = available\n",
                "ampl.param[\"need\"] = need\n",
                "\n",
                "# set solver and solve\n",
                "ampl.option[\"solver\"] = \"highs\"\n",
                "ampl.solve()"
            ]
        },
        {
            "cell_type": "markdown",
            "metadata": {
                "id": "6_TwbPmvgQiv"
            },
            "source": [
                "## Reportando los resultados\n",
                "\n",
                "Resta recuperar la solución de AMPL, después de lo cual se pueden utilizar las amplias características y el ecosistema de Python para presentar los resultados de la manera deseada. Para este primer ejemplo, utilizamos una de las características más simples de Python, la declaración `print`.\n",
                "\n",
                "Una entidad de AMPL se referencia en el código Python a través de su nombre en el modelo de AMPL. Por ejemplo, la función objetivo `Profit` es `ampl.obj['Profit']`, y la colección de variables `Sell` es `ampl.var['Sell']`.\n",
                "\n",
                "Para una entidad que no está indexada, el método `value()` devuelve el valor asociado. Así, la primera declaración `print` se refiere a `ampl.obj['Profit'].value()`.\n",
                "\n",
                "Para una entidad indexada, usamos el método `to_dict()` para devolver los valores en un diccionario de Python, con los miembros del conjunto como claves. Luego, un bucle `for` puede usar el método `items()` para iterar sobre el diccionario y imprimir una línea para cada miembro."
            ]
        },
        {
            "cell_type": "code",
            "execution_count": 11,
            "metadata": {
                "colab": {
                    "base_uri": "https://localhost:8080/"
                },
                "id": "TDe9WUufgZ9I",
                "outputId": "18d296e6-6bdb-48e2-93d4-e03ab08da1b5"
            },
            "outputs": [
                {
                    "name": "stdout",
                    "output_type": "stream",
                    "text": [
                        "Profit = 2400.0\n",
                        "\n",
                        "Production Report\n",
                        " U produced = 0\n",
                        " V produced = 80\n",
                        "\n",
                        "Resource Report\n",
                        " A consumed = 80\n",
                        " B consumed = 80\n",
                        " M consumed = 720\n"
                    ]
                }
            ],
            "source": [
                "# create a solution report\n",
                "print(f\"Profit = {ampl.obj['Profit'].value()}\")\n",
                "\n",
                "print(\"\\nProduction Report\")\n",
                "for product, Sell in ampl.var[\"Sell\"].to_dict().items():\n",
                "    print(f\" {product} produced = {Sell}\")\n",
                "\n",
                "print(\"\\nResource Report\")\n",
                "for resource, Use in ampl.var[\"Use\"].to_dict().items():\n",
                "    print(f\" {resource} consumed = {Use}\")"
            ]
        },
        {
            "cell_type": "markdown",
            "metadata": {
                "id": "TniGUMcLctdJ"
            },
            "source": [
                "## Para expertos en Python: Creación de subclases de `AMPL`\n",
                "\n",
                "Algunos lectores de estos cuadernos pueden ser desarrolladores de Python más experimentados que deseen aplicar AMPL en aplicaciones más especializadas y basadas en datos. La siguiente celda muestra cómo la clase AMPL puede ser extendida para crear clases de modelos especializadas. Aquí creamos una subclase llamada `ProductionModel` que acepta una representación particular de los datos del problema para producir un objeto de modelo de producción. El objeto del modelo de producción hereda todos los métodos asociados con cualquier modelo de AMPL, como `.display()` y `.solve()`, pero puede ser extendido con métodos adicionales."
            ]
        },
        {
            "cell_type": "code",
            "execution_count": 12,
            "metadata": {
                "colab": {
                    "base_uri": "https://localhost:8080/"
                },
                "id": "UwwMXq9tctdJ",
                "outputId": "4191746d-1642-413c-d5a5-5fa6830e343c"
            },
            "outputs": [
                {
                    "name": "stdout",
                    "output_type": "stream",
                    "text": [
                        "Writing production_planning.mod\n"
                    ]
                }
            ],
            "source": [
                "%%writefile production_planning.mod\n",
                "\n",
                "# define sets\n",
                "set PRODUCTS;\n",
                "set RESOURCES;\n",
                "\n",
                "# define parameters\n",
                "param demand {PRODUCTS} >= 0;\n",
                "param price {PRODUCTS} > 0;\n",
                "param available {RESOURCES} >= 0;\n",
                "param cost {RESOURCES} > 0;\n",
                "param need {RESOURCES,PRODUCTS} >= 0;\n",
                "\n",
                "# define variables\n",
                "var Use {r in RESOURCES} >= 0, <= available[r];\n",
                "var Sell {p in PRODUCTS} >= 0, <= demand[p];\n",
                "\n",
                "# define objective function\n",
                "maximize Profit:\n",
                "   sum {p in PRODUCTS} price[p] * Sell[p] -\n",
                "   sum {r in RESOURCES} cost[r] * Use[r];\n",
                "\n",
                "# create indexed constraint\n",
                "subject to ResourceLimit {r in RESOURCES}:\n",
                "   sum {p in PRODUCTS} need[r,p] * Sell[p] <= Use[r];"
            ]
        },
        {
            "cell_type": "code",
            "execution_count": 13,
            "metadata": {
                "colab": {
                    "base_uri": "https://localhost:8080/",
                    "height": 787
                },
                "id": "69sZb_YcctdK",
                "outputId": "55feda56-3283-4032-cc2e-4a67832c5975"
            },
            "outputs": [
                {
                    "data": {
                        "text/html": [
                            "<div>\n",
                            "<style scoped>\n",
                            "    .dataframe tbody tr th:only-of-type {\n",
                            "        vertical-align: middle;\n",
                            "    }\n",
                            "\n",
                            "    .dataframe tbody tr th {\n",
                            "        vertical-align: top;\n",
                            "    }\n",
                            "\n",
                            "    .dataframe thead th {\n",
                            "        text-align: right;\n",
                            "    }\n",
                            "</style>\n",
                            "<table border=\"1\" class=\"dataframe\">\n",
                            "  <thead>\n",
                            "    <tr style=\"text-align: right;\">\n",
                            "      <th></th>\n",
                            "      <th>demand</th>\n",
                            "      <th>price</th>\n",
                            "    </tr>\n",
                            "  </thead>\n",
                            "  <tbody>\n",
                            "    <tr>\n",
                            "      <th>U</th>\n",
                            "      <td>40.0</td>\n",
                            "      <td>270.0</td>\n",
                            "    </tr>\n",
                            "    <tr>\n",
                            "      <th>V</th>\n",
                            "      <td>inf</td>\n",
                            "      <td>210.0</td>\n",
                            "    </tr>\n",
                            "  </tbody>\n",
                            "</table>\n",
                            "</div>"
                        ],
                        "text/plain": [
                            "   demand  price\n",
                            "U    40.0  270.0\n",
                            "V     inf  210.0"
                        ]
                    },
                    "metadata": {},
                    "output_type": "display_data"
                },
                {
                    "data": {
                        "text/html": [
                            "<div>\n",
                            "<style scoped>\n",
                            "    .dataframe tbody tr th:only-of-type {\n",
                            "        vertical-align: middle;\n",
                            "    }\n",
                            "\n",
                            "    .dataframe tbody tr th {\n",
                            "        vertical-align: top;\n",
                            "    }\n",
                            "\n",
                            "    .dataframe thead th {\n",
                            "        text-align: right;\n",
                            "    }\n",
                            "</style>\n",
                            "<table border=\"1\" class=\"dataframe\">\n",
                            "  <thead>\n",
                            "    <tr style=\"text-align: right;\">\n",
                            "      <th></th>\n",
                            "      <th>available</th>\n",
                            "      <th>cost</th>\n",
                            "    </tr>\n",
                            "  </thead>\n",
                            "  <tbody>\n",
                            "    <tr>\n",
                            "      <th>M</th>\n",
                            "      <td>inf</td>\n",
                            "      <td>10.0</td>\n",
                            "    </tr>\n",
                            "    <tr>\n",
                            "      <th>A</th>\n",
                            "      <td>80.0</td>\n",
                            "      <td>50.0</td>\n",
                            "    </tr>\n",
                            "    <tr>\n",
                            "      <th>B</th>\n",
                            "      <td>100.0</td>\n",
                            "      <td>40.0</td>\n",
                            "    </tr>\n",
                            "  </tbody>\n",
                            "</table>\n",
                            "</div>"
                        ],
                        "text/plain": [
                            "   available  cost\n",
                            "M        inf  10.0\n",
                            "A       80.0  50.0\n",
                            "B      100.0  40.0"
                        ]
                    },
                    "metadata": {},
                    "output_type": "display_data"
                },
                {
                    "data": {
                        "text/html": [
                            "<div>\n",
                            "<style scoped>\n",
                            "    .dataframe tbody tr th:only-of-type {\n",
                            "        vertical-align: middle;\n",
                            "    }\n",
                            "\n",
                            "    .dataframe tbody tr th {\n",
                            "        vertical-align: top;\n",
                            "    }\n",
                            "\n",
                            "    .dataframe thead th {\n",
                            "        text-align: right;\n",
                            "    }\n",
                            "</style>\n",
                            "<table border=\"1\" class=\"dataframe\">\n",
                            "  <thead>\n",
                            "    <tr style=\"text-align: right;\">\n",
                            "      <th></th>\n",
                            "      <th>M</th>\n",
                            "      <th>A</th>\n",
                            "      <th>B</th>\n",
                            "    </tr>\n",
                            "  </thead>\n",
                            "  <tbody>\n",
                            "    <tr>\n",
                            "      <th>U</th>\n",
                            "      <td>10</td>\n",
                            "      <td>2</td>\n",
                            "      <td>1</td>\n",
                            "    </tr>\n",
                            "    <tr>\n",
                            "      <th>V</th>\n",
                            "      <td>9</td>\n",
                            "      <td>1</td>\n",
                            "      <td>1</td>\n",
                            "    </tr>\n",
                            "  </tbody>\n",
                            "</table>\n",
                            "</div>"
                        ],
                        "text/plain": [
                            "    M  A  B\n",
                            "U  10  2  1\n",
                            "V   9  1  1"
                        ]
                    },
                    "metadata": {},
                    "output_type": "display_data"
                },
                {
                    "name": "stdout",
                    "output_type": "stream",
                    "text": [
                        "HiGHS 1.7.0:HiGHS 1.7.0: optimal solution; objective 2400\n",
                        "2 simplex iterations\n",
                        "0 barrier iterations\n",
                        "Profit = 2400.0\n",
                        "\n",
                        "Production Report\n"
                    ]
                },
                {
                    "data": {
                        "text/html": [
                            "<div>\n",
                            "<style scoped>\n",
                            "    .dataframe tbody tr th:only-of-type {\n",
                            "        vertical-align: middle;\n",
                            "    }\n",
                            "\n",
                            "    .dataframe tbody tr th {\n",
                            "        vertical-align: top;\n",
                            "    }\n",
                            "\n",
                            "    .dataframe thead th {\n",
                            "        text-align: right;\n",
                            "    }\n",
                            "</style>\n",
                            "<table border=\"1\" class=\"dataframe\">\n",
                            "  <thead>\n",
                            "    <tr style=\"text-align: right;\">\n",
                            "      <th></th>\n",
                            "      <th>produced</th>\n",
                            "    </tr>\n",
                            "    <tr>\n",
                            "      <th>PRODUCTS</th>\n",
                            "      <th></th>\n",
                            "    </tr>\n",
                            "  </thead>\n",
                            "  <tbody>\n",
                            "    <tr>\n",
                            "      <th>U</th>\n",
                            "      <td>0</td>\n",
                            "    </tr>\n",
                            "    <tr>\n",
                            "      <th>V</th>\n",
                            "      <td>80</td>\n",
                            "    </tr>\n",
                            "  </tbody>\n",
                            "</table>\n",
                            "</div>"
                        ],
                        "text/plain": [
                            "          produced\n",
                            "PRODUCTS          \n",
                            "U                0\n",
                            "V               80"
                        ]
                    },
                    "metadata": {},
                    "output_type": "display_data"
                },
                {
                    "name": "stdout",
                    "output_type": "stream",
                    "text": [
                        "\n",
                        "Resource Report\n"
                    ]
                },
                {
                    "data": {
                        "text/html": [
                            "<div>\n",
                            "<style scoped>\n",
                            "    .dataframe tbody tr th:only-of-type {\n",
                            "        vertical-align: middle;\n",
                            "    }\n",
                            "\n",
                            "    .dataframe tbody tr th {\n",
                            "        vertical-align: top;\n",
                            "    }\n",
                            "\n",
                            "    .dataframe thead th {\n",
                            "        text-align: right;\n",
                            "    }\n",
                            "</style>\n",
                            "<table border=\"1\" class=\"dataframe\">\n",
                            "  <thead>\n",
                            "    <tr style=\"text-align: right;\">\n",
                            "      <th></th>\n",
                            "      <th>consumed</th>\n",
                            "    </tr>\n",
                            "    <tr>\n",
                            "      <th>RESOURCES</th>\n",
                            "      <th></th>\n",
                            "    </tr>\n",
                            "  </thead>\n",
                            "  <tbody>\n",
                            "    <tr>\n",
                            "      <th>A</th>\n",
                            "      <td>80</td>\n",
                            "    </tr>\n",
                            "    <tr>\n",
                            "      <th>B</th>\n",
                            "      <td>80</td>\n",
                            "    </tr>\n",
                            "    <tr>\n",
                            "      <th>M</th>\n",
                            "      <td>720</td>\n",
                            "    </tr>\n",
                            "  </tbody>\n",
                            "</table>\n",
                            "</div>"
                        ],
                        "text/plain": [
                            "           consumed\n",
                            "RESOURCES          \n",
                            "A                80\n",
                            "B                80\n",
                            "M               720"
                        ]
                    },
                    "metadata": {},
                    "output_type": "display_data"
                }
            ],
            "source": [
                "import pandas as pd\n",
                "\n",
                "\n",
                "class ProductionModel(AMPL):\n",
                "    \"\"\"\n",
                "    A class representing a production model using AMPL.\n",
                "    \"\"\"\n",
                "\n",
                "    def __init__(self, products, resources, processes):\n",
                "        \"\"\"\n",
                "        Initialize ProductionModel as an AMPL instance.\n",
                "\n",
                "        :param products: A dictionary containing product information.\n",
                "        :param resources: A dictionary containing resource information.\n",
                "        :param processes: A dictionary containing process information.\n",
                "        \"\"\"\n",
                "        super(ProductionModel, self).__init__()\n",
                "\n",
                "        # save data in the model instance\n",
                "        self.products = products\n",
                "        self.resources = resources\n",
                "        self.processes = processes\n",
                "\n",
                "        # flag to monitor solution status\n",
                "        self.solved = False\n",
                "\n",
                "    def load_data(self):\n",
                "        \"\"\"\n",
                "        Prepare the data and pass the information to AMPL.\n",
                "        \"\"\"\n",
                "        # convert the data dictionaries into pandas data frames\n",
                "        products = pd.DataFrame(self.products).T\n",
                "        resources = pd.DataFrame(self.resources).T\n",
                "        processes = pd.DataFrame(self.processes).T\n",
                "\n",
                "        # display the generated data frames\n",
                "        display(products)\n",
                "        display(resources)\n",
                "        display(processes)\n",
                "\n",
                "        # pass data to AMPL\n",
                "        self.set_data(products, \"PRODUCTS\")\n",
                "        self.set_data(resources, \"RESOURCES\")\n",
                "        self.param[\"need\"] = processes.T\n",
                "\n",
                "    def solve(self, solver=\"highs\"):\n",
                "        \"\"\"\n",
                "        Read the model, load the data, set the solver and solve the optimization problem.\n",
                "        \"\"\"\n",
                "        self.read(\"production_planning.mod\")\n",
                "        self.load_data()\n",
                "        self.option[\"solver\"] = solver\n",
                "        super(ProductionModel, self).solve()\n",
                "        self.solved = True\n",
                "\n",
                "    def report(self):\n",
                "        \"\"\"\n",
                "        Solve, if necessary, then report the model solution.\n",
                "        \"\"\"\n",
                "        if not self.solved:\n",
                "            self.solve()\n",
                "\n",
                "        print(f\"Profit = {self.obj['Profit'].value()}\")\n",
                "\n",
                "        print(\"\\nProduction Report\")\n",
                "        Sell = self.var[\"Sell\"].to_pandas()\n",
                "        Sell.rename(columns={Sell.columns[0]: \"produced\"}, inplace=True)\n",
                "        Sell.index.rename(\"PRODUCTS\", inplace=True)\n",
                "        display(Sell)\n",
                "\n",
                "        print(\"\\nResource Report\")\n",
                "        Use = self.var[\"Use\"].to_pandas()\n",
                "        Use.rename(columns={Use.columns[0]: \"consumed\"}, inplace=True)\n",
                "        Use.index.rename(\"RESOURCES\", inplace=True)\n",
                "        display(Use)\n",
                "\n",
                "\n",
                "m = ProductionModel(products, resources, processes)\n",
                "m.report()"
            ]
        }
    ],
    "metadata": {
        "colab": {
            "include_colab_link": true,
            "provenance": []
        },
        "kernelspec": {
            "display_name": "Python 3 (ipykernel)",
            "language": "python",
            "name": "python3"
        },
        "language_info": {
            "codemirror_mode": {
                "name": "ipython",
                "version": 3
            },
            "file_extension": ".py",
            "mimetype": "text/x-python",
            "name": "python",
            "nbconvert_exporter": "python",
            "pygments_lexer": "ipython3",
            "version": "3.11.4"
        },
        "latex_envs": {
            "LaTeX_envs_menu_present": true,
            "autoclose": false,
            "autocomplete": true,
            "bibliofile": "biblio.bib",
            "cite_by": "apalike",
            "current_citInitial": 1,
            "eqLabelWithNumbers": true,
            "eqNumInitial": 1,
            "hotkeys": {
                "equation": "Ctrl-E",
                "itemize": "Ctrl-I"
            },
            "labels_anchors": false,
            "latex_user_defs": false,
            "report_style_numbering": false,
            "user_envs_cfg": false
        }
    },
    "nbformat": 4,
    "nbformat_minor": 1
}
